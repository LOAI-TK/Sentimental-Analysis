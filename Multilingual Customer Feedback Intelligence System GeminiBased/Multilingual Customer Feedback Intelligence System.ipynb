{
 "cells": [
  {
   "cell_type": "code",
   "execution_count": 1,
   "id": "148cbb1a-33b4-43d3-bdb5-62e5257fc37c",
   "metadata": {},
   "outputs": [],
   "source": [
    "import os\n",
    "import time\n",
    "import re\n",
    "import json\n",
    "import pandas as pd\n",
    "from tqdm import tqdm\n",
    "from itertools import cycle\n",
    "import google.generativeai as genai\n",
    "from dotenv import load_dotenv"
   ]
  },
  {
   "cell_type": "code",
   "execution_count": 2,
   "id": "5d755096-567a-43f8-9892-0157caee7563",
   "metadata": {},
   "outputs": [],
   "source": [
    "# ===============================\n",
    "# 📂 2. LOAD DATA \n",
    "# ===============================\n",
    "\n",
    "file_path = \"C:/Users/mloai/Sentimental_Analysis_App/Notebooks/cleaned_full_dataset.csv\"\n",
    "\n",
    "# Load the data\n",
    "df = pd.read_csv(file_path, encoding='utf-8', dtype=str)\n",
    "\n",
    "text_column = \"CLEAN_ANSWER\"\n"
   ]
  },
  {
   "cell_type": "code",
   "execution_count": 3,
   "id": "b9e628b6-8cce-43a1-a299-149e1cd77bc4",
   "metadata": {},
   "outputs": [],
   "source": [
    "# === Load API Keys from .env ===\n",
    "load_dotenv()\n",
    "API_KEYS = [os.getenv(f\"GEMINI_KEY_{i}\") for i in range(1, 10)]\n",
    "API_KEYS = [key for key in API_KEYS if key]\n",
    "if not API_KEYS:\n",
    "    raise ValueError(\"❌ No Gemini API keys found. Please define GEMINI_KEY_1 to GEMINI_KEY_9 in your .env file.\")\n",
    "\n",
    "key_cycle = cycle(API_KEYS)\n",
    "usage_counter = {key: {'success': 0, 'fail': 0} for key in API_KEYS}"
   ]
  },
  {
   "cell_type": "code",
   "execution_count": 4,
   "id": "5e38fa5a-d442-48ca-9201-edd5ea7261fa",
   "metadata": {},
   "outputs": [],
   "source": [
    "# === Prompt Template ===\n",
    "PROMPT_TEMPLATE = {\n",
    "    \"analysis_instructions\": {\n",
    "        \"required_fields\": {\n",
    "            \"final_sentiment\": [\"Positive\", \"Neutral\", \"Negative\"],\n",
    "            \"sarcasm\": [\"Yes\", \"No\"],\n",
    "            \"suggestion\": [\"Yes\", \"No\"],\n",
    "            \"suggestion_text\": [\"Brief summary of the user's suggestion (if any)\", \"None\"],\n",
    "            \"suggestion_type\": [\"Complaint\", \"Feature Request\", \"Operational Improvement\", \"Other\", \"None\"],\n",
    "            \"emotion\": [\n",
    "                \"joy\", \"gratitude\", \"satisfaction\", \"confusion\", \"frustration\",\n",
    "                \"disappointment\", \"worry\", \"anger\", \"resentment\"\n",
    "            ],\n",
    "            \"tone\": [\n",
    "                \"enthusiastic\", \"grateful\", \"polite\", \"professional\",\n",
    "                \"informal\", \"urgent\", \"frustrated\", \"disappointed\", \"angry\", \"sarcastic\"\n",
    "            ],\n",
    "            \"urgency_flag\": [\"Yes\", \"No\"],\n",
    "            \"impact_level\": [\"Low\", \"Medium\", \"High\"],\n",
    "            \"responsible_party\": [\n",
    "                \"delivery team\", \"customer service\", \"billing\",\n",
    "                \"technical support\", \"management\", \"sales\", \"None\"\n",
    "            ],\n",
    "            \"action_flag\": [\"Yes\", \"No\"]\n",
    "        },\n",
    "        \"guidelines\": {\n",
    "            \"1\": \"Focus only on the customer's feedback and implied meaning.\",\n",
    "            \"2\": \"Ignore greetings, emojis, or irrelevant text.\",\n",
    "            \"3\": \"Identify emotional and tonal cues from wording, even if subtle.\",\n",
    "            \"4\": \"Label 'suggestion' as Yes only if the user is proposing an improvement or asking for something.\",\n",
    "            \"5\": \"Use 'suggestion_type' to clarify the nature of the suggestion.\",\n",
    "            \"6\": \"Only assign 'sarcasm' if there are clear indicators like irony, mocking, or conflicting tone and sentiment.\",\n",
    "            \"7\": \"Set 'urgency_flag' to 'Yes' if the customer expresses urgency using time-sensitive language in English or Arabic (e.g., 'immediately', 'as soon as possible', 'now', 'urgent', 'delay', 'still not resolved', OR Arabic phrases like 'حالاً', 'فوراً', 'بسرعة', 'أنتظر', 'لا يزال لم يتم', 'تأخير'). Also set to 'Yes' if the tone is angry, frustrated, or disappointed AND the impact level is 'High'. Otherwise, set to 'No'.\"\n",
    ",\n",
    "            \"8\": \"Set 'impact_level' to High if the issue seriously affects the user's experience or outcome.\",\n",
    "            \"9\": \"Mark 'action_flag' as Yes if the feedback requires a response, escalation, or operational fix.\",\n",
    "            \"10\": \"If no party is clearly responsible, set 'responsible_party' to 'None'.\",\n",
    "            \"11\": \"Ensure 'suggestion_text' is concise and not a full copy of the original input.\"\n",
    "        }\n",
    "    },\n",
    "    \"task\": \"Based on the customer review below, extract all required fields according to the instructions above.\",\n",
    "    \"customer_review\": \"\"\n",
    "}\n"
   ]
  },
  {
   "cell_type": "code",
   "execution_count": 5,
   "id": "52ea1a40-2c88-48d9-b400-2b33faf5e0dd",
   "metadata": {},
   "outputs": [],
   "source": [
    "def call_gemini_api(api_key, customer_text):\n",
    "    genai.configure(api_key=api_key)\n",
    "    model = genai.GenerativeModel(\"gemini-2.5-flash\")\n",
    "\n",
    "    prompt = PROMPT_TEMPLATE.copy()\n",
    "    prompt[\"customer_review\"] = customer_text\n",
    "\n",
    "    prompt_text = (\n",
    "        f\"{json.dumps(prompt['analysis_instructions'], indent=2, ensure_ascii=False)}\\n\\n\"\n",
    "        f\"Customer Review: {customer_text}\"\n",
    "    )\n",
    "\n",
    "    try:\n",
    "        response = model.generate_content(prompt_text)\n",
    "        raw_output = response.text.strip()\n",
    "\n",
    "        # ✅ Remove markdown backticks (```json ... ```)\n",
    "        if raw_output.startswith(\"```\"):\n",
    "            raw_output = re.sub(r\"^```json|```$\", \"\", raw_output.strip(), flags=re.IGNORECASE).strip()\n",
    "\n",
    "        parsed = json.loads(raw_output)\n",
    "        print(f\"✅ Success with key {api_key[:5]}: {parsed}\")\n",
    "        return parsed\n",
    "\n",
    "    except Exception as e:\n",
    "        print(f\"⚠️ API Error with key {api_key[:5]}...: {e}\")\n",
    "        return \"API_ERROR\"\n"
   ]
  },
  {
   "cell_type": "code",
   "execution_count": 6,
   "id": "d184ad8a-5db5-4770-9301-da214d5ea67b",
   "metadata": {},
   "outputs": [],
   "source": [
    "def rotate_gemini_call(row, text_column=\"CLEAN_ANSWER\"):\n",
    "    customer_text = row.get(text_column, \"\")\n",
    "    if not customer_text:\n",
    "        return {}\n",
    "\n",
    "    for _ in range(len(API_KEYS)):\n",
    "        api_key = next(key_cycle)\n",
    "        result = call_gemini_api(api_key, customer_text)\n",
    "        if result != \"API_ERROR\":\n",
    "            usage_counter[api_key]['success'] += 1\n",
    "            time.sleep(6.5)  # breathing time between successful calls\n",
    "            return result\n",
    "        usage_counter[api_key]['fail'] += 1\n",
    "        time.sleep(1.5)\n",
    "    return {}"
   ]
  },
  {
   "cell_type": "code",
   "execution_count": 7,
   "id": "e1257317-cf69-4c7d-aa8c-31bcd04a72a3",
   "metadata": {},
   "outputs": [],
   "source": [
    "# === Run Pipeline ===\n",
    "def run_gemini_pipeline():\n",
    "\n",
    "    df = pd.read_csv(file_path, encoding=\"utf-8\", dtype=str)\n",
    "\n",
    "    # Optional row limiting for testing\n",
    "    row_limit = input(\"🔢 How many rows do you want to process (e.g. 100)? Leave blank for all: \").strip()\n",
    "    if row_limit.isdigit():\n",
    "        df = df.head(int(row_limit))\n",
    "\n",
    "    results = []\n",
    "    print(f\"\\n🔍 Starting Gemini Analysis on {len(df)} rows...\\n\")\n",
    "    with tqdm(total=len(df), desc=\"🔍 Gemini Analysis\", unit=\"row\") as pbar:\n",
    "        for _, row in df.iterrows():\n",
    "            result = rotate_gemini_call(row, text_column)\n",
    "            results.append(result)\n",
    "            pbar.update(1)\n",
    "\n",
    "    results_df = pd.json_normalize(results)\n",
    "    final_df = pd.concat([df.reset_index(drop=True), results_df], axis=1)\n",
    "    final_df.to_csv(\"gemini_sentiment_output.csv\", index=False, encoding=\"utf-8-sig\")\n",
    "    print(\"✅ Saved as gemini_sentiment_output.csv\")"
   ]
  },
  {
   "cell_type": "code",
   "execution_count": 9,
   "id": "7493e9ac-b92b-4a78-921f-8ffc1688dc53",
   "metadata": {},
   "outputs": [
    {
     "name": "stdin",
     "output_type": "stream",
     "text": [
      "🔢 How many rows do you want to process (e.g. 100)? Leave blank for all:  500\n"
     ]
    },
    {
     "name": "stdout",
     "output_type": "stream",
     "text": [
      "\n",
      "🔍 Starting Gemini Analysis on 500 rows...\n",
      "\n"
     ]
    },
    {
     "name": "stderr",
     "output_type": "stream",
     "text": [
      "🔍 Gemini Analysis:   0%|          | 0/500 [00:00<?, ?row/s]"
     ]
    },
    {
     "name": "stdout",
     "output_type": "stream",
     "text": [
      "✅ Success with key AIzaS: {'final_sentiment': 'Negative', 'sarcasm': 'No', 'suggestion': 'Yes', 'suggestion_text': 'Suggests contracting with a high-quality and reputable company to ensure customer and time respect.', 'suggestion_type': 'Operational Improvement', 'emotion': 'disappointment', 'tone': 'polite', 'urgency_flag': 'Yes', 'impact_level': 'High', 'responsible_party': 'management', 'action_flag': 'Yes'}\n"
     ]
    },
    {
     "name": "stderr",
     "output_type": "stream",
     "text": [
      "🔍 Gemini Analysis:   0%|          | 1/500 [00:22<3:03:04, 22.01s/row]"
     ]
    },
    {
     "name": "stdout",
     "output_type": "stream",
     "text": [
      "✅ Success with key AIzaS: {'final_sentiment': 'Negative', 'sarcasm': 'No', 'suggestion': 'Yes', 'suggestion_text': 'Suggests collaborating with better delivery companies to prevent mishandling of products.', 'suggestion_type': 'Operational Improvement', 'emotion': 'frustration', 'tone': 'frustrated', 'urgency_flag': 'No', 'impact_level': 'High', 'responsible_party': 'delivery team', 'action_flag': 'Yes'}\n"
     ]
    },
    {
     "name": "stderr",
     "output_type": "stream",
     "text": [
      "🔍 Gemini Analysis:   0%|          | 2/500 [00:37<2:30:40, 18.15s/row]"
     ]
    },
    {
     "name": "stdout",
     "output_type": "stream",
     "text": [
      "✅ Success with key AIzaS: {'final_sentiment': 'Positive', 'sarcasm': 'No', 'suggestion': 'Yes', 'suggestion_text': 'Extra should provide complete and reliable maintenance service without excuses to build customer trust.', 'suggestion_type': 'Operational Improvement', 'emotion': 'worry', 'tone': 'professional', 'urgency_flag': 'No', 'impact_level': 'Medium', 'responsible_party': 'technical support', 'action_flag': 'Yes'}\n"
     ]
    },
    {
     "name": "stderr",
     "output_type": "stream",
     "text": [
      "🔍 Gemini Analysis:   1%|          | 3/500 [00:56<2:34:33, 18.66s/row]"
     ]
    },
    {
     "name": "stdout",
     "output_type": "stream",
     "text": [
      "✅ Success with key AIzaS: {'final_sentiment': 'Positive', 'sarcasm': 'No', 'suggestion': 'No', 'suggestion_text': 'None', 'suggestion_type': 'None', 'emotion': 'gratitude', 'tone': 'grateful', 'urgency_flag': 'No', 'impact_level': 'Low', 'responsible_party': 'None', 'action_flag': 'No'}\n"
     ]
    },
    {
     "name": "stderr",
     "output_type": "stream",
     "text": [
      "🔍 Gemini Analysis:   1%|          | 4/500 [01:09<2:15:50, 16.43s/row]"
     ]
    },
    {
     "name": "stdout",
     "output_type": "stream",
     "text": [
      "✅ Success with key AIzaS: {'final_sentiment': 'Negative', 'sarcasm': 'No', 'suggestion': 'No', 'suggestion_text': 'None', 'suggestion_type': 'None', 'emotion': 'disappointment', 'tone': 'disappointed', 'urgency_flag': 'Yes', 'impact_level': 'High', 'responsible_party': 'management', 'action_flag': 'Yes'}\n"
     ]
    },
    {
     "name": "stderr",
     "output_type": "stream",
     "text": [
      "🔍 Gemini Analysis:   1%|          | 5/500 [01:27<2:18:43, 16.82s/row]"
     ]
    },
    {
     "name": "stdout",
     "output_type": "stream",
     "text": [
      "✅ Success with key AIzaS: {'final_sentiment': 'Positive', 'sarcasm': 'No', 'suggestion': 'No', 'suggestion_text': 'None', 'suggestion_type': 'None', 'emotion': 'satisfaction', 'tone': 'polite', 'urgency_flag': 'No', 'impact_level': 'Low', 'responsible_party': 'technical support', 'action_flag': 'No'}\n"
     ]
    },
    {
     "name": "stderr",
     "output_type": "stream",
     "text": [
      "🔍 Gemini Analysis:   1%|          | 6/500 [01:38<2:01:58, 14.82s/row]"
     ]
    },
    {
     "name": "stdout",
     "output_type": "stream",
     "text": [
      "✅ Success with key AIzaS: {'final_sentiment': 'Positive', 'sarcasm': 'No', 'suggestion': 'No', 'suggestion_text': 'None', 'suggestion_type': 'None', 'emotion': 'gratitude', 'tone': 'grateful', 'urgency_flag': 'No', 'impact_level': 'Low', 'responsible_party': 'customer service', 'action_flag': 'No'}\n"
     ]
    },
    {
     "name": "stderr",
     "output_type": "stream",
     "text": [
      "🔍 Gemini Analysis:   1%|▏         | 7/500 [01:59<2:18:21, 16.84s/row]"
     ]
    },
    {
     "name": "stdout",
     "output_type": "stream",
     "text": [
      "✅ Success with key AIzaS: {'final_sentiment': 'Positive', 'sarcasm': 'No', 'suggestion': 'No', 'suggestion_text': 'None', 'suggestion_type': 'None', 'emotion': 'gratitude', 'tone': 'grateful', 'urgency_flag': 'No', 'impact_level': 'Low', 'responsible_party': 'None', 'action_flag': 'No'}\n"
     ]
    },
    {
     "name": "stderr",
     "output_type": "stream",
     "text": [
      "🔍 Gemini Analysis:   2%|▏         | 8/500 [02:10<2:03:36, 15.07s/row]"
     ]
    },
    {
     "name": "stdout",
     "output_type": "stream",
     "text": [
      "✅ Success with key AIzaS: {'final_sentiment': 'Neutral', 'sarcasm': 'No', 'suggestion': 'Yes', 'suggestion_text': 'Option to choose delivery timing', 'suggestion_type': 'Feature Request', 'emotion': 'disappointment', 'tone': 'informal', 'urgency_flag': 'No', 'impact_level': 'Low', 'responsible_party': 'delivery team', 'action_flag': 'Yes'}\n"
     ]
    },
    {
     "name": "stderr",
     "output_type": "stream",
     "text": [
      "🔍 Gemini Analysis:   2%|▏         | 9/500 [02:26<2:05:12, 15.30s/row]"
     ]
    },
    {
     "name": "stdout",
     "output_type": "stream",
     "text": [
      "✅ Success with key AIzaS: {'final_sentiment': 'Positive', 'sarcasm': 'No', 'suggestion': 'Yes', 'suggestion_text': 'User suggests offering discounts.', 'suggestion_type': 'Feature Request', 'emotion': 'satisfaction', 'tone': 'informal', 'urgency_flag': 'No', 'impact_level': 'Low', 'responsible_party': 'management', 'action_flag': 'Yes'}\n"
     ]
    },
    {
     "name": "stderr",
     "output_type": "stream",
     "text": [
      "🔍 Gemini Analysis:   2%|▏         | 10/500 [02:47<2:19:03, 17.03s/row]"
     ]
    },
    {
     "name": "stdout",
     "output_type": "stream",
     "text": [
      "✅ Success with key AIzaS: {'final_sentiment': 'Positive', 'sarcasm': 'No', 'suggestion': 'No', 'suggestion_text': 'None', 'suggestion_type': 'None', 'emotion': 'satisfaction', 'tone': 'informal', 'urgency_flag': 'No', 'impact_level': 'Low', 'responsible_party': 'None', 'action_flag': 'No'}\n"
     ]
    },
    {
     "name": "stderr",
     "output_type": "stream",
     "text": [
      "🔍 Gemini Analysis:   2%|▏         | 11/500 [02:56<2:00:27, 14.78s/row]"
     ]
    },
    {
     "name": "stdout",
     "output_type": "stream",
     "text": [
      "✅ Success with key AIzaS: {'final_sentiment': 'Positive', 'sarcasm': 'No', 'suggestion': 'No', 'suggestion_text': 'None', 'suggestion_type': 'None', 'emotion': 'joy', 'tone': 'grateful', 'urgency_flag': 'No', 'impact_level': 'Low', 'responsible_party': 'None', 'action_flag': 'No'}\n"
     ]
    },
    {
     "name": "stderr",
     "output_type": "stream",
     "text": [
      "🔍 Gemini Analysis:   2%|▏         | 12/500 [03:06<1:46:55, 13.15s/row]"
     ]
    },
    {
     "name": "stdout",
     "output_type": "stream",
     "text": [
      "✅ Success with key AIzaS: {'final_sentiment': 'Negative', 'sarcasm': 'No', 'suggestion': 'No', 'suggestion_text': 'None', 'suggestion_type': 'None', 'emotion': 'disappointment', 'tone': 'disappointed', 'urgency_flag': 'No', 'impact_level': 'Medium', 'responsible_party': 'None', 'action_flag': 'Yes'}\n"
     ]
    },
    {
     "name": "stderr",
     "output_type": "stream",
     "text": [
      "🔍 Gemini Analysis:   3%|▎         | 13/500 [03:20<1:49:40, 13.51s/row]"
     ]
    },
    {
     "name": "stdout",
     "output_type": "stream",
     "text": [
      "✅ Success with key AIzaS: {'final_sentiment': 'Negative', 'sarcasm': 'No', 'suggestion': 'Yes', 'suggestion_text': 'Reduce the number of offers', 'suggestion_type': 'Complaint', 'emotion': 'frustration', 'tone': 'informal', 'urgency_flag': 'No', 'impact_level': 'Low', 'responsible_party': 'management', 'action_flag': 'Yes'}\n"
     ]
    },
    {
     "name": "stderr",
     "output_type": "stream",
     "text": [
      "🔍 Gemini Analysis:   3%|▎         | 14/500 [03:34<1:50:08, 13.60s/row]"
     ]
    },
    {
     "name": "stdout",
     "output_type": "stream",
     "text": [
      "✅ Success with key AIzaS: {'final_sentiment': 'Negative', 'sarcasm': 'No', 'suggestion': 'No', 'suggestion_text': 'None', 'suggestion_type': 'None', 'emotion': 'disappointment', 'tone': 'disappointed', 'urgency_flag': 'Yes', 'impact_level': 'High', 'responsible_party': 'technical support', 'action_flag': 'Yes'}\n"
     ]
    },
    {
     "name": "stderr",
     "output_type": "stream",
     "text": [
      "🔍 Gemini Analysis:   3%|▎         | 15/500 [03:53<2:02:59, 15.22s/row]"
     ]
    },
    {
     "name": "stdout",
     "output_type": "stream",
     "text": [
      "✅ Success with key AIzaS: {'final_sentiment': 'Neutral', 'sarcasm': 'No', 'suggestion': 'Yes', 'suggestion_text': 'User suggests continuously making better offers.', 'suggestion_type': 'Operational Improvement', 'emotion': 'disappointment', 'tone': 'polite', 'urgency_flag': 'No', 'impact_level': 'Low', 'responsible_party': 'sales', 'action_flag': 'Yes'}\n"
     ]
    },
    {
     "name": "stderr",
     "output_type": "stream",
     "text": [
      "🔍 Gemini Analysis:   3%|▎         | 16/500 [04:12<2:12:00, 16.36s/row]"
     ]
    },
    {
     "name": "stdout",
     "output_type": "stream",
     "text": [
      "✅ Success with key AIzaS: {'final_sentiment': 'Negative', 'sarcasm': 'No', 'suggestion': 'No', 'suggestion_text': 'None', 'suggestion_type': 'None', 'emotion': 'frustration', 'tone': 'frustrated', 'urgency_flag': 'Yes', 'impact_level': 'High', 'responsible_party': 'customer service', 'action_flag': 'Yes'}\n"
     ]
    },
    {
     "name": "stderr",
     "output_type": "stream",
     "text": [
      "🔍 Gemini Analysis:   3%|▎         | 17/500 [04:36<2:29:20, 18.55s/row]"
     ]
    },
    {
     "name": "stdout",
     "output_type": "stream",
     "text": [
      "✅ Success with key AIzaS: {'final_sentiment': 'Positive', 'sarcasm': 'No', 'suggestion': 'No', 'suggestion_text': 'None', 'suggestion_type': 'None', 'emotion': 'satisfaction', 'tone': 'polite', 'urgency_flag': 'No', 'impact_level': 'Low', 'responsible_party': 'None', 'action_flag': 'No'}\n"
     ]
    },
    {
     "name": "stderr",
     "output_type": "stream",
     "text": [
      "🔍 Gemini Analysis:   4%|▎         | 18/500 [04:46<2:10:27, 16.24s/row]"
     ]
    },
    {
     "name": "stdout",
     "output_type": "stream",
     "text": [
      "✅ Success with key AIzaS: {'final_sentiment': 'Negative', 'sarcasm': 'No', 'suggestion': 'Yes', 'suggestion_text': 'Train customer service staff, especially female employees, due to unprofessionalism in dealing with customers and disrespect towards male colleagues.', 'suggestion_type': 'Operational Improvement', 'emotion': 'frustration', 'tone': 'frustrated', 'urgency_flag': 'Yes', 'impact_level': 'High', 'responsible_party': 'customer service', 'action_flag': 'Yes'}\n"
     ]
    },
    {
     "name": "stderr",
     "output_type": "stream",
     "text": [
      "🔍 Gemini Analysis:   4%|▍         | 19/500 [05:00<2:03:07, 15.36s/row]"
     ]
    },
    {
     "name": "stdout",
     "output_type": "stream",
     "text": [
      "✅ Success with key AIzaS: {'final_sentiment': 'Positive', 'sarcasm': 'No', 'suggestion': 'Yes', 'suggestion_text': 'Customer suggests providing more discounts for loyal customers.', 'suggestion_type': 'Feature Request', 'emotion': 'satisfaction', 'tone': 'polite', 'urgency_flag': 'No', 'impact_level': 'Low', 'responsible_party': 'management', 'action_flag': 'Yes'}\n"
     ]
    },
    {
     "name": "stderr",
     "output_type": "stream",
     "text": [
      "🔍 Gemini Analysis:   4%|▍         | 20/500 [05:11<1:52:48, 14.10s/row]"
     ]
    },
    {
     "name": "stdout",
     "output_type": "stream",
     "text": [
      "✅ Success with key AIzaS: {'final_sentiment': 'Negative', 'sarcasm': 'No', 'suggestion': 'Yes', 'suggestion_text': 'Solve crowding, long waits, and chaos at product payment.', 'suggestion_type': 'Operational Improvement', 'emotion': 'frustration', 'tone': 'frustrated', 'urgency_flag': 'Yes', 'impact_level': 'High', 'responsible_party': 'management', 'action_flag': 'Yes'}\n"
     ]
    },
    {
     "name": "stderr",
     "output_type": "stream",
     "text": [
      "🔍 Gemini Analysis:   4%|▍         | 21/500 [05:23<1:46:58, 13.40s/row]"
     ]
    },
    {
     "name": "stdout",
     "output_type": "stream",
     "text": [
      "✅ Success with key AIzaS: {'final_sentiment': 'Neutral', 'sarcasm': 'No', 'suggestion': 'Yes', 'suggestion_text': 'Provide precise product information', 'suggestion_type': 'Operational Improvement', 'emotion': 'confusion', 'tone': 'informal', 'urgency_flag': 'No', 'impact_level': 'Medium', 'responsible_party': 'None', 'action_flag': 'Yes'}\n"
     ]
    },
    {
     "name": "stderr",
     "output_type": "stream",
     "text": [
      "🔍 Gemini Analysis:   4%|▍         | 22/500 [05:42<2:01:00, 15.19s/row]"
     ]
    },
    {
     "name": "stdout",
     "output_type": "stream",
     "text": [
      "✅ Success with key AIzaS: {'final_sentiment': 'Negative', 'sarcasm': 'No', 'suggestion': 'Yes', 'suggestion_text': 'Request to lower product prices.', 'suggestion_type': 'Operational Improvement', 'emotion': 'disappointment', 'tone': 'informal', 'urgency_flag': 'No', 'impact_level': 'Medium', 'responsible_party': 'management', 'action_flag': 'Yes'}\n"
     ]
    },
    {
     "name": "stderr",
     "output_type": "stream",
     "text": [
      "🔍 Gemini Analysis:   5%|▍         | 23/500 [06:01<2:09:13, 16.26s/row]"
     ]
    },
    {
     "name": "stdout",
     "output_type": "stream",
     "text": [
      "✅ Success with key AIzaS: {'final_sentiment': 'Positive', 'sarcasm': 'No', 'suggestion': 'No', 'suggestion_text': 'None', 'suggestion_type': 'None', 'emotion': ['gratitude', 'satisfaction'], 'tone': ['grateful', 'polite'], 'urgency_flag': 'No', 'impact_level': 'Low', 'responsible_party': 'customer service', 'action_flag': 'No'}\n"
     ]
    },
    {
     "name": "stderr",
     "output_type": "stream",
     "text": [
      "🔍 Gemini Analysis:   5%|▍         | 24/500 [06:15<2:04:57, 15.75s/row]"
     ]
    },
    {
     "name": "stdout",
     "output_type": "stream",
     "text": [
      "✅ Success with key AIzaS: {'final_sentiment': 'Positive', 'sarcasm': 'No', 'suggestion': 'No', 'suggestion_text': 'None', 'suggestion_type': 'None', 'emotion': 'gratitude', 'tone': 'grateful', 'urgency_flag': 'No', 'impact_level': 'Low', 'responsible_party': 'None', 'action_flag': 'No'}\n"
     ]
    },
    {
     "name": "stderr",
     "output_type": "stream",
     "text": [
      "🔍 Gemini Analysis:   5%|▌         | 25/500 [06:27<1:55:51, 14.63s/row]"
     ]
    },
    {
     "name": "stdout",
     "output_type": "stream",
     "text": [
      "✅ Success with key AIzaS: {'final_sentiment': 'Positive', 'sarcasm': 'No', 'suggestion': 'No', 'suggestion_text': 'None', 'suggestion_type': 'None', 'emotion': 'joy', 'tone': 'enthusiastic', 'urgency_flag': 'No', 'impact_level': 'Low', 'responsible_party': 'None', 'action_flag': 'No'}\n"
     ]
    },
    {
     "name": "stderr",
     "output_type": "stream",
     "text": [
      "🔍 Gemini Analysis:   5%|▌         | 26/500 [06:40<1:51:49, 14.15s/row]"
     ]
    },
    {
     "name": "stdout",
     "output_type": "stream",
     "text": [
      "✅ Success with key AIzaS: {'final_sentiment': 'Negative', 'sarcasm': 'No', 'suggestion': 'Yes', 'suggestion_text': 'Reduce the visit price to 100 riyals', 'suggestion_type': 'Complaint', 'emotion': 'disappointment', 'tone': 'informal', 'urgency_flag': 'No', 'impact_level': 'Medium', 'responsible_party': 'management', 'action_flag': 'Yes'}\n"
     ]
    },
    {
     "name": "stderr",
     "output_type": "stream",
     "text": [
      "🔍 Gemini Analysis:   5%|▌         | 27/500 [06:59<2:02:33, 15.55s/row]"
     ]
    },
    {
     "name": "stdout",
     "output_type": "stream",
     "text": [
      "✅ Success with key AIzaS: {'final_sentiment': 'Negative', 'sarcasm': 'No', 'suggestion': 'No', 'suggestion_text': 'None', 'suggestion_type': 'None', 'emotion': 'frustration', 'tone': 'frustrated', 'urgency_flag': 'Yes', 'impact_level': 'High', 'responsible_party': 'customer service', 'action_flag': 'Yes'}\n"
     ]
    },
    {
     "name": "stderr",
     "output_type": "stream",
     "text": [
      "🔍 Gemini Analysis:   6%|▌         | 28/500 [07:12<1:55:50, 14.73s/row]"
     ]
    },
    {
     "name": "stdout",
     "output_type": "stream",
     "text": [
      "✅ Success with key AIzaS: {'final_sentiment': 'Negative', 'sarcasm': 'No', 'suggestion': 'Yes', 'suggestion_text': 'User requests a response/action regarding their pending maintenance request.', 'suggestion_type': 'Complaint', 'emotion': 'frustration', 'tone': 'frustrated', 'urgency_flag': 'Yes', 'impact_level': 'High', 'responsible_party': 'customer service', 'action_flag': 'Yes'}\n"
     ]
    },
    {
     "name": "stderr",
     "output_type": "stream",
     "text": [
      "🔍 Gemini Analysis:   6%|▌         | 29/500 [07:31<2:04:58, 15.92s/row]"
     ]
    },
    {
     "name": "stdout",
     "output_type": "stream",
     "text": [
      "✅ Success with key AIzaS: {'final_sentiment': 'Positive', 'sarcasm': 'No', 'suggestion': 'No', 'suggestion_text': 'None', 'suggestion_type': 'None', 'emotion': 'satisfaction', 'tone': 'polite', 'urgency_flag': 'No', 'impact_level': 'Low', 'responsible_party': 'customer service', 'action_flag': 'No'}\n"
     ]
    },
    {
     "name": "stderr",
     "output_type": "stream",
     "text": [
      "🔍 Gemini Analysis:   6%|▌         | 30/500 [07:43<1:55:59, 14.81s/row]"
     ]
    },
    {
     "name": "stdout",
     "output_type": "stream",
     "text": [
      "✅ Success with key AIzaS: {'final_sentiment': 'Positive', 'sarcasm': 'No', 'suggestion': 'No', 'suggestion_text': 'None', 'suggestion_type': 'None', 'emotion': 'satisfaction', 'tone': 'informal', 'urgency_flag': 'No', 'impact_level': 'Low', 'responsible_party': 'None', 'action_flag': 'No'}\n"
     ]
    },
    {
     "name": "stderr",
     "output_type": "stream",
     "text": [
      "🔍 Gemini Analysis:   6%|▌         | 31/500 [07:54<1:47:02, 13.69s/row]"
     ]
    },
    {
     "name": "stdout",
     "output_type": "stream",
     "text": [
      "✅ Success with key AIzaS: {'final_sentiment': 'Neutral', 'sarcasm': 'No', 'suggestion': 'No', 'suggestion_text': 'None', 'suggestion_type': 'None', 'emotion': 'confusion', 'tone': 'informal', 'urgency_flag': 'No', 'impact_level': 'Low', 'responsible_party': 'None', 'action_flag': 'No'}\n"
     ]
    },
    {
     "name": "stderr",
     "output_type": "stream",
     "text": [
      "🔍 Gemini Analysis:   6%|▋         | 32/500 [08:13<1:59:48, 15.36s/row]"
     ]
    },
    {
     "name": "stdout",
     "output_type": "stream",
     "text": [
      "✅ Success with key AIzaS: {'final_sentiment': 'Positive', 'sarcasm': 'No', 'suggestion': 'No', 'suggestion_text': 'None', 'suggestion_type': 'None', 'emotion': 'gratitude', 'tone': 'grateful', 'urgency_flag': 'No', 'impact_level': 'Low', 'responsible_party': 'None', 'action_flag': 'No'}\n"
     ]
    },
    {
     "name": "stderr",
     "output_type": "stream",
     "text": [
      "🔍 Gemini Analysis:   7%|▋         | 33/500 [08:24<1:48:31, 13.94s/row]"
     ]
    },
    {
     "name": "stdout",
     "output_type": "stream",
     "text": [
      "⚠️ API Error with key AIzaS...: 429 Resource has been exhausted (e.g. check quota).\n",
      "⚠️ API Error with key AIzaS...: 429 Resource has been exhausted (e.g. check quota).\n",
      "⚠️ API Error with key AIzaS...: 429 Resource has been exhausted (e.g. check quota).\n",
      "⚠️ API Error with key AIzaS...: 429 Resource has been exhausted (e.g. check quota).\n",
      "⚠️ API Error with key AIzaS...: 429 Resource has been exhausted (e.g. check quota).\n",
      "⚠️ API Error with key AIzaS...: 429 Resource has been exhausted (e.g. check quota).\n",
      "✅ Success with key AIzaS: {'final_sentiment': 'Positive', 'sarcasm': 'No', 'suggestion': 'No', 'suggestion_text': 'None', 'suggestion_type': 'None', 'emotion': 'satisfaction', 'tone': 'polite', 'urgency_flag': 'No', 'impact_level': 'Low', 'responsible_party': 'None', 'action_flag': 'No'}\n"
     ]
    },
    {
     "name": "stderr",
     "output_type": "stream",
     "text": [
      "🔍 Gemini Analysis:   7%|▋         | 34/500 [08:46<2:06:48, 16.33s/row]"
     ]
    },
    {
     "name": "stdout",
     "output_type": "stream",
     "text": [
      "✅ Success with key AIzaS: {'final_sentiment': 'Neutral', 'sarcasm': 'No', 'suggestion': 'No', 'suggestion_text': 'None', 'suggestion_type': 'None', 'emotion': 'satisfaction', 'tone': 'informal', 'urgency_flag': 'No', 'impact_level': 'Low', 'responsible_party': 'None', 'action_flag': 'No'}\n"
     ]
    },
    {
     "name": "stderr",
     "output_type": "stream",
     "text": [
      "🔍 Gemini Analysis:   7%|▋         | 35/500 [09:00<2:02:08, 15.76s/row]"
     ]
    },
    {
     "name": "stdout",
     "output_type": "stream",
     "text": [
      "✅ Success with key AIzaS: {'final_sentiment': 'Positive', 'sarcasm': 'No', 'suggestion': 'No', 'suggestion_text': 'None', 'suggestion_type': 'None', 'emotion': 'gratitude', 'tone': 'grateful', 'urgency_flag': 'No', 'impact_level': 'Low', 'responsible_party': 'None', 'action_flag': 'No'}\n"
     ]
    },
    {
     "name": "stderr",
     "output_type": "stream",
     "text": [
      "🔍 Gemini Analysis:   7%|▋         | 36/500 [09:10<1:46:52, 13.82s/row]"
     ]
    },
    {
     "name": "stdout",
     "output_type": "stream",
     "text": [
      "✅ Success with key AIzaS: {'final_sentiment': 'Negative', 'sarcasm': 'No', 'suggestion': 'No', 'suggestion_text': 'None', 'suggestion_type': 'None', 'emotion': ['frustration', 'disappointment'], 'tone': ['frustrated', 'disappointed'], 'urgency_flag': 'Yes', 'impact_level': 'High', 'responsible_party': 'customer service', 'action_flag': 'Yes'}\n"
     ]
    },
    {
     "name": "stderr",
     "output_type": "stream",
     "text": [
      "🔍 Gemini Analysis:   7%|▋         | 37/500 [09:27<1:55:50, 15.01s/row]"
     ]
    },
    {
     "name": "stdout",
     "output_type": "stream",
     "text": [
      "✅ Success with key AIzaS: {'final_sentiment': 'Negative', 'sarcasm': 'No', 'suggestion': 'No', 'suggestion_text': 'None', 'suggestion_type': 'None', 'emotion': 'disappointment', 'tone': 'disappointed', 'urgency_flag': 'Yes', 'impact_level': 'High', 'responsible_party': 'billing', 'action_flag': 'Yes'}\n"
     ]
    },
    {
     "name": "stderr",
     "output_type": "stream",
     "text": [
      "🔍 Gemini Analysis:   8%|▊         | 38/500 [09:43<1:57:21, 15.24s/row]"
     ]
    },
    {
     "name": "stdout",
     "output_type": "stream",
     "text": [
      "✅ Success with key AIzaS: {'final_sentiment': 'Neutral', 'sarcasm': 'No', 'suggestion': 'Yes', 'suggestion_text': 'More installment services', 'suggestion_type': 'Feature Request', 'emotion': 'satisfaction', 'tone': 'polite', 'urgency_flag': 'No', 'impact_level': 'Low', 'responsible_party': 'management', 'action_flag': 'Yes'}\n"
     ]
    },
    {
     "name": "stderr",
     "output_type": "stream",
     "text": [
      "🔍 Gemini Analysis:   8%|▊         | 39/500 [09:57<1:54:28, 14.90s/row]"
     ]
    },
    {
     "name": "stdout",
     "output_type": "stream",
     "text": [
      "⚠️ API Error with key AIzaS...: Expecting value: line 1 column 1 (char 0)\n",
      "⚠️ API Error with key AIzaS...: Expecting value: line 1 column 1 (char 0)\n",
      "✅ Success with key AIzaS: {'final_sentiment': 'Neutral', 'sarcasm': 'No', 'suggestion': 'No', 'suggestion_text': 'None', 'suggestion_type': 'None', 'emotion': 'satisfaction', 'tone': 'informal', 'urgency_flag': 'No', 'impact_level': 'Low', 'responsible_party': 'None', 'action_flag': 'No'}\n"
     ]
    },
    {
     "name": "stderr",
     "output_type": "stream",
     "text": [
      "🔍 Gemini Analysis:   8%|▊         | 40/500 [10:33<2:41:48, 21.10s/row]"
     ]
    },
    {
     "name": "stdout",
     "output_type": "stream",
     "text": [
      "✅ Success with key AIzaS: {'final_sentiment': 'Neutral', 'sarcasm': 'No', 'suggestion': 'Yes', 'suggestion_text': 'User suggests adding more products.', 'suggestion_type': 'Feature Request', 'emotion': 'disappointment', 'tone': 'informal', 'urgency_flag': 'No', 'impact_level': 'Medium', 'responsible_party': 'management', 'action_flag': 'Yes'}\n"
     ]
    },
    {
     "name": "stderr",
     "output_type": "stream",
     "text": [
      "🔍 Gemini Analysis:   8%|▊         | 41/500 [10:48<2:26:53, 19.20s/row]"
     ]
    },
    {
     "name": "stdout",
     "output_type": "stream",
     "text": [
      "✅ Success with key AIzaS: {'final_sentiment': 'Positive', 'sarcasm': 'No', 'suggestion': 'No', 'suggestion_text': 'None', 'suggestion_type': 'None', 'emotion': 'gratitude', 'tone': 'grateful', 'urgency_flag': 'No', 'impact_level': 'Low', 'responsible_party': 'None', 'action_flag': 'No'}\n"
     ]
    },
    {
     "name": "stderr",
     "output_type": "stream",
     "text": [
      "🔍 Gemini Analysis:   8%|▊         | 42/500 [10:58<2:07:28, 16.70s/row]"
     ]
    },
    {
     "name": "stdout",
     "output_type": "stream",
     "text": [
      "⚠️ API Error with key AIzaS...: 429 Resource has been exhausted (e.g. check quota).\n",
      "⚠️ API Error with key AIzaS...: 429 Resource has been exhausted (e.g. check quota).\n",
      "⚠️ API Error with key AIzaS...: 429 Resource has been exhausted (e.g. check quota).\n",
      "✅ Success with key AIzaS: {'final_sentiment': 'Neutral', 'sarcasm': 'No', 'suggestion': 'Yes', 'suggestion_text': 'Extend phone technical support availability until the end of the week.', 'suggestion_type': 'Operational Improvement', 'emotion': 'disappointment', 'tone': 'polite', 'urgency_flag': 'No', 'impact_level': 'Medium', 'responsible_party': 'technical support', 'action_flag': 'Yes'}\n"
     ]
    },
    {
     "name": "stderr",
     "output_type": "stream",
     "text": [
      "🔍 Gemini Analysis:   9%|▊         | 43/500 [11:36<2:53:55, 22.83s/row]"
     ]
    },
    {
     "name": "stdout",
     "output_type": "stream",
     "text": [
      "⚠️ API Error with key AIzaS...: 429 Resource has been exhausted (e.g. check quota).\n",
      "✅ Success with key AIzaS: {'final_sentiment': 'Negative', 'sarcasm': 'No', 'suggestion': 'No', 'suggestion_text': 'None', 'suggestion_type': 'None', 'emotion': 'frustration', 'tone': 'frustrated', 'urgency_flag': 'Yes', 'impact_level': 'High', 'responsible_party': 'None', 'action_flag': 'Yes'}\n"
     ]
    },
    {
     "name": "stderr",
     "output_type": "stream",
     "text": [
      "🔍 Gemini Analysis:   9%|▉         | 44/500 [11:48<2:30:13, 19.77s/row]"
     ]
    },
    {
     "name": "stdout",
     "output_type": "stream",
     "text": [
      "✅ Success with key AIzaS: {'final_sentiment': 'Neutral', 'sarcasm': 'No', 'suggestion': 'Yes', 'suggestion_text': 'Clarify if installation is included before delivery.', 'suggestion_type': 'Operational Improvement', 'emotion': 'confusion', 'tone': 'polite', 'urgency_flag': 'No', 'impact_level': 'Low', 'responsible_party': 'delivery team', 'action_flag': 'Yes'}\n"
     ]
    },
    {
     "name": "stderr",
     "output_type": "stream",
     "text": [
      "🔍 Gemini Analysis:   9%|▉         | 45/500 [12:01<2:14:20, 17.72s/row]"
     ]
    },
    {
     "name": "stdout",
     "output_type": "stream",
     "text": [
      "✅ Success with key AIzaS: {'final_sentiment': 'Positive', 'sarcasm': 'No', 'suggestion': 'No', 'suggestion_text': 'None', 'suggestion_type': 'None', 'emotion': 'satisfaction', 'tone': 'polite', 'urgency_flag': 'No', 'impact_level': 'High', 'responsible_party': 'delivery team', 'action_flag': 'No'}\n"
     ]
    },
    {
     "name": "stderr",
     "output_type": "stream",
     "text": [
      "🔍 Gemini Analysis:   9%|▉         | 46/500 [12:17<2:09:14, 17.08s/row]"
     ]
    },
    {
     "name": "stdout",
     "output_type": "stream",
     "text": [
      "⚠️ API Error with key AIzaS...: 429 Resource has been exhausted (e.g. check quota).\n",
      "✅ Success with key AIzaS: {'final_sentiment': 'Positive', 'sarcasm': 'No', 'suggestion': 'No', 'suggestion_text': 'None', 'suggestion_type': 'None', 'emotion': 'gratitude', 'tone': 'grateful', 'urgency_flag': 'No', 'impact_level': 'Low', 'responsible_party': 'None', 'action_flag': 'No'}\n"
     ]
    },
    {
     "name": "stderr",
     "output_type": "stream",
     "text": [
      "🔍 Gemini Analysis:   9%|▉         | 47/500 [12:28<1:56:44, 15.46s/row]"
     ]
    },
    {
     "name": "stdout",
     "output_type": "stream",
     "text": [
      "✅ Success with key AIzaS: {'final_sentiment': 'Positive', 'sarcasm': 'No', 'suggestion': 'No', 'suggestion_text': 'None', 'suggestion_type': 'None', 'emotion': 'gratitude', 'tone': 'grateful', 'urgency_flag': 'No', 'impact_level': 'Low', 'responsible_party': 'None', 'action_flag': 'No'}\n"
     ]
    },
    {
     "name": "stderr",
     "output_type": "stream",
     "text": [
      "🔍 Gemini Analysis:  10%|▉         | 48/500 [12:39<1:46:03, 14.08s/row]"
     ]
    },
    {
     "name": "stdout",
     "output_type": "stream",
     "text": [
      "✅ Success with key AIzaS: {'final_sentiment': 'Positive', 'sarcasm': 'No', 'suggestion': 'Yes', 'suggestion_text': 'Improve professional interaction with customers.', 'suggestion_type': 'Operational Improvement', 'emotion': 'disappointment', 'tone': 'polite', 'urgency_flag': 'No', 'impact_level': 'Medium', 'responsible_party': 'customer service', 'action_flag': 'Yes'}\n"
     ]
    },
    {
     "name": "stderr",
     "output_type": "stream",
     "text": [
      "🔍 Gemini Analysis:  10%|▉         | 49/500 [13:00<2:01:12, 16.12s/row]"
     ]
    },
    {
     "name": "stdout",
     "output_type": "stream",
     "text": [
      "⚠️ API Error with key AIzaS...: 429 Resource has been exhausted (e.g. check quota).\n",
      "⚠️ API Error with key AIzaS...: 429 Resource has been exhausted (e.g. check quota).\n",
      "⚠️ API Error with key AIzaS...: 429 Resource has been exhausted (e.g. check quota).\n",
      "⚠️ API Error with key AIzaS...: 429 Resource has been exhausted (e.g. check quota).\n",
      "⚠️ API Error with key AIzaS...: 429 Resource has been exhausted (e.g. check quota).\n",
      "⚠️ API Error with key AIzaS...: 429 Resource has been exhausted (e.g. check quota).\n",
      "⚠️ API Error with key AIzaS...: 429 Resource has been exhausted (e.g. check quota).\n",
      "⚠️ API Error with key AIzaS...: 429 Resource has been exhausted (e.g. check quota).\n",
      "⚠️ API Error with key AIzaS...: 429 Resource has been exhausted (e.g. check quota).\n"
     ]
    },
    {
     "name": "stderr",
     "output_type": "stream",
     "text": [
      "🔍 Gemini Analysis:  10%|█         | 50/500 [13:17<2:01:49, 16.24s/row]"
     ]
    },
    {
     "name": "stdout",
     "output_type": "stream",
     "text": [
      "⚠️ API Error with key AIzaS...: 429 Resource has been exhausted (e.g. check quota).\n",
      "⚠️ API Error with key AIzaS...: 429 Resource has been exhausted (e.g. check quota).\n",
      "⚠️ API Error with key AIzaS...: 429 Resource has been exhausted (e.g. check quota).\n",
      "⚠️ API Error with key AIzaS...: 429 Resource has been exhausted (e.g. check quota).\n",
      "✅ Success with key AIzaS: {'final_sentiment': 'Negative', 'sarcasm': 'No', 'suggestion': 'Yes', 'suggestion_text': 'User suggests hiring professional installation technicians directly and avoiding third-party contractors due to their practice of adding unnecessary work.', 'suggestion_type': 'Operational Improvement', 'emotion': 'frustration', 'tone': 'frustrated', 'urgency_flag': 'Yes', 'impact_level': 'High', 'responsible_party': 'management', 'action_flag': 'Yes'}\n"
     ]
    },
    {
     "name": "stderr",
     "output_type": "stream",
     "text": [
      "🔍 Gemini Analysis:  10%|█         | 51/500 [13:36<2:08:26, 17.16s/row]"
     ]
    },
    {
     "name": "stdout",
     "output_type": "stream",
     "text": [
      "✅ Success with key AIzaS: {'final_sentiment': 'Neutral', 'sarcasm': 'No', 'suggestion': 'No', 'suggestion_text': 'None', 'suggestion_type': 'None', 'emotion': 'confusion', 'tone': 'informal', 'urgency_flag': 'No', 'impact_level': 'Low', 'responsible_party': 'None', 'action_flag': 'No'}\n"
     ]
    },
    {
     "name": "stderr",
     "output_type": "stream",
     "text": [
      "🔍 Gemini Analysis:  10%|█         | 52/500 [13:51<2:04:31, 16.68s/row]"
     ]
    },
    {
     "name": "stdout",
     "output_type": "stream",
     "text": [
      "✅ Success with key AIzaS: {'final_sentiment': 'Positive', 'sarcasm': 'No', 'suggestion': 'No', 'suggestion_text': 'None', 'suggestion_type': 'None', 'emotion': 'satisfaction', 'tone': 'informal', 'urgency_flag': 'No', 'impact_level': 'Low', 'responsible_party': 'None', 'action_flag': 'No'}\n"
     ]
    },
    {
     "name": "stderr",
     "output_type": "stream",
     "text": [
      "🔍 Gemini Analysis:  11%|█         | 53/500 [14:03<1:52:32, 15.11s/row]"
     ]
    },
    {
     "name": "stdout",
     "output_type": "stream",
     "text": [
      "✅ Success with key AIzaS: {'final_sentiment': 'Negative', 'sarcasm': 'No', 'suggestion': 'Yes', 'suggestion_text': 'Be transparent with customers and adhere to agreements.', 'suggestion_type': 'Operational Improvement', 'emotion': ['disappointment', 'frustration'], 'tone': ['frustrated', 'disappointed'], 'urgency_flag': 'Yes', 'impact_level': 'High', 'responsible_party': 'management', 'action_flag': 'Yes'}\n"
     ]
    },
    {
     "name": "stderr",
     "output_type": "stream",
     "text": [
      "🔍 Gemini Analysis:  11%|█         | 54/500 [14:29<2:17:44, 18.53s/row]"
     ]
    },
    {
     "name": "stdout",
     "output_type": "stream",
     "text": [
      "✅ Success with key AIzaS: {'final_sentiment': 'Neutral', 'sarcasm': 'No', 'suggestion': 'No', 'suggestion_text': 'None', 'suggestion_type': 'None', 'emotion': 'satisfaction', 'tone': 'informal', 'urgency_flag': 'No', 'impact_level': 'Low', 'responsible_party': 'None', 'action_flag': 'No'}\n"
     ]
    },
    {
     "name": "stderr",
     "output_type": "stream",
     "text": [
      "🔍 Gemini Analysis:  11%|█         | 55/500 [14:44<2:08:00, 17.26s/row]"
     ]
    },
    {
     "name": "stdout",
     "output_type": "stream",
     "text": [
      "✅ Success with key AIzaS: {'final_sentiment': 'Positive', 'sarcasm': 'No', 'suggestion': 'Yes', 'suggestion_text': \"Additional benefits for Extra's special customers\", 'suggestion_type': 'Feature Request', 'emotion': 'satisfaction', 'tone': 'polite', 'urgency_flag': 'No', 'impact_level': 'Low', 'responsible_party': 'management', 'action_flag': 'Yes'}\n"
     ]
    },
    {
     "name": "stderr",
     "output_type": "stream",
     "text": [
      "🔍 Gemini Analysis:  11%|█         | 56/500 [14:57<1:58:18, 15.99s/row]"
     ]
    },
    {
     "name": "stdout",
     "output_type": "stream",
     "text": [
      "✅ Success with key AIzaS: {'final_sentiment': 'Negative', 'sarcasm': 'No', 'suggestion': 'No', 'suggestion_text': 'None', 'suggestion_type': 'None', 'emotion': 'disappointment', 'tone': 'disappointed', 'urgency_flag': 'Yes', 'impact_level': 'High', 'responsible_party': 'None', 'action_flag': 'Yes'}\n"
     ]
    },
    {
     "name": "stderr",
     "output_type": "stream",
     "text": [
      "🔍 Gemini Analysis:  11%|█▏        | 57/500 [15:27<2:29:20, 20.23s/row]"
     ]
    },
    {
     "name": "stdout",
     "output_type": "stream",
     "text": [
      "✅ Success with key AIzaS: {'final_sentiment': 'Negative', 'sarcasm': 'No', 'suggestion': 'Yes', 'suggestion_text': 'Focus on delivery and installation timings.', 'suggestion_type': 'Operational Improvement', 'emotion': 'disappointment', 'tone': 'polite', 'urgency_flag': 'No', 'impact_level': 'High', 'responsible_party': 'delivery team', 'action_flag': 'Yes'}\n"
     ]
    },
    {
     "name": "stderr",
     "output_type": "stream",
     "text": [
      "🔍 Gemini Analysis:  12%|█▏        | 58/500 [15:48<2:30:53, 20.48s/row]"
     ]
    },
    {
     "name": "stdout",
     "output_type": "stream",
     "text": [
      "✅ Success with key AIzaS: {'final_sentiment': 'Positive', 'sarcasm': 'No', 'suggestion': 'No', 'suggestion_text': 'None', 'suggestion_type': 'None', 'emotion': 'gratitude', 'tone': 'grateful', 'urgency_flag': 'No', 'impact_level': 'Low', 'responsible_party': 'customer service', 'action_flag': 'No'}\n"
     ]
    },
    {
     "name": "stderr",
     "output_type": "stream",
     "text": [
      "🔍 Gemini Analysis:  12%|█▏        | 59/500 [15:58<2:08:27, 17.48s/row]"
     ]
    },
    {
     "name": "stdout",
     "output_type": "stream",
     "text": [
      "✅ Success with key AIzaS: {'final_sentiment': 'Negative', 'sarcasm': 'No', 'suggestion': 'No', 'suggestion_text': 'None', 'suggestion_type': 'None', 'emotion': 'frustration', 'tone': 'frustrated', 'urgency_flag': 'Yes', 'impact_level': 'High', 'responsible_party': 'management', 'action_flag': 'Yes'}\n"
     ]
    },
    {
     "name": "stderr",
     "output_type": "stream",
     "text": [
      "🔍 Gemini Analysis:  12%|█▏        | 60/500 [16:15<2:07:04, 17.33s/row]"
     ]
    },
    {
     "name": "stdout",
     "output_type": "stream",
     "text": [
      "✅ Success with key AIzaS: {'final_sentiment': 'Neutral', 'sarcasm': 'No', 'suggestion': 'Yes', 'suggestion_text': 'Customer suggests increasing discounts and the number of cashiers.', 'suggestion_type': 'Operational Improvement', 'emotion': 'None', 'tone': 'informal', 'urgency_flag': 'No', 'impact_level': 'Low', 'responsible_party': 'management', 'action_flag': 'Yes'}\n"
     ]
    },
    {
     "name": "stderr",
     "output_type": "stream",
     "text": [
      "🔍 Gemini Analysis:  12%|█▏        | 61/500 [16:38<2:19:08, 19.02s/row]"
     ]
    },
    {
     "name": "stdout",
     "output_type": "stream",
     "text": [
      "✅ Success with key AIzaS: {'final_sentiment': 'Neutral', 'sarcasm': 'No', 'suggestion': 'Yes', 'suggestion_text': 'Inquiry about available offers.', 'suggestion_type': 'Other', 'emotion': 'confusion', 'tone': 'informal', 'urgency_flag': 'No', 'impact_level': 'Low', 'responsible_party': 'sales', 'action_flag': 'Yes'}\n"
     ]
    },
    {
     "name": "stderr",
     "output_type": "stream",
     "text": [
      "🔍 Gemini Analysis:  12%|█▏        | 62/500 [17:08<2:41:45, 22.16s/row]"
     ]
    },
    {
     "name": "stdout",
     "output_type": "stream",
     "text": [
      "✅ Success with key AIzaS: {'final_sentiment': 'Positive', 'sarcasm': 'No', 'suggestion': 'No', 'suggestion_text': 'None', 'suggestion_type': 'None', 'emotion': 'satisfaction', 'tone': 'polite', 'urgency_flag': 'No', 'impact_level': 'Low', 'responsible_party': 'None', 'action_flag': 'No'}\n"
     ]
    },
    {
     "name": "stderr",
     "output_type": "stream",
     "text": [
      "🔍 Gemini Analysis:  13%|█▎        | 63/500 [17:22<2:24:47, 19.88s/row]"
     ]
    },
    {
     "name": "stdout",
     "output_type": "stream",
     "text": [
      "✅ Success with key AIzaS: {'final_sentiment': 'Positive', 'sarcasm': 'No', 'suggestion': 'Yes', 'suggestion_text': 'Implement random draws on invoices periodically', 'suggestion_type': 'Feature Request', 'emotion': 'satisfaction', 'tone': 'polite', 'urgency_flag': 'No', 'impact_level': 'Low', 'responsible_party': 'management', 'action_flag': 'Yes'}\n"
     ]
    },
    {
     "name": "stderr",
     "output_type": "stream",
     "text": [
      "🔍 Gemini Analysis:  13%|█▎        | 64/500 [17:42<2:23:24, 19.74s/row]"
     ]
    },
    {
     "name": "stdout",
     "output_type": "stream",
     "text": [
      "✅ Success with key AIzaS: {'final_sentiment': 'Neutral', 'sarcasm': 'No', 'suggestion': 'Yes', 'suggestion_text': 'User is requesting more discount.', 'suggestion_type': 'Feature Request', 'emotion': 'None', 'tone': 'informal', 'urgency_flag': 'No', 'impact_level': 'Low', 'responsible_party': 'sales', 'action_flag': 'Yes'}\n"
     ]
    },
    {
     "name": "stderr",
     "output_type": "stream",
     "text": [
      "🔍 Gemini Analysis:  13%|█▎        | 65/500 [17:58<2:14:39, 18.57s/row]"
     ]
    },
    {
     "name": "stdout",
     "output_type": "stream",
     "text": [
      "✅ Success with key AIzaS: {'final_sentiment': 'Negative', 'sarcasm': 'No', 'suggestion': 'Yes', 'suggestion_text': 'Request to reduce the price', 'suggestion_type': 'Complaint', 'emotion': 'disappointment', 'tone': 'informal', 'urgency_flag': 'No', 'impact_level': 'High', 'responsible_party': 'management', 'action_flag': 'Yes'}\n"
     ]
    },
    {
     "name": "stderr",
     "output_type": "stream",
     "text": [
      "🔍 Gemini Analysis:  13%|█▎        | 66/500 [18:18<2:17:33, 19.02s/row]"
     ]
    },
    {
     "name": "stdout",
     "output_type": "stream",
     "text": [
      "✅ Success with key AIzaS: {'final_sentiment': 'Neutral', 'sarcasm': 'No', 'suggestion': 'Yes', 'suggestion_text': 'Immediate maintenance', 'suggestion_type': 'Operational Improvement', 'emotion': 'worry', 'tone': 'urgent', 'urgency_flag': 'Yes', 'impact_level': 'Medium', 'responsible_party': 'technical support', 'action_flag': 'Yes'}\n"
     ]
    },
    {
     "name": "stderr",
     "output_type": "stream",
     "text": [
      "🔍 Gemini Analysis:  13%|█▎        | 67/500 [18:44<2:33:19, 21.25s/row]"
     ]
    },
    {
     "name": "stdout",
     "output_type": "stream",
     "text": [
      "✅ Success with key AIzaS: {'final_sentiment': 'Positive', 'sarcasm': 'No', 'suggestion': 'Yes', 'suggestion_text': 'User would like to win a valuable prize as a loyal, long-time customer.', 'suggestion_type': 'Feature Request', 'emotion': 'satisfaction', 'tone': 'polite', 'urgency_flag': 'No', 'impact_level': 'Low', 'responsible_party': 'management', 'action_flag': 'Yes'}\n"
     ]
    },
    {
     "name": "stderr",
     "output_type": "stream",
     "text": [
      "🔍 Gemini Analysis:  14%|█▎        | 68/500 [19:12<2:46:24, 23.11s/row]"
     ]
    },
    {
     "name": "stdout",
     "output_type": "stream",
     "text": [
      "✅ Success with key AIzaS: {'final_sentiment': 'Positive', 'sarcasm': 'No', 'suggestion': 'No', 'suggestion_text': 'None', 'suggestion_type': 'None', 'emotion': 'satisfaction', 'tone': 'polite', 'urgency_flag': 'No', 'impact_level': 'Low', 'responsible_party': 'None', 'action_flag': 'No'}\n"
     ]
    },
    {
     "name": "stderr",
     "output_type": "stream",
     "text": [
      "🔍 Gemini Analysis:  14%|█▍        | 69/500 [19:23<2:21:28, 19.69s/row]"
     ]
    },
    {
     "name": "stdout",
     "output_type": "stream",
     "text": [
      "✅ Success with key AIzaS: {'final_sentiment': 'Negative', 'sarcasm': 'No', 'suggestion': 'Yes', 'suggestion_text': 'Customer suggests improving product variety and speeding up the cashier experience.', 'suggestion_type': 'Operational Improvement', 'emotion': 'frustration', 'tone': 'frustrated', 'urgency_flag': 'Yes', 'impact_level': 'High', 'responsible_party': 'management', 'action_flag': 'Yes'}\n"
     ]
    },
    {
     "name": "stderr",
     "output_type": "stream",
     "text": [
      "🔍 Gemini Analysis:  14%|█▍        | 70/500 [19:38<2:10:20, 18.19s/row]"
     ]
    },
    {
     "name": "stdout",
     "output_type": "stream",
     "text": [
      "✅ Success with key AIzaS: {'final_sentiment': 'Negative', 'sarcasm': 'No', 'suggestion': 'Yes', 'suggestion_text': 'Staff should have better knowledge of store inventory/products.', 'suggestion_type': 'Operational Improvement', 'emotion': 'disappointment', 'tone': 'informal', 'urgency_flag': 'No', 'impact_level': 'Medium', 'responsible_party': 'management', 'action_flag': 'Yes'}\n"
     ]
    },
    {
     "name": "stderr",
     "output_type": "stream",
     "text": [
      "🔍 Gemini Analysis:  14%|█▍        | 71/500 [19:51<1:59:02, 16.65s/row]"
     ]
    },
    {
     "name": "stdout",
     "output_type": "stream",
     "text": [
      "✅ Success with key AIzaS: {'final_sentiment': 'Positive', 'sarcasm': 'No', 'suggestion': 'No', 'suggestion_text': 'None', 'suggestion_type': 'None', 'emotion': 'gratitude', 'tone': 'grateful', 'urgency_flag': 'No', 'impact_level': 'Low', 'responsible_party': 'sales', 'action_flag': 'No'}\n"
     ]
    },
    {
     "name": "stderr",
     "output_type": "stream",
     "text": [
      "🔍 Gemini Analysis:  14%|█▍        | 72/500 [20:03<1:47:54, 15.13s/row]"
     ]
    },
    {
     "name": "stdout",
     "output_type": "stream",
     "text": [
      "✅ Success with key AIzaS: {'final_sentiment': 'Negative', 'sarcasm': 'No', 'suggestion': 'Yes', 'suggestion_text': \"Request to review installation supervisor's performance due to poor behavior and refusal to engage with customers.\", 'suggestion_type': 'Complaint', 'emotion': 'frustration', 'tone': 'frustrated', 'urgency_flag': 'Yes', 'impact_level': 'High', 'responsible_party': 'delivery team', 'action_flag': 'Yes'}\n"
     ]
    },
    {
     "name": "stderr",
     "output_type": "stream",
     "text": [
      "🔍 Gemini Analysis:  15%|█▍        | 73/500 [20:26<2:05:31, 17.64s/row]"
     ]
    },
    {
     "name": "stdout",
     "output_type": "stream",
     "text": [
      "✅ Success with key AIzaS: {'final_sentiment': 'Positive', 'sarcasm': 'No', 'suggestion': 'No', 'suggestion_text': 'None', 'suggestion_type': 'None', 'emotion': 'satisfaction', 'tone': 'polite', 'urgency_flag': 'No', 'impact_level': 'High', 'responsible_party': 'None', 'action_flag': 'No'}\n"
     ]
    },
    {
     "name": "stderr",
     "output_type": "stream",
     "text": [
      "🔍 Gemini Analysis:  15%|█▍        | 74/500 [20:41<1:59:33, 16.84s/row]"
     ]
    },
    {
     "name": "stdout",
     "output_type": "stream",
     "text": [
      "✅ Success with key AIzaS: {'final_sentiment': 'Neutral', 'sarcasm': 'No', 'suggestion': 'No', 'suggestion_text': 'None', 'suggestion_type': 'None', 'emotion': 'satisfaction', 'tone': 'polite', 'urgency_flag': 'No', 'impact_level': 'Low', 'responsible_party': 'None', 'action_flag': 'No'}\n"
     ]
    },
    {
     "name": "stderr",
     "output_type": "stream",
     "text": [
      "🔍 Gemini Analysis:  15%|█▌        | 75/500 [21:08<2:21:25, 19.97s/row]"
     ]
    },
    {
     "name": "stdout",
     "output_type": "stream",
     "text": [
      "✅ Success with key AIzaS: {'final_sentiment': 'Positive', 'sarcasm': 'No', 'suggestion': 'Yes', 'suggestion_text': 'User suggests implementing a loyalty program.', 'suggestion_type': 'Feature Request', 'emotion': 'satisfaction', 'tone': 'polite', 'urgency_flag': 'No', 'impact_level': 'Low', 'responsible_party': 'management', 'action_flag': 'Yes'}\n"
     ]
    },
    {
     "name": "stderr",
     "output_type": "stream",
     "text": [
      "🔍 Gemini Analysis:  15%|█▌        | 76/500 [21:23<2:10:13, 18.43s/row]"
     ]
    },
    {
     "name": "stdout",
     "output_type": "stream",
     "text": [
      "✅ Success with key AIzaS: {'final_sentiment': 'Negative', 'sarcasm': 'No', 'suggestion': 'No', 'suggestion_text': 'None', 'suggestion_type': 'None', 'emotion': 'disappointment', 'tone': 'disappointed', 'urgency_flag': 'No', 'impact_level': 'Low', 'responsible_party': 'None', 'action_flag': 'Yes'}\n"
     ]
    },
    {
     "name": "stderr",
     "output_type": "stream",
     "text": [
      "🔍 Gemini Analysis:  15%|█▌        | 77/500 [21:41<2:07:50, 18.13s/row]"
     ]
    },
    {
     "name": "stdout",
     "output_type": "stream",
     "text": [
      "✅ Success with key AIzaS: {'final_sentiment': 'Positive', 'sarcasm': 'No', 'suggestion': 'No', 'suggestion_text': 'None', 'suggestion_type': 'None', 'emotion': 'gratitude', 'tone': 'grateful', 'urgency_flag': 'No', 'impact_level': 'Low', 'responsible_party': 'None', 'action_flag': 'No'}\n"
     ]
    },
    {
     "name": "stderr",
     "output_type": "stream",
     "text": [
      "🔍 Gemini Analysis:  16%|█▌        | 78/500 [21:53<1:56:17, 16.53s/row]"
     ]
    },
    {
     "name": "stdout",
     "output_type": "stream",
     "text": [
      "✅ Success with key AIzaS: {'final_sentiment': 'Negative', 'sarcasm': 'No', 'suggestion': 'Yes', 'suggestion_text': 'Ensure a sufficient number of marketers are provided.', 'suggestion_type': 'Operational Improvement', 'emotion': 'None', 'tone': 'polite', 'urgency_flag': 'No', 'impact_level': 'High', 'responsible_party': 'management', 'action_flag': 'Yes'}\n"
     ]
    },
    {
     "name": "stderr",
     "output_type": "stream",
     "text": [
      "🔍 Gemini Analysis:  16%|█▌        | 79/500 [22:11<1:58:12, 16.85s/row]"
     ]
    },
    {
     "name": "stdout",
     "output_type": "stream",
     "text": [
      "✅ Success with key AIzaS: {'final_sentiment': 'Positive', 'sarcasm': 'No', 'suggestion': 'No', 'suggestion_text': 'None', 'suggestion_type': 'None', 'emotion': 'satisfaction', 'tone': 'informal', 'urgency_flag': 'No', 'impact_level': 'Low', 'responsible_party': 'None', 'action_flag': 'No'}\n"
     ]
    },
    {
     "name": "stderr",
     "output_type": "stream",
     "text": [
      "🔍 Gemini Analysis:  16%|█▌        | 80/500 [22:23<1:47:03, 15.29s/row]"
     ]
    },
    {
     "name": "stdout",
     "output_type": "stream",
     "text": [
      "✅ Success with key AIzaS: {'final_sentiment': 'Positive', 'sarcasm': 'No', 'suggestion': 'No', 'suggestion_text': 'None', 'suggestion_type': 'None', 'emotion': 'satisfaction', 'tone': 'enthusiastic', 'urgency_flag': 'No', 'impact_level': 'Low', 'responsible_party': 'None', 'action_flag': 'No'}\n"
     ]
    },
    {
     "name": "stderr",
     "output_type": "stream",
     "text": [
      "🔍 Gemini Analysis:  16%|█▌        | 81/500 [22:40<1:50:16, 15.79s/row]"
     ]
    },
    {
     "name": "stdout",
     "output_type": "stream",
     "text": [
      "✅ Success with key AIzaS: {'final_sentiment': 'Negative', 'sarcasm': 'No', 'suggestion': 'No', 'suggestion_text': 'None', 'suggestion_type': 'None', 'emotion': 'frustration', 'tone': 'frustrated', 'urgency_flag': 'Yes', 'impact_level': 'High', 'responsible_party': 'technical support', 'action_flag': 'Yes'}\n"
     ]
    },
    {
     "name": "stderr",
     "output_type": "stream",
     "text": [
      "🔍 Gemini Analysis:  16%|█▋        | 82/500 [22:51<1:40:07, 14.37s/row]"
     ]
    },
    {
     "name": "stdout",
     "output_type": "stream",
     "text": [
      "✅ Success with key AIzaS: {'final_sentiment': 'Positive', 'sarcasm': 'No', 'suggestion': 'No', 'suggestion_text': 'None', 'suggestion_type': 'None', 'emotion': 'satisfaction', 'tone': 'polite', 'urgency_flag': 'No', 'impact_level': 'Low', 'responsible_party': 'None', 'action_flag': 'No'}\n"
     ]
    },
    {
     "name": "stderr",
     "output_type": "stream",
     "text": [
      "🔍 Gemini Analysis:  17%|█▋        | 83/500 [23:04<1:36:46, 13.92s/row]"
     ]
    },
    {
     "name": "stdout",
     "output_type": "stream",
     "text": [
      "✅ Success with key AIzaS: {'final_sentiment': 'Neutral', 'sarcasm': 'No', 'suggestion': 'Yes', 'suggestion_text': 'Suggests that the payment method should always be asked from the customer.', 'suggestion_type': 'Operational Improvement', 'emotion': 'disappointment', 'tone': 'polite', 'urgency_flag': 'Yes', 'impact_level': 'High', 'responsible_party': 'customer service', 'action_flag': 'Yes'}\n"
     ]
    },
    {
     "name": "stderr",
     "output_type": "stream",
     "text": [
      "🔍 Gemini Analysis:  17%|█▋        | 84/500 [23:44<2:32:34, 22.01s/row]"
     ]
    },
    {
     "name": "stdout",
     "output_type": "stream",
     "text": [
      "✅ Success with key AIzaS: {'final_sentiment': 'Neutral', 'sarcasm': 'No', 'suggestion': 'Yes', 'suggestion_text': 'Arrange erection and connection', 'suggestion_type': 'Operational Improvement', 'emotion': 'satisfaction', 'tone': 'polite', 'urgency_flag': 'Yes', 'impact_level': 'Low', 'responsible_party': 'delivery team', 'action_flag': 'Yes'}\n"
     ]
    },
    {
     "name": "stderr",
     "output_type": "stream",
     "text": [
      "🔍 Gemini Analysis:  17%|█▋        | 85/500 [24:20<2:59:53, 26.01s/row]"
     ]
    },
    {
     "name": "stdout",
     "output_type": "stream",
     "text": [
      "✅ Success with key AIzaS: {'final_sentiment': 'Positive', 'sarcasm': 'No', 'suggestion': 'Yes', 'suggestion_text': 'To establish a clear policy for product maintenance and its duration, as customers might miss out on free services and it could affect sales.', 'suggestion_type': 'Operational Improvement', 'emotion': 'satisfaction', 'tone': 'professional', 'urgency_flag': 'No', 'impact_level': 'High', 'responsible_party': 'management', 'action_flag': 'Yes'}\n"
     ]
    },
    {
     "name": "stderr",
     "output_type": "stream",
     "text": [
      "🔍 Gemini Analysis:  17%|█▋        | 86/500 [24:36<2:39:57, 23.18s/row]"
     ]
    },
    {
     "name": "stdout",
     "output_type": "stream",
     "text": [
      "✅ Success with key AIzaS: {'final_sentiment': 'Positive', 'sarcasm': 'No', 'suggestion': 'No', 'suggestion_text': 'None', 'suggestion_type': 'None', 'emotion': 'gratitude', 'tone': 'grateful', 'urgency_flag': 'No', 'impact_level': 'Low', 'responsible_party': 'customer service', 'action_flag': 'No'}\n"
     ]
    },
    {
     "name": "stderr",
     "output_type": "stream",
     "text": [
      "🔍 Gemini Analysis:  17%|█▋        | 87/500 [24:50<2:19:15, 20.23s/row]"
     ]
    },
    {
     "name": "stdout",
     "output_type": "stream",
     "text": [
      "✅ Success with key AIzaS: {'final_sentiment': 'Positive', 'sarcasm': 'No', 'suggestion': 'Yes', 'suggestion_text': 'Request to maintain high quality standards.', 'suggestion_type': 'Operational Improvement', 'emotion': 'satisfaction', 'tone': 'polite', 'urgency_flag': 'No', 'impact_level': 'Low', 'responsible_party': 'None', 'action_flag': 'Yes'}\n"
     ]
    },
    {
     "name": "stderr",
     "output_type": "stream",
     "text": [
      "🔍 Gemini Analysis:  18%|█▊        | 88/500 [25:10<2:18:13, 20.13s/row]"
     ]
    },
    {
     "name": "stdout",
     "output_type": "stream",
     "text": [
      "✅ Success with key AIzaS: {'final_sentiment': 'Positive', 'sarcasm': 'No', 'suggestion': 'No', 'suggestion_text': 'None', 'suggestion_type': 'None', 'emotion': 'gratitude', 'tone': 'grateful', 'urgency_flag': 'No', 'impact_level': 'Low', 'responsible_party': 'None', 'action_flag': 'No'}\n"
     ]
    },
    {
     "name": "stderr",
     "output_type": "stream",
     "text": [
      "🔍 Gemini Analysis:  18%|█▊        | 89/500 [25:19<1:56:32, 17.01s/row]"
     ]
    },
    {
     "name": "stdout",
     "output_type": "stream",
     "text": [
      "✅ Success with key AIzaS: {'final_sentiment': 'Negative', 'sarcasm': 'No', 'suggestion': 'Yes', 'suggestion_text': 'Bring installation supplies like a water inlet regulator and an electrical connector.', 'suggestion_type': 'Operational Improvement', 'emotion': 'frustration', 'tone': 'informal', 'urgency_flag': 'No', 'impact_level': 'High', 'responsible_party': 'delivery team', 'action_flag': 'Yes'}\n"
     ]
    },
    {
     "name": "stderr",
     "output_type": "stream",
     "text": [
      "🔍 Gemini Analysis:  18%|█▊        | 90/500 [25:35<1:52:59, 16.54s/row]"
     ]
    },
    {
     "name": "stdout",
     "output_type": "stream",
     "text": [
      "✅ Success with key AIzaS: {'final_sentiment': 'Negative', 'sarcasm': 'No', 'suggestion': 'No', 'suggestion_text': 'None', 'suggestion_type': 'None', 'emotion': 'frustration', 'tone': 'frustrated', 'urgency_flag': 'Yes', 'impact_level': 'High', 'responsible_party': 'delivery team', 'action_flag': 'Yes'}\n"
     ]
    },
    {
     "name": "stderr",
     "output_type": "stream",
     "text": [
      "🔍 Gemini Analysis:  18%|█▊        | 91/500 [25:49<1:47:32, 15.78s/row]"
     ]
    },
    {
     "name": "stdout",
     "output_type": "stream",
     "text": [
      "✅ Success with key AIzaS: {'final_sentiment': 'Negative', 'sarcasm': 'No', 'suggestion': 'No', 'suggestion_text': 'None', 'suggestion_type': 'None', 'emotion': 'disappointment', 'tone': 'disappointed', 'urgency_flag': 'Yes', 'impact_level': 'High', 'responsible_party': 'billing', 'action_flag': 'Yes'}\n"
     ]
    },
    {
     "name": "stderr",
     "output_type": "stream",
     "text": [
      "🔍 Gemini Analysis:  18%|█▊        | 92/500 [26:02<1:42:47, 15.12s/row]"
     ]
    },
    {
     "name": "stdout",
     "output_type": "stream",
     "text": [
      "✅ Success with key AIzaS: {'final_sentiment': 'Negative', 'sarcasm': 'No', 'suggestion': 'Yes', 'suggestion_text': 'Improve professionalism, quality, and customer interaction of delivery workers.', 'suggestion_type': 'Operational Improvement', 'emotion': 'disappointment', 'tone': 'professional', 'urgency_flag': 'Yes', 'impact_level': 'High', 'responsible_party': 'delivery team', 'action_flag': 'Yes'}\n"
     ]
    },
    {
     "name": "stderr",
     "output_type": "stream",
     "text": [
      "🔍 Gemini Analysis:  19%|█▊        | 93/500 [26:21<1:49:39, 16.17s/row]"
     ]
    },
    {
     "name": "stdout",
     "output_type": "stream",
     "text": [
      "✅ Success with key AIzaS: {'final_sentiment': 'Positive', 'sarcasm': 'No', 'suggestion': 'No', 'suggestion_text': 'None', 'suggestion_type': 'None', 'emotion': 'gratitude', 'tone': 'grateful', 'urgency_flag': 'No', 'impact_level': 'Low', 'responsible_party': 'delivery team', 'action_flag': 'No'}\n"
     ]
    },
    {
     "name": "stderr",
     "output_type": "stream",
     "text": [
      "🔍 Gemini Analysis:  19%|█▉        | 94/500 [26:33<1:41:44, 15.04s/row]"
     ]
    },
    {
     "name": "stdout",
     "output_type": "stream",
     "text": [
      "✅ Success with key AIzaS: {'final_sentiment': 'Neutral', 'sarcasm': 'No', 'suggestion': 'Yes', 'suggestion_text': 'Ensure delivery and installation are on time and performed by professional staff.', 'suggestion_type': 'Operational Improvement', 'emotion': 'worry', 'tone': 'professional', 'urgency_flag': 'No', 'impact_level': 'High', 'responsible_party': 'delivery team', 'action_flag': 'Yes'}\n"
     ]
    },
    {
     "name": "stderr",
     "output_type": "stream",
     "text": [
      "🔍 Gemini Analysis:  19%|█▉        | 95/500 [27:08<2:20:46, 20.86s/row]"
     ]
    },
    {
     "name": "stdout",
     "output_type": "stream",
     "text": [
      "✅ Success with key AIzaS: {'final_sentiment': 'Negative', 'sarcasm': 'No', 'suggestion': 'Yes', 'suggestion_text': 'Technician did not clean up after AC installation, leaving carton remains under the device.', 'suggestion_type': 'Operational Improvement', 'emotion': 'disappointment', 'tone': 'disappointed', 'urgency_flag': 'No', 'impact_level': 'Low', 'responsible_party': 'delivery team', 'action_flag': 'Yes'}\n"
     ]
    },
    {
     "name": "stderr",
     "output_type": "stream",
     "text": [
      "🔍 Gemini Analysis:  19%|█▉        | 96/500 [27:24<2:11:24, 19.52s/row]"
     ]
    },
    {
     "name": "stdout",
     "output_type": "stream",
     "text": [
      "✅ Success with key AIzaS: {'final_sentiment': 'Neutral', 'sarcasm': 'No', 'suggestion': 'No', 'suggestion_text': 'None', 'suggestion_type': 'None', 'emotion': 'satisfaction', 'tone': 'polite', 'urgency_flag': 'No', 'impact_level': 'Low', 'responsible_party': 'customer service', 'action_flag': 'No'}\n"
     ]
    },
    {
     "name": "stderr",
     "output_type": "stream",
     "text": [
      "🔍 Gemini Analysis:  19%|█▉        | 97/500 [27:49<2:22:36, 21.23s/row]"
     ]
    },
    {
     "name": "stdout",
     "output_type": "stream",
     "text": [
      "✅ Success with key AIzaS: {'final_sentiment': 'Positive', 'sarcasm': 'No', 'suggestion': 'No', 'suggestion_text': 'None', 'suggestion_type': 'None', 'emotion': 'satisfaction', 'tone': 'enthusiastic', 'urgency_flag': 'No', 'impact_level': 'Low', 'responsible_party': 'None', 'action_flag': 'No'}\n"
     ]
    },
    {
     "name": "stderr",
     "output_type": "stream",
     "text": [
      "🔍 Gemini Analysis:  20%|█▉        | 98/500 [28:08<2:17:40, 20.55s/row]"
     ]
    },
    {
     "name": "stdout",
     "output_type": "stream",
     "text": [
      "⚠️ API Error with key AIzaS...: 429 Resource has been exhausted (e.g. check quota).\n",
      "✅ Success with key AIzaS: {'final_sentiment': 'Positive', 'sarcasm': 'No', 'suggestion': 'No', 'suggestion_text': 'None', 'suggestion_type': 'None', 'emotion': 'satisfaction', 'tone': 'polite', 'urgency_flag': 'No', 'impact_level': 'Low', 'responsible_party': 'sales', 'action_flag': 'No'}\n"
     ]
    },
    {
     "name": "stderr",
     "output_type": "stream",
     "text": [
      "🔍 Gemini Analysis:  20%|█▉        | 99/500 [28:30<2:19:03, 20.81s/row]"
     ]
    },
    {
     "name": "stdout",
     "output_type": "stream",
     "text": [
      "✅ Success with key AIzaS: {'final_sentiment': 'Positive', 'sarcasm': 'No', 'suggestion': 'No', 'suggestion_text': 'None', 'suggestion_type': 'None', 'emotion': 'satisfaction', 'tone': 'grateful', 'urgency_flag': 'No', 'impact_level': 'Low', 'responsible_party': 'delivery team', 'action_flag': 'No'}\n"
     ]
    },
    {
     "name": "stderr",
     "output_type": "stream",
     "text": [
      "🔍 Gemini Analysis:  20%|██        | 100/500 [28:45<2:08:19, 19.25s/row]"
     ]
    },
    {
     "name": "stdout",
     "output_type": "stream",
     "text": [
      "✅ Success with key AIzaS: {'final_sentiment': 'Positive', 'sarcasm': 'No', 'suggestion': 'No', 'suggestion_text': 'None', 'suggestion_type': 'None', 'emotion': 'satisfaction', 'tone': 'informal', 'urgency_flag': 'No', 'impact_level': 'Low', 'responsible_party': 'None', 'action_flag': 'No'}\n"
     ]
    },
    {
     "name": "stderr",
     "output_type": "stream",
     "text": [
      "🔍 Gemini Analysis:  20%|██        | 101/500 [28:57<1:53:05, 17.01s/row]"
     ]
    },
    {
     "name": "stdout",
     "output_type": "stream",
     "text": [
      "✅ Success with key AIzaS: {'final_sentiment': 'Positive', 'sarcasm': 'No', 'suggestion': 'No', 'suggestion_text': 'None', 'suggestion_type': 'None', 'emotion': 'gratitude', 'tone': 'grateful', 'urgency_flag': 'No', 'impact_level': 'Low', 'responsible_party': 'customer service', 'action_flag': 'No'}\n"
     ]
    },
    {
     "name": "stderr",
     "output_type": "stream",
     "text": [
      "🔍 Gemini Analysis:  20%|██        | 102/500 [29:23<2:09:51, 19.58s/row]"
     ]
    },
    {
     "name": "stdout",
     "output_type": "stream",
     "text": [
      "✅ Success with key AIzaS: {'final_sentiment': 'Neutral', 'sarcasm': 'No', 'suggestion': 'No', 'suggestion_text': 'None', 'suggestion_type': 'None', 'emotion': 'satisfaction', 'tone': 'informal', 'urgency_flag': 'No', 'impact_level': 'Low', 'responsible_party': 'None', 'action_flag': 'No'}\n"
     ]
    },
    {
     "name": "stderr",
     "output_type": "stream",
     "text": [
      "🔍 Gemini Analysis:  21%|██        | 103/500 [29:46<2:17:21, 20.76s/row]"
     ]
    },
    {
     "name": "stdout",
     "output_type": "stream",
     "text": [
      "✅ Success with key AIzaS: {'final_sentiment': 'Negative', 'sarcasm': 'No', 'suggestion': 'Yes', 'suggestion_text': 'Suggests making prices more affordable for a wider range of society to increase accessibility.', 'suggestion_type': 'Operational Improvement', 'emotion': 'disappointment', 'tone': 'polite', 'urgency_flag': 'No', 'impact_level': 'High', 'responsible_party': 'management', 'action_flag': 'Yes'}\n"
     ]
    },
    {
     "name": "stderr",
     "output_type": "stream",
     "text": [
      "🔍 Gemini Analysis:  21%|██        | 104/500 [30:06<2:14:41, 20.41s/row]"
     ]
    },
    {
     "name": "stdout",
     "output_type": "stream",
     "text": [
      "✅ Success with key AIzaS: {'final_sentiment': 'Positive', 'sarcasm': 'No', 'suggestion': 'No', 'suggestion_text': 'None', 'suggestion_type': 'None', 'emotion': 'satisfaction', 'tone': 'polite', 'urgency_flag': 'No', 'impact_level': 'Low', 'responsible_party': 'None', 'action_flag': 'No'}\n"
     ]
    },
    {
     "name": "stderr",
     "output_type": "stream",
     "text": [
      "🔍 Gemini Analysis:  21%|██        | 105/500 [30:16<1:53:49, 17.29s/row]"
     ]
    },
    {
     "name": "stdout",
     "output_type": "stream",
     "text": [
      "✅ Success with key AIzaS: {'final_sentiment': 'Neutral', 'sarcasm': 'No', 'suggestion': 'Yes', 'suggestion_text': 'Ensure availability of sold goods and prompt replacement of faulty devices without customer waiting for internal issue resolution.', 'suggestion_type': 'Operational Improvement', 'emotion': 'frustration', 'tone': 'polite', 'urgency_flag': 'Yes', 'impact_level': 'High', 'responsible_party': 'management', 'action_flag': 'Yes'}\n"
     ]
    },
    {
     "name": "stderr",
     "output_type": "stream",
     "text": [
      "🔍 Gemini Analysis:  21%|██        | 106/500 [30:31<1:48:51, 16.58s/row]"
     ]
    },
    {
     "name": "stdout",
     "output_type": "stream",
     "text": [
      "✅ Success with key AIzaS: {'final_sentiment': 'Negative', 'sarcasm': 'No', 'suggestion': 'No', 'suggestion_text': 'None', 'suggestion_type': 'Complaint', 'emotion': ['disappointment', 'frustration'], 'tone': ['disappointed', 'frustrated'], 'urgency_flag': 'Yes', 'impact_level': 'High', 'responsible_party': 'management', 'action_flag': 'Yes'}\n"
     ]
    },
    {
     "name": "stderr",
     "output_type": "stream",
     "text": [
      "🔍 Gemini Analysis:  21%|██▏       | 107/500 [30:50<1:53:24, 17.31s/row]"
     ]
    },
    {
     "name": "stdout",
     "output_type": "stream",
     "text": [
      "✅ Success with key AIzaS: {'final_sentiment': 'Negative', 'sarcasm': 'No', 'suggestion': 'Yes', 'suggestion_text': 'Train staff on better customer service and implement name tags for staff evaluation.', 'suggestion_type': 'Operational Improvement', 'emotion': 'frustration', 'tone': 'frustrated', 'urgency_flag': 'Yes', 'impact_level': 'High', 'responsible_party': 'management', 'action_flag': 'Yes'}\n"
     ]
    },
    {
     "name": "stderr",
     "output_type": "stream",
     "text": [
      "🔍 Gemini Analysis:  22%|██▏       | 108/500 [31:02<1:43:12, 15.80s/row]"
     ]
    },
    {
     "name": "stdout",
     "output_type": "stream",
     "text": [
      "✅ Success with key AIzaS: {'final_sentiment': 'Positive', 'sarcasm': 'No', 'suggestion': 'No', 'suggestion_text': 'None', 'suggestion_type': 'None', 'emotion': 'satisfaction', 'tone': 'polite', 'urgency_flag': 'No', 'impact_level': 'Low', 'responsible_party': 'None', 'action_flag': 'No'}\n"
     ]
    },
    {
     "name": "stderr",
     "output_type": "stream",
     "text": [
      "🔍 Gemini Analysis:  22%|██▏       | 109/500 [31:22<1:51:50, 17.16s/row]"
     ]
    },
    {
     "name": "stdout",
     "output_type": "stream",
     "text": [
      "✅ Success with key AIzaS: {'final_sentiment': 'Positive', 'sarcasm': 'No', 'suggestion': 'Yes', 'suggestion_text': 'User suggests Extra offer direct installments without third-party services (Tabby/Tamara) and manage collections internally, predicting 1000% demand.', 'suggestion_type': 'Feature Request', 'emotion': 'joy', 'tone': 'enthusiastic', 'urgency_flag': 'No', 'impact_level': 'High', 'responsible_party': 'management', 'action_flag': 'Yes'}\n"
     ]
    },
    {
     "name": "stderr",
     "output_type": "stream",
     "text": [
      "🔍 Gemini Analysis:  22%|██▏       | 110/500 [31:43<1:58:19, 18.20s/row]"
     ]
    },
    {
     "name": "stdout",
     "output_type": "stream",
     "text": [
      "✅ Success with key AIzaS: {'final_sentiment': 'Positive', 'sarcasm': 'No', 'suggestion': 'No', 'suggestion_text': 'None', 'suggestion_type': 'None', 'emotion': 'satisfaction', 'tone': 'enthusiastic', 'urgency_flag': 'No', 'impact_level': 'Low', 'responsible_party': 'None', 'action_flag': 'No'}\n"
     ]
    },
    {
     "name": "stderr",
     "output_type": "stream",
     "text": [
      "🔍 Gemini Analysis:  22%|██▏       | 111/500 [31:55<1:45:01, 16.20s/row]"
     ]
    },
    {
     "name": "stdout",
     "output_type": "stream",
     "text": [
      "✅ Success with key AIzaS: {'final_sentiment': 'Negative', 'sarcasm': 'No', 'suggestion': 'No', 'suggestion_text': 'None', 'suggestion_type': 'None', 'emotion': ['disappointment', 'anger', 'resentment'], 'tone': ['frustrated', 'angry'], 'urgency_flag': 'Yes', 'impact_level': 'High', 'responsible_party': 'delivery team', 'action_flag': 'Yes'}\n"
     ]
    },
    {
     "name": "stderr",
     "output_type": "stream",
     "text": [
      "🔍 Gemini Analysis:  22%|██▏       | 112/500 [32:09<1:41:31, 15.70s/row]"
     ]
    },
    {
     "name": "stdout",
     "output_type": "stream",
     "text": [
      "✅ Success with key AIzaS: {'final_sentiment': 'Negative', 'sarcasm': 'No', 'suggestion': 'No', 'suggestion_text': 'None', 'suggestion_type': 'None', 'emotion': 'frustration', 'tone': 'frustrated', 'urgency_flag': 'No', 'impact_level': 'Medium', 'responsible_party': 'sales', 'action_flag': 'Yes'}\n"
     ]
    },
    {
     "name": "stderr",
     "output_type": "stream",
     "text": [
      "🔍 Gemini Analysis:  23%|██▎       | 113/500 [32:22<1:35:30, 14.81s/row]"
     ]
    },
    {
     "name": "stdout",
     "output_type": "stream",
     "text": [
      "✅ Success with key AIzaS: {'final_sentiment': 'Positive', 'sarcasm': 'No', 'suggestion': 'No', 'suggestion_text': 'None', 'suggestion_type': 'None', 'emotion': 'gratitude', 'tone': 'grateful', 'urgency_flag': 'No', 'impact_level': 'Low', 'responsible_party': 'None', 'action_flag': 'No'}\n"
     ]
    },
    {
     "name": "stderr",
     "output_type": "stream",
     "text": [
      "🔍 Gemini Analysis:  23%|██▎       | 114/500 [32:33<1:28:54, 13.82s/row]"
     ]
    },
    {
     "name": "stdout",
     "output_type": "stream",
     "text": [
      "✅ Success with key AIzaS: {'final_sentiment': 'Positive', 'sarcasm': 'No', 'suggestion': 'No', 'suggestion_text': 'None', 'suggestion_type': 'None', 'emotion': 'satisfaction', 'tone': 'grateful', 'urgency_flag': 'No', 'impact_level': 'Low', 'responsible_party': 'None', 'action_flag': 'No'}\n"
     ]
    },
    {
     "name": "stderr",
     "output_type": "stream",
     "text": [
      "🔍 Gemini Analysis:  23%|██▎       | 115/500 [32:50<1:34:31, 14.73s/row]"
     ]
    },
    {
     "name": "stdout",
     "output_type": "stream",
     "text": [
      "✅ Success with key AIzaS: {'final_sentiment': 'Negative', 'sarcasm': 'No', 'suggestion': 'Yes', 'suggestion_text': 'Request to reduce prices', 'suggestion_type': 'Operational Improvement', 'emotion': 'disappointment', 'tone': 'disappointed', 'urgency_flag': 'No', 'impact_level': 'High', 'responsible_party': 'management', 'action_flag': 'Yes'}\n"
     ]
    },
    {
     "name": "stderr",
     "output_type": "stream",
     "text": [
      "🔍 Gemini Analysis:  23%|██▎       | 116/500 [33:05<1:34:26, 14.76s/row]"
     ]
    },
    {
     "name": "stdout",
     "output_type": "stream",
     "text": [
      "✅ Success with key AIzaS: {'final_sentiment': 'Negative', 'sarcasm': 'No', 'suggestion': 'Yes', 'suggestion_text': 'Reduce maintenance duration and avoid delays.', 'suggestion_type': 'Operational Improvement', 'emotion': 'frustration', 'tone': 'frustrated', 'urgency_flag': 'Yes', 'impact_level': 'High', 'responsible_party': 'technical support', 'action_flag': 'Yes'}\n"
     ]
    },
    {
     "name": "stderr",
     "output_type": "stream",
     "text": [
      "🔍 Gemini Analysis:  23%|██▎       | 117/500 [33:18<1:30:05, 14.11s/row]"
     ]
    },
    {
     "name": "stdout",
     "output_type": "stream",
     "text": [
      "✅ Success with key AIzaS: {'final_sentiment': 'Negative', 'sarcasm': 'No', 'suggestion': 'Yes', 'suggestion_text': 'Staff at the cash counter should be polite and maintain eye contact with non-Saudi customers.', 'suggestion_type': 'Operational Improvement', 'emotion': 'frustration', 'tone': 'disappointed', 'urgency_flag': 'Yes', 'impact_level': 'High', 'responsible_party': 'customer service', 'action_flag': 'Yes'}\n"
     ]
    },
    {
     "name": "stderr",
     "output_type": "stream",
     "text": [
      "🔍 Gemini Analysis:  24%|██▎       | 118/500 [33:31<1:28:50, 13.96s/row]"
     ]
    },
    {
     "name": "stdout",
     "output_type": "stream",
     "text": [
      "✅ Success with key AIzaS: {'final_sentiment': 'Positive', 'sarcasm': 'No', 'suggestion': 'Yes', 'suggestion_text': 'User suggests adding more electronic parts such as motherboards, graphic cards, RAMs, and cloud components.', 'suggestion_type': 'Feature Request', 'emotion': 'satisfaction', 'tone': 'informal', 'urgency_flag': 'No', 'impact_level': 'Low', 'responsible_party': 'management', 'action_flag': 'Yes'}\n"
     ]
    },
    {
     "name": "stderr",
     "output_type": "stream",
     "text": [
      "🔍 Gemini Analysis:  24%|██▍       | 119/500 [33:47<1:31:13, 14.37s/row]"
     ]
    },
    {
     "name": "stdout",
     "output_type": "stream",
     "text": [
      "✅ Success with key AIzaS: {'final_sentiment': 'Positive', 'sarcasm': 'No', 'suggestion': 'No', 'suggestion_text': 'None', 'suggestion_type': 'None', 'emotion': 'satisfaction', 'tone': 'informal', 'urgency_flag': 'No', 'impact_level': 'Low', 'responsible_party': 'None', 'action_flag': 'No'}\n"
     ]
    },
    {
     "name": "stderr",
     "output_type": "stream",
     "text": [
      "🔍 Gemini Analysis:  24%|██▍       | 120/500 [34:01<1:30:52, 14.35s/row]"
     ]
    },
    {
     "name": "stdout",
     "output_type": "stream",
     "text": [
      "✅ Success with key AIzaS: {'final_sentiment': 'Neutral', 'sarcasm': 'No', 'suggestion': 'No', 'suggestion_text': 'None', 'suggestion_type': 'None', 'emotion': 'None', 'tone': 'None', 'urgency_flag': 'No', 'impact_level': 'Low', 'responsible_party': 'None', 'action_flag': 'No'}\n"
     ]
    },
    {
     "name": "stderr",
     "output_type": "stream",
     "text": [
      "🔍 Gemini Analysis:  24%|██▍       | 121/500 [34:13<1:25:43, 13.57s/row]"
     ]
    },
    {
     "name": "stdout",
     "output_type": "stream",
     "text": [
      "✅ Success with key AIzaS: {'final_sentiment': 'Positive', 'sarcasm': 'No', 'suggestion': 'No', 'suggestion_text': 'None', 'suggestion_type': 'None', 'emotion': 'satisfaction', 'tone': 'polite', 'urgency_flag': 'No', 'impact_level': 'Low', 'responsible_party': 'None', 'action_flag': 'No'}\n"
     ]
    },
    {
     "name": "stderr",
     "output_type": "stream",
     "text": [
      "🔍 Gemini Analysis:  24%|██▍       | 122/500 [34:24<1:21:30, 12.94s/row]"
     ]
    },
    {
     "name": "stdout",
     "output_type": "stream",
     "text": [
      "✅ Success with key AIzaS: {'final_sentiment': 'Positive', 'sarcasm': 'No', 'suggestion': 'No', 'suggestion_text': 'None', 'suggestion_type': 'None', 'emotion': 'gratitude', 'tone': 'grateful', 'urgency_flag': 'No', 'impact_level': 'Low', 'responsible_party': 'None', 'action_flag': 'No'}\n"
     ]
    },
    {
     "name": "stderr",
     "output_type": "stream",
     "text": [
      "🔍 Gemini Analysis:  25%|██▍       | 123/500 [34:35<1:18:05, 12.43s/row]"
     ]
    },
    {
     "name": "stdout",
     "output_type": "stream",
     "text": [
      "✅ Success with key AIzaS: {'final_sentiment': 'Neutral', 'sarcasm': 'No', 'suggestion': 'Yes', 'suggestion_text': 'Lower minimum installment purchase limit to 100 SAR from 150 SAR', 'suggestion_type': 'Feature Request', 'emotion': 'satisfaction', 'tone': 'polite', 'urgency_flag': 'No', 'impact_level': 'Medium', 'responsible_party': 'management', 'action_flag': 'Yes'}\n"
     ]
    },
    {
     "name": "stderr",
     "output_type": "stream",
     "text": [
      "🔍 Gemini Analysis:  25%|██▍       | 124/500 [35:14<2:07:31, 20.35s/row]"
     ]
    },
    {
     "name": "stdout",
     "output_type": "stream",
     "text": [
      "✅ Success with key AIzaS: {'final_sentiment': 'Negative', 'sarcasm': 'No', 'suggestion': 'Yes', 'suggestion_text': 'Train security personnel for better manners and fair treatment of customers.', 'suggestion_type': 'Operational Improvement', 'emotion': 'frustration', 'tone': 'frustrated', 'urgency_flag': 'Yes', 'impact_level': 'High', 'responsible_party': 'management', 'action_flag': 'Yes'}\n"
     ]
    },
    {
     "name": "stderr",
     "output_type": "stream",
     "text": [
      "🔍 Gemini Analysis:  25%|██▌       | 125/500 [35:29<1:56:25, 18.63s/row]"
     ]
    },
    {
     "name": "stdout",
     "output_type": "stream",
     "text": [
      "✅ Success with key AIzaS: {'final_sentiment': 'Positive', 'sarcasm': 'No', 'suggestion': 'No', 'suggestion_text': 'None', 'suggestion_type': 'None', 'emotion': 'satisfaction', 'tone': 'informal', 'urgency_flag': 'No', 'impact_level': 'Low', 'responsible_party': 'None', 'action_flag': 'No'}\n"
     ]
    },
    {
     "name": "stderr",
     "output_type": "stream",
     "text": [
      "🔍 Gemini Analysis:  25%|██▌       | 126/500 [35:40<1:42:55, 16.51s/row]"
     ]
    },
    {
     "name": "stdout",
     "output_type": "stream",
     "text": [
      "✅ Success with key AIzaS: {'final_sentiment': 'Negative', 'sarcasm': 'No', 'suggestion': 'Yes', 'suggestion_text': 'Fix air conditioning at XTRA Najran showroom', 'suggestion_type': 'Operational Improvement', 'emotion': 'disappointment', 'tone': 'polite', 'urgency_flag': 'No', 'impact_level': 'High', 'responsible_party': 'management', 'action_flag': 'Yes'}\n"
     ]
    },
    {
     "name": "stderr",
     "output_type": "stream",
     "text": [
      "🔍 Gemini Analysis:  25%|██▌       | 127/500 [35:56<1:40:46, 16.21s/row]"
     ]
    },
    {
     "name": "stdout",
     "output_type": "stream",
     "text": [
      "✅ Success with key AIzaS: {'final_sentiment': 'Negative', 'sarcasm': 'No', 'suggestion': 'No', 'suggestion_text': 'None', 'suggestion_type': 'None', 'emotion': ['disappointment', 'frustration'], 'tone': ['disappointed', 'frustrated'], 'urgency_flag': 'Yes', 'impact_level': 'High', 'responsible_party': 'delivery team', 'action_flag': 'Yes'}\n"
     ]
    },
    {
     "name": "stderr",
     "output_type": "stream",
     "text": [
      "🔍 Gemini Analysis:  26%|██▌       | 128/500 [36:16<1:47:34, 17.35s/row]"
     ]
    },
    {
     "name": "stdout",
     "output_type": "stream",
     "text": [
      "✅ Success with key AIzaS: {'final_sentiment': 'Negative', 'sarcasm': 'No', 'suggestion': 'No', 'suggestion_text': 'None', 'suggestion_type': 'None', 'emotion': 'disappointment', 'tone': 'disappointed', 'urgency_flag': 'No', 'impact_level': 'Low', 'responsible_party': 'None', 'action_flag': 'Yes'}\n"
     ]
    },
    {
     "name": "stderr",
     "output_type": "stream",
     "text": [
      "🔍 Gemini Analysis:  26%|██▌       | 129/500 [36:31<1:43:05, 16.67s/row]"
     ]
    },
    {
     "name": "stdout",
     "output_type": "stream",
     "text": [
      "✅ Success with key AIzaS: {'final_sentiment': 'Neutral', 'sarcasm': 'No', 'suggestion': 'Yes', 'suggestion_text': 'Request to review product pricing.', 'suggestion_type': 'Operational Improvement', 'emotion': 'disappointment', 'tone': 'polite', 'urgency_flag': 'No', 'impact_level': 'Medium', 'responsible_party': 'management', 'action_flag': 'Yes'}\n"
     ]
    },
    {
     "name": "stderr",
     "output_type": "stream",
     "text": [
      "🔍 Gemini Analysis:  26%|██▌       | 130/500 [36:51<1:48:38, 17.62s/row]"
     ]
    },
    {
     "name": "stdout",
     "output_type": "stream",
     "text": [
      "✅ Success with key AIzaS: {'final_sentiment': 'Negative', 'sarcasm': 'No', 'suggestion': 'Yes', 'suggestion_text': 'User suggests adding an order cancellation option', 'suggestion_type': 'Feature Request', 'emotion': 'frustration', 'tone': 'frustrated', 'urgency_flag': 'Yes', 'impact_level': 'High', 'responsible_party': 'technical support', 'action_flag': 'Yes'}\n"
     ]
    },
    {
     "name": "stderr",
     "output_type": "stream",
     "text": [
      "🔍 Gemini Analysis:  26%|██▌       | 131/500 [37:05<1:41:59, 16.59s/row]"
     ]
    },
    {
     "name": "stdout",
     "output_type": "stream",
     "text": [
      "✅ Success with key AIzaS: {'final_sentiment': 'Neutral', 'sarcasm': 'No', 'suggestion': 'Yes', 'suggestion_text': 'Improve coordination with AC installers.', 'suggestion_type': 'Operational Improvement', 'emotion': 'frustration', 'tone': 'polite', 'urgency_flag': 'No', 'impact_level': 'Medium', 'responsible_party': 'management', 'action_flag': 'Yes'}\n"
     ]
    },
    {
     "name": "stderr",
     "output_type": "stream",
     "text": [
      "🔍 Gemini Analysis:  26%|██▋       | 132/500 [37:28<1:54:02, 18.59s/row]"
     ]
    },
    {
     "name": "stdout",
     "output_type": "stream",
     "text": [
      "✅ Success with key AIzaS: {'final_sentiment': 'Positive', 'sarcasm': 'No', 'suggestion': 'No', 'suggestion_text': 'None', 'suggestion_type': 'None', 'emotion': 'satisfaction', 'tone': 'polite', 'urgency_flag': 'No', 'impact_level': 'Low', 'responsible_party': 'delivery team', 'action_flag': 'No'}\n"
     ]
    },
    {
     "name": "stderr",
     "output_type": "stream",
     "text": [
      "🔍 Gemini Analysis:  27%|██▋       | 133/500 [37:41<1:43:47, 16.97s/row]"
     ]
    },
    {
     "name": "stdout",
     "output_type": "stream",
     "text": [
      "✅ Success with key AIzaS: {'final_sentiment': 'Negative', 'sarcasm': 'No', 'suggestion': 'Yes', 'suggestion_text': 'Device insurance and replacement fees are too expensive, almost equivalent to buying a new device from another vendor.', 'suggestion_type': 'Complaint', 'emotion': 'disappointment', 'tone': 'disappointed', 'urgency_flag': 'Yes', 'impact_level': 'High', 'responsible_party': 'management', 'action_flag': 'Yes'}\n"
     ]
    },
    {
     "name": "stderr",
     "output_type": "stream",
     "text": [
      "🔍 Gemini Analysis:  27%|██▋       | 134/500 [37:56<1:38:20, 16.12s/row]"
     ]
    },
    {
     "name": "stdout",
     "output_type": "stream",
     "text": [
      "✅ Success with key AIzaS: {'final_sentiment': 'Positive', 'sarcasm': 'No', 'suggestion': 'No', 'suggestion_text': 'None', 'suggestion_type': 'None', 'emotion': 'satisfaction', 'tone': 'polite', 'urgency_flag': 'No', 'impact_level': 'Low', 'responsible_party': 'None', 'action_flag': 'No'}\n"
     ]
    },
    {
     "name": "stderr",
     "output_type": "stream",
     "text": [
      "🔍 Gemini Analysis:  27%|██▋       | 135/500 [38:06<1:28:02, 14.47s/row]"
     ]
    },
    {
     "name": "stdout",
     "output_type": "stream",
     "text": [
      "✅ Success with key AIzaS: {'final_sentiment': 'Negative', 'sarcasm': 'No', 'suggestion': 'No', 'suggestion_text': 'None', 'suggestion_type': 'None', 'emotion': 'frustration', 'tone': 'frustrated', 'urgency_flag': 'Yes', 'impact_level': 'High', 'responsible_party': 'customer service', 'action_flag': 'Yes'}\n"
     ]
    },
    {
     "name": "stderr",
     "output_type": "stream",
     "text": [
      "🔍 Gemini Analysis:  27%|██▋       | 136/500 [38:22<1:30:00, 14.84s/row]"
     ]
    },
    {
     "name": "stdout",
     "output_type": "stream",
     "text": [
      "✅ Success with key AIzaS: {'final_sentiment': 'Positive', 'sarcasm': 'No', 'suggestion': 'No', 'suggestion_text': 'None', 'suggestion_type': 'None', 'emotion': 'satisfaction', 'tone': 'grateful', 'urgency_flag': 'No', 'impact_level': 'Low', 'responsible_party': 'customer service', 'action_flag': 'Yes'}\n"
     ]
    },
    {
     "name": "stderr",
     "output_type": "stream",
     "text": [
      "🔍 Gemini Analysis:  27%|██▋       | 137/500 [38:39<1:34:13, 15.58s/row]"
     ]
    },
    {
     "name": "stdout",
     "output_type": "stream",
     "text": [
      "✅ Success with key AIzaS: {'final_sentiment': 'Neutral', 'sarcasm': 'No', 'suggestion': 'No', 'suggestion_text': 'None', 'suggestion_type': 'None', 'emotion': 'gratitude', 'tone': 'polite', 'urgency_flag': 'No', 'impact_level': 'Low', 'responsible_party': 'None', 'action_flag': 'No'}\n"
     ]
    },
    {
     "name": "stderr",
     "output_type": "stream",
     "text": [
      "🔍 Gemini Analysis:  28%|██▊       | 138/500 [38:50<1:24:52, 14.07s/row]"
     ]
    },
    {
     "name": "stdout",
     "output_type": "stream",
     "text": [
      "✅ Success with key AIzaS: {'final_sentiment': 'Negative', 'sarcasm': 'No', 'suggestion': 'Yes', 'suggestion_text': 'User received the product without installation service and the app did not provide an option to add it, suggesting a need for clear installation options or inclusion in the app/process.', 'suggestion_type': 'Operational Improvement', 'emotion': 'disappointment', 'tone': 'disappointed', 'urgency_flag': 'Yes', 'impact_level': 'High', 'responsible_party': 'customer service', 'action_flag': 'Yes'}\n"
     ]
    },
    {
     "name": "stderr",
     "output_type": "stream",
     "text": [
      "🔍 Gemini Analysis:  28%|██▊       | 139/500 [39:11<1:38:15, 16.33s/row]"
     ]
    },
    {
     "name": "stdout",
     "output_type": "stream",
     "text": [
      "✅ Success with key AIzaS: {'final_sentiment': 'Negative', 'sarcasm': 'No', 'suggestion': 'Yes', 'suggestion_text': 'Improve storage conditions to prevent water leakage on shipments.', 'suggestion_type': 'Operational Improvement', 'emotion': 'disappointment', 'tone': 'disappointed', 'urgency_flag': 'Yes', 'impact_level': 'High', 'responsible_party': 'delivery team', 'action_flag': 'Yes'}\n"
     ]
    },
    {
     "name": "stderr",
     "output_type": "stream",
     "text": [
      "🔍 Gemini Analysis:  28%|██▊       | 140/500 [39:24<1:30:33, 15.09s/row]"
     ]
    },
    {
     "name": "stdout",
     "output_type": "stream",
     "text": [
      "✅ Success with key AIzaS: {'final_sentiment': 'Neutral', 'sarcasm': 'No', 'suggestion': 'Yes', 'suggestion_text': 'Request to avoid delays', 'suggestion_type': 'Operational Improvement', 'emotion': 'worry', 'tone': 'urgent', 'urgency_flag': 'Yes', 'impact_level': 'High', 'responsible_party': 'delivery team', 'action_flag': 'Yes'}\n"
     ]
    },
    {
     "name": "stderr",
     "output_type": "stream",
     "text": [
      "🔍 Gemini Analysis:  28%|██▊       | 141/500 [39:46<1:42:43, 17.17s/row]"
     ]
    },
    {
     "name": "stdout",
     "output_type": "stream",
     "text": [
      "✅ Success with key AIzaS: {'final_sentiment': 'Neutral', 'sarcasm': 'No', 'suggestion': 'Yes', 'suggestion_text': 'Expand delivery service to villages near Hail.', 'suggestion_type': 'Feature Request', 'emotion': 'disappointment', 'tone': 'informal', 'urgency_flag': 'No', 'impact_level': 'Medium', 'responsible_party': 'management', 'action_flag': 'Yes'}\n"
     ]
    },
    {
     "name": "stderr",
     "output_type": "stream",
     "text": [
      "🔍 Gemini Analysis:  28%|██▊       | 142/500 [40:05<1:45:41, 17.71s/row]"
     ]
    },
    {
     "name": "stdout",
     "output_type": "stream",
     "text": [
      "✅ Success with key AIzaS: {'final_sentiment': 'Positive', 'sarcasm': 'No', 'suggestion': 'No', 'suggestion_text': 'None', 'suggestion_type': 'None', 'emotion': 'gratitude', 'tone': 'grateful', 'urgency_flag': 'No', 'impact_level': 'Low', 'responsible_party': 'delivery team', 'action_flag': 'No'}\n"
     ]
    },
    {
     "name": "stderr",
     "output_type": "stream",
     "text": [
      "🔍 Gemini Analysis:  29%|██▊       | 143/500 [40:16<1:34:39, 15.91s/row]"
     ]
    },
    {
     "name": "stdout",
     "output_type": "stream",
     "text": [
      "✅ Success with key AIzaS: {'final_sentiment': 'Positive', 'sarcasm': 'No', 'suggestion': 'No', 'suggestion_text': 'None', 'suggestion_type': 'None', 'emotion': 'satisfaction', 'tone': 'informal', 'urgency_flag': 'No', 'impact_level': 'Low', 'responsible_party': 'None', 'action_flag': 'No'}\n"
     ]
    },
    {
     "name": "stderr",
     "output_type": "stream",
     "text": [
      "🔍 Gemini Analysis:  29%|██▉       | 144/500 [40:28<1:26:23, 14.56s/row]"
     ]
    },
    {
     "name": "stdout",
     "output_type": "stream",
     "text": [
      "✅ Success with key AIzaS: {'final_sentiment': 'Positive', 'sarcasm': 'No', 'suggestion': 'No', 'suggestion_text': 'None', 'suggestion_type': 'None', 'emotion': 'satisfaction', 'tone': 'polite', 'urgency_flag': 'No', 'impact_level': 'Low', 'responsible_party': 'None', 'action_flag': 'No'}\n"
     ]
    },
    {
     "name": "stderr",
     "output_type": "stream",
     "text": [
      "🔍 Gemini Analysis:  29%|██▉       | 145/500 [40:40<1:21:41, 13.81s/row]"
     ]
    },
    {
     "name": "stdout",
     "output_type": "stream",
     "text": [
      "✅ Success with key AIzaS: {'final_sentiment': 'Negative', 'sarcasm': 'No', 'suggestion': 'No', 'suggestion_text': 'None', 'suggestion_type': 'None', 'emotion': 'disappointment', 'tone': 'disappointed', 'urgency_flag': 'Yes', 'impact_level': 'High', 'responsible_party': 'None', 'action_flag': 'Yes'}\n"
     ]
    },
    {
     "name": "stderr",
     "output_type": "stream",
     "text": [
      "🔍 Gemini Analysis:  29%|██▉       | 146/500 [40:54<1:21:26, 13.80s/row]"
     ]
    },
    {
     "name": "stdout",
     "output_type": "stream",
     "text": [
      "✅ Success with key AIzaS: {'final_sentiment': 'Positive', 'sarcasm': 'No', 'suggestion': 'No', 'suggestion_text': 'None', 'suggestion_type': 'None', 'emotion': 'gratitude', 'tone': 'grateful', 'urgency_flag': 'No', 'impact_level': 'Low', 'responsible_party': 'customer service', 'action_flag': 'No'}\n"
     ]
    },
    {
     "name": "stderr",
     "output_type": "stream",
     "text": [
      "🔍 Gemini Analysis:  29%|██▉       | 147/500 [41:06<1:18:13, 13.30s/row]"
     ]
    },
    {
     "name": "stdout",
     "output_type": "stream",
     "text": [
      "✅ Success with key AIzaS: {'final_sentiment': 'Positive', 'sarcasm': 'No', 'suggestion': 'No', 'suggestion_text': 'None', 'suggestion_type': 'None', 'emotion': 'satisfaction', 'tone': 'informal', 'urgency_flag': 'No', 'impact_level': 'Low', 'responsible_party': 'None', 'action_flag': 'No'}\n"
     ]
    },
    {
     "name": "stderr",
     "output_type": "stream",
     "text": [
      "🔍 Gemini Analysis:  30%|██▉       | 148/500 [41:15<1:10:41, 12.05s/row]"
     ]
    },
    {
     "name": "stdout",
     "output_type": "stream",
     "text": [
      "✅ Success with key AIzaS: {'final_sentiment': 'Neutral', 'sarcasm': 'No', 'suggestion': 'Yes', 'suggestion_text': 'Request to extend delivery hours to include evenings after 6 PM, not just afternoons.', 'suggestion_type': 'Operational Improvement', 'emotion': 'disappointment', 'tone': 'polite', 'urgency_flag': 'No', 'impact_level': 'Low', 'responsible_party': 'delivery team', 'action_flag': 'Yes'}\n"
     ]
    },
    {
     "name": "stderr",
     "output_type": "stream",
     "text": [
      "🔍 Gemini Analysis:  30%|██▉       | 149/500 [41:52<1:55:19, 19.72s/row]"
     ]
    },
    {
     "name": "stdout",
     "output_type": "stream",
     "text": [
      "✅ Success with key AIzaS: {'final_sentiment': 'Negative', 'sarcasm': 'No', 'suggestion': 'Yes', 'suggestion_text': 'Deliver items to apartment entrance, not building entrance', 'suggestion_type': 'Operational Improvement', 'emotion': 'frustration', 'tone': 'frustrated', 'urgency_flag': 'Yes', 'impact_level': 'High', 'responsible_party': 'delivery team', 'action_flag': 'Yes'}\n"
     ]
    },
    {
     "name": "stderr",
     "output_type": "stream",
     "text": [
      "🔍 Gemini Analysis:  30%|███       | 150/500 [42:07<1:45:34, 18.10s/row]"
     ]
    },
    {
     "name": "stdout",
     "output_type": "stream",
     "text": [
      "✅ Success with key AIzaS: {'final_sentiment': 'Neutral', 'sarcasm': 'No', 'suggestion': 'No', 'suggestion_text': 'None', 'suggestion_type': 'None', 'emotion': 'confusion', 'tone': 'informal', 'urgency_flag': 'No', 'impact_level': 'Low', 'responsible_party': 'None', 'action_flag': 'No'}\n"
     ]
    },
    {
     "name": "stderr",
     "output_type": "stream",
     "text": [
      "🔍 Gemini Analysis:  30%|███       | 151/500 [42:36<2:05:17, 21.54s/row]"
     ]
    },
    {
     "name": "stdout",
     "output_type": "stream",
     "text": [
      "✅ Success with key AIzaS: {'final_sentiment': 'Neutral', 'sarcasm': 'No', 'suggestion': 'Yes', 'suggestion_text': 'Delivery should include product installation.', 'suggestion_type': 'Operational Improvement', 'emotion': 'satisfaction', 'tone': 'polite', 'urgency_flag': 'No', 'impact_level': 'Medium', 'responsible_party': 'delivery team', 'action_flag': 'Yes'}\n"
     ]
    },
    {
     "name": "stderr",
     "output_type": "stream",
     "text": [
      "🔍 Gemini Analysis:  30%|███       | 152/500 [43:01<2:10:03, 22.42s/row]"
     ]
    },
    {
     "name": "stdout",
     "output_type": "stream",
     "text": [
      "✅ Success with key AIzaS: {'final_sentiment': 'Positive', 'sarcasm': 'No', 'suggestion': 'No', 'suggestion_text': 'None', 'suggestion_type': 'None', 'emotion': 'gratitude', 'tone': 'grateful', 'urgency_flag': 'No', 'impact_level': 'High', 'responsible_party': 'delivery team', 'action_flag': 'Yes'}\n"
     ]
    },
    {
     "name": "stderr",
     "output_type": "stream",
     "text": [
      "🔍 Gemini Analysis:  31%|███       | 153/500 [43:12<1:50:59, 19.19s/row]"
     ]
    },
    {
     "name": "stdout",
     "output_type": "stream",
     "text": [
      "✅ Success with key AIzaS: {'final_sentiment': 'Positive', 'sarcasm': 'No', 'suggestion': 'No', 'suggestion_text': 'None', 'suggestion_type': 'None', 'emotion': 'satisfaction', 'tone': 'enthusiastic', 'urgency_flag': 'No', 'impact_level': 'Low', 'responsible_party': 'None', 'action_flag': 'No'}\n"
     ]
    },
    {
     "name": "stderr",
     "output_type": "stream",
     "text": [
      "🔍 Gemini Analysis:  31%|███       | 154/500 [43:22<1:34:40, 16.42s/row]"
     ]
    },
    {
     "name": "stdout",
     "output_type": "stream",
     "text": [
      "✅ Success with key AIzaS: {'final_sentiment': 'Positive', 'sarcasm': 'No', 'suggestion': 'No', 'suggestion_text': 'None', 'suggestion_type': 'None', 'emotion': 'gratitude', 'tone': 'grateful', 'urgency_flag': 'No', 'impact_level': 'Low', 'responsible_party': 'None', 'action_flag': 'No'}\n"
     ]
    },
    {
     "name": "stderr",
     "output_type": "stream",
     "text": [
      "🔍 Gemini Analysis:  31%|███       | 155/500 [43:39<1:34:02, 16.35s/row]"
     ]
    },
    {
     "name": "stdout",
     "output_type": "stream",
     "text": [
      "✅ Success with key AIzaS: {'final_sentiment': 'Positive', 'sarcasm': 'No', 'suggestion': 'No', 'suggestion_text': 'None', 'suggestion_type': 'None', 'emotion': 'satisfaction', 'tone': 'polite', 'urgency_flag': 'No', 'impact_level': 'Low', 'responsible_party': 'None', 'action_flag': 'No'}\n"
     ]
    },
    {
     "name": "stderr",
     "output_type": "stream",
     "text": [
      "🔍 Gemini Analysis:  31%|███       | 156/500 [43:54<1:32:52, 16.20s/row]"
     ]
    },
    {
     "name": "stdout",
     "output_type": "stream",
     "text": [
      "✅ Success with key AIzaS: {'final_sentiment': 'Positive', 'sarcasm': 'No', 'suggestion': 'No', 'suggestion_text': 'None', 'suggestion_type': 'None', 'emotion': 'satisfaction', 'tone': 'polite', 'urgency_flag': 'No', 'impact_level': 'Low', 'responsible_party': 'customer service', 'action_flag': 'No'}\n"
     ]
    },
    {
     "name": "stderr",
     "output_type": "stream",
     "text": [
      "🔍 Gemini Analysis:  31%|███▏      | 157/500 [44:09<1:30:29, 15.83s/row]"
     ]
    },
    {
     "name": "stdout",
     "output_type": "stream",
     "text": [
      "✅ Success with key AIzaS: {'final_sentiment': 'Negative', 'sarcasm': 'No', 'suggestion': 'No', 'suggestion_text': 'None', 'suggestion_type': 'None', 'emotion': 'disappointment', 'tone': 'disappointed', 'urgency_flag': 'No', 'impact_level': 'Medium', 'responsible_party': 'customer service', 'action_flag': 'Yes'}\n"
     ]
    },
    {
     "name": "stderr",
     "output_type": "stream",
     "text": [
      "🔍 Gemini Analysis:  32%|███▏      | 158/500 [44:22<1:24:51, 14.89s/row]"
     ]
    },
    {
     "name": "stdout",
     "output_type": "stream",
     "text": [
      "✅ Success with key AIzaS: {'final_sentiment': 'Negative', 'sarcasm': 'No', 'suggestion': 'Yes', 'suggestion_text': 'User suggests that an invoice should be generated for any extra charge service.', 'suggestion_type': 'Operational Improvement', 'emotion': 'disappointment', 'tone': 'professional', 'urgency_flag': 'No', 'impact_level': 'High', 'responsible_party': 'billing', 'action_flag': 'Yes'}\n"
     ]
    },
    {
     "name": "stderr",
     "output_type": "stream",
     "text": [
      "🔍 Gemini Analysis:  32%|███▏      | 159/500 [44:39<1:27:48, 15.45s/row]"
     ]
    },
    {
     "name": "stdout",
     "output_type": "stream",
     "text": [
      "✅ Success with key AIzaS: {'final_sentiment': 'Positive', 'sarcasm': 'No', 'suggestion': 'No', 'suggestion_text': 'None', 'suggestion_type': 'None', 'emotion': 'satisfaction', 'tone': 'enthusiastic', 'urgency_flag': 'No', 'impact_level': 'Low', 'responsible_party': 'None', 'action_flag': 'No'}\n"
     ]
    },
    {
     "name": "stderr",
     "output_type": "stream",
     "text": [
      "🔍 Gemini Analysis:  32%|███▏      | 160/500 [44:52<1:23:50, 14.79s/row]"
     ]
    },
    {
     "name": "stdout",
     "output_type": "stream",
     "text": [
      "✅ Success with key AIzaS: {'final_sentiment': 'Negative', 'sarcasm': 'No', 'suggestion': 'Yes', 'suggestion_text': 'Company should communicate with suppliers instead of the buyer.', 'suggestion_type': 'Operational Improvement', 'emotion': 'frustration', 'tone': 'frustrated', 'urgency_flag': 'Yes', 'impact_level': 'High', 'responsible_party': 'management', 'action_flag': 'Yes'}\n"
     ]
    },
    {
     "name": "stderr",
     "output_type": "stream",
     "text": [
      "🔍 Gemini Analysis:  32%|███▏      | 161/500 [45:06<1:21:36, 14.44s/row]"
     ]
    },
    {
     "name": "stdout",
     "output_type": "stream",
     "text": [
      "✅ Success with key AIzaS: {'final_sentiment': 'Positive', 'sarcasm': 'No', 'suggestion': 'No', 'suggestion_text': 'None', 'suggestion_type': 'None', 'emotion': 'satisfaction', 'tone': 'informal', 'urgency_flag': 'No', 'impact_level': 'Low', 'responsible_party': 'None', 'action_flag': 'No'}\n"
     ]
    },
    {
     "name": "stderr",
     "output_type": "stream",
     "text": [
      "🔍 Gemini Analysis:  32%|███▏      | 162/500 [45:31<1:40:03, 17.76s/row]"
     ]
    },
    {
     "name": "stdout",
     "output_type": "stream",
     "text": [
      "✅ Success with key AIzaS: {'final_sentiment': 'Positive', 'sarcasm': 'No', 'suggestion': 'No', 'suggestion_text': 'None', 'suggestion_type': 'None', 'emotion': 'satisfaction', 'tone': 'enthusiastic', 'urgency_flag': 'No', 'impact_level': 'Low', 'responsible_party': 'None', 'action_flag': 'No'}\n"
     ]
    },
    {
     "name": "stderr",
     "output_type": "stream",
     "text": [
      "🔍 Gemini Analysis:  33%|███▎      | 163/500 [45:44<1:32:03, 16.39s/row]"
     ]
    },
    {
     "name": "stdout",
     "output_type": "stream",
     "text": [
      "✅ Success with key AIzaS: {'final_sentiment': 'Negative', 'sarcasm': 'No', 'suggestion': 'No', 'suggestion_text': 'None', 'suggestion_type': 'None', 'emotion': 'frustration', 'tone': 'frustrated', 'urgency_flag': 'Yes', 'impact_level': 'High', 'responsible_party': 'delivery team', 'action_flag': 'Yes'}\n"
     ]
    },
    {
     "name": "stderr",
     "output_type": "stream",
     "text": [
      "🔍 Gemini Analysis:  33%|███▎      | 164/500 [45:56<1:24:28, 15.08s/row]"
     ]
    },
    {
     "name": "stdout",
     "output_type": "stream",
     "text": [
      "✅ Success with key AIzaS: {'final_sentiment': 'Negative', 'sarcasm': 'No', 'suggestion': 'No', 'suggestion_text': 'None', 'suggestion_type': 'None', 'emotion': 'frustration', 'tone': 'frustrated', 'urgency_flag': 'Yes', 'impact_level': 'High', 'responsible_party': 'technical support', 'action_flag': 'Yes'}\n"
     ]
    },
    {
     "name": "stderr",
     "output_type": "stream",
     "text": [
      "🔍 Gemini Analysis:  33%|███▎      | 165/500 [46:11<1:23:32, 14.96s/row]"
     ]
    },
    {
     "name": "stdout",
     "output_type": "stream",
     "text": [
      "✅ Success with key AIzaS: {'final_sentiment': 'Negative', 'sarcasm': 'No', 'suggestion': 'No', 'suggestion_text': 'None', 'suggestion_type': 'None', 'emotion': 'frustration', 'tone': 'frustrated', 'urgency_flag': 'Yes', 'impact_level': 'High', 'responsible_party': 'delivery team', 'action_flag': 'Yes'}\n"
     ]
    },
    {
     "name": "stderr",
     "output_type": "stream",
     "text": [
      "🔍 Gemini Analysis:  33%|███▎      | 166/500 [46:26<1:23:05, 14.93s/row]"
     ]
    },
    {
     "name": "stdout",
     "output_type": "stream",
     "text": [
      "✅ Success with key AIzaS: {'final_sentiment': 'Positive', 'sarcasm': 'No', 'suggestion': 'No', 'suggestion_text': 'None', 'suggestion_type': 'None', 'emotion': 'satisfaction', 'tone': 'grateful', 'urgency_flag': 'No', 'impact_level': 'Low', 'responsible_party': 'customer service', 'action_flag': 'No'}\n"
     ]
    },
    {
     "name": "stderr",
     "output_type": "stream",
     "text": [
      "🔍 Gemini Analysis:  33%|███▎      | 167/500 [46:38<1:18:11, 14.09s/row]"
     ]
    },
    {
     "name": "stdout",
     "output_type": "stream",
     "text": [
      "✅ Success with key AIzaS: {'final_sentiment': 'Positive', 'sarcasm': 'No', 'suggestion': 'No', 'suggestion_text': 'None', 'suggestion_type': 'None', 'emotion': 'satisfaction', 'tone': 'grateful', 'urgency_flag': 'No', 'impact_level': 'Low', 'responsible_party': 'None', 'action_flag': 'No'}\n"
     ]
    },
    {
     "name": "stderr",
     "output_type": "stream",
     "text": [
      "🔍 Gemini Analysis:  34%|███▎      | 168/500 [46:49<1:13:29, 13.28s/row]"
     ]
    },
    {
     "name": "stdout",
     "output_type": "stream",
     "text": [
      "✅ Success with key AIzaS: {'final_sentiment': 'Negative', 'sarcasm': 'No', 'suggestion': 'Yes', 'suggestion_text': 'Employees should not follow customers; instead, they should only approach when called upon.', 'suggestion_type': 'Operational Improvement', 'emotion': 'frustration', 'tone': 'frustrated', 'urgency_flag': 'Yes', 'impact_level': 'High', 'responsible_party': 'management', 'action_flag': 'Yes'}\n"
     ]
    },
    {
     "name": "stderr",
     "output_type": "stream",
     "text": [
      "🔍 Gemini Analysis:  34%|███▍      | 169/500 [47:07<1:20:21, 14.57s/row]"
     ]
    },
    {
     "name": "stdout",
     "output_type": "stream",
     "text": [
      "✅ Success with key AIzaS: {'final_sentiment': 'Negative', 'sarcasm': 'No', 'suggestion': 'Yes', 'suggestion_text': 'Improve organization and ensure prices are clearly visible.', 'suggestion_type': 'Operational Improvement', 'emotion': 'frustration', 'tone': 'frustrated', 'urgency_flag': 'Yes', 'impact_level': 'High', 'responsible_party': 'None', 'action_flag': 'Yes'}\n"
     ]
    },
    {
     "name": "stderr",
     "output_type": "stream",
     "text": [
      "🔍 Gemini Analysis:  34%|███▍      | 170/500 [47:21<1:19:54, 14.53s/row]"
     ]
    },
    {
     "name": "stdout",
     "output_type": "stream",
     "text": [
      "✅ Success with key AIzaS: {'final_sentiment': 'Positive', 'sarcasm': 'No', 'suggestion': 'No', 'suggestion_text': 'None', 'suggestion_type': 'None', 'emotion': 'gratitude', 'tone': 'grateful', 'urgency_flag': 'No', 'impact_level': 'Low', 'responsible_party': 'None', 'action_flag': 'No'}\n"
     ]
    },
    {
     "name": "stderr",
     "output_type": "stream",
     "text": [
      "🔍 Gemini Analysis:  34%|███▍      | 171/500 [47:44<1:33:06, 16.98s/row]"
     ]
    },
    {
     "name": "stdout",
     "output_type": "stream",
     "text": [
      "✅ Success with key AIzaS: {'final_sentiment': 'Positive', 'sarcasm': 'No', 'suggestion': 'Yes', 'suggestion_text': 'Continue to improve/strive for betterment.', 'suggestion_type': 'Other', 'emotion': 'satisfaction', 'tone': 'polite', 'urgency_flag': 'No', 'impact_level': 'Low', 'responsible_party': 'None', 'action_flag': 'No'}\n"
     ]
    },
    {
     "name": "stderr",
     "output_type": "stream",
     "text": [
      "🔍 Gemini Analysis:  34%|███▍      | 172/500 [47:59<1:29:03, 16.29s/row]"
     ]
    },
    {
     "name": "stdout",
     "output_type": "stream",
     "text": [
      "✅ Success with key AIzaS: {'final_sentiment': 'Positive', 'sarcasm': 'No', 'suggestion': 'Yes', 'suggestion_text': 'Promote employee Ahmed Taha', 'suggestion_type': 'Other', 'emotion': 'satisfaction', 'tone': 'polite', 'urgency_flag': 'No', 'impact_level': 'Low', 'responsible_party': 'management', 'action_flag': 'Yes'}\n"
     ]
    },
    {
     "name": "stderr",
     "output_type": "stream",
     "text": [
      "🔍 Gemini Analysis:  35%|███▍      | 173/500 [48:25<1:45:21, 19.33s/row]"
     ]
    },
    {
     "name": "stdout",
     "output_type": "stream",
     "text": [
      "✅ Success with key AIzaS: {'final_sentiment': 'Positive', 'sarcasm': 'No', 'suggestion': 'No', 'suggestion_text': 'None', 'suggestion_type': 'None', 'emotion': 'joy', 'tone': 'grateful', 'urgency_flag': 'No', 'impact_level': 'Low', 'responsible_party': 'None', 'action_flag': 'No'}\n"
     ]
    },
    {
     "name": "stderr",
     "output_type": "stream",
     "text": [
      "🔍 Gemini Analysis:  35%|███▍      | 174/500 [48:38<1:33:54, 17.28s/row]"
     ]
    },
    {
     "name": "stdout",
     "output_type": "stream",
     "text": [
      "✅ Success with key AIzaS: {'final_sentiment': 'Negative', 'sarcasm': 'No', 'suggestion': 'Yes', 'suggestion_text': 'Improve adherence to delivery schedules.', 'suggestion_type': 'Operational Improvement', 'emotion': 'frustration', 'tone': 'frustrated', 'urgency_flag': 'Yes', 'impact_level': 'High', 'responsible_party': 'delivery team', 'action_flag': 'Yes'}\n"
     ]
    },
    {
     "name": "stderr",
     "output_type": "stream",
     "text": [
      "🔍 Gemini Analysis:  35%|███▌      | 175/500 [48:50<1:25:41, 15.82s/row]"
     ]
    },
    {
     "name": "stdout",
     "output_type": "stream",
     "text": [
      "✅ Success with key AIzaS: {'final_sentiment': 'Negative', 'sarcasm': 'No', 'suggestion': 'Yes', 'suggestion_text': 'Stop offering products (cards) if there are internal issues, and if an offer is made and purchased, provide the customer with compensation (e.g., a gift).', 'suggestion_type': 'Operational Improvement', 'emotion': ['frustration', 'disappointment'], 'tone': ['frustrated'], 'urgency_flag': 'Yes', 'impact_level': 'High', 'responsible_party': 'customer service', 'action_flag': 'Yes'}\n"
     ]
    },
    {
     "name": "stderr",
     "output_type": "stream",
     "text": [
      "🔍 Gemini Analysis:  35%|███▌      | 176/500 [49:04<1:21:33, 15.10s/row]"
     ]
    },
    {
     "name": "stdout",
     "output_type": "stream",
     "text": [
      "✅ Success with key AIzaS: {'final_sentiment': 'Positive', 'sarcasm': 'No', 'suggestion': 'No', 'suggestion_text': 'None', 'suggestion_type': 'None', 'emotion': 'gratitude', 'tone': 'grateful', 'urgency_flag': 'No', 'impact_level': 'Low', 'responsible_party': 'None', 'action_flag': 'No'}\n"
     ]
    },
    {
     "name": "stderr",
     "output_type": "stream",
     "text": [
      "🔍 Gemini Analysis:  35%|███▌      | 177/500 [49:15<1:14:57, 13.92s/row]"
     ]
    },
    {
     "name": "stdout",
     "output_type": "stream",
     "text": [
      "✅ Success with key AIzaS: {'final_sentiment': 'Positive', 'sarcasm': 'No', 'suggestion': 'No', 'suggestion_text': 'None', 'suggestion_type': 'None', 'emotion': 'satisfaction', 'tone': 'polite', 'urgency_flag': 'No', 'impact_level': 'Low', 'responsible_party': 'customer service', 'action_flag': 'No'}\n"
     ]
    },
    {
     "name": "stderr",
     "output_type": "stream",
     "text": [
      "🔍 Gemini Analysis:  36%|███▌      | 178/500 [49:38<1:29:16, 16.64s/row]"
     ]
    },
    {
     "name": "stdout",
     "output_type": "stream",
     "text": [
      "✅ Success with key AIzaS: {'final_sentiment': 'Positive', 'sarcasm': 'No', 'suggestion': 'Yes', 'suggestion_text': 'Open a showroom in Abu Arish for easier access.', 'suggestion_type': 'Feature Request', 'emotion': 'satisfaction', 'tone': 'polite', 'urgency_flag': 'No', 'impact_level': 'Low', 'responsible_party': 'management', 'action_flag': 'Yes'}\n"
     ]
    },
    {
     "name": "stderr",
     "output_type": "stream",
     "text": [
      "🔍 Gemini Analysis:  36%|███▌      | 179/500 [49:59<1:35:40, 17.88s/row]"
     ]
    },
    {
     "name": "stdout",
     "output_type": "stream",
     "text": [
      "✅ Success with key AIzaS: {'final_sentiment': 'Negative', 'sarcasm': 'No', 'suggestion': 'Yes', 'suggestion_text': 'More specialized employees needed in each section.', 'suggestion_type': 'Operational Improvement', 'emotion': 'None', 'tone': 'informal', 'urgency_flag': 'No', 'impact_level': 'Medium', 'responsible_party': 'management', 'action_flag': 'Yes'}\n"
     ]
    },
    {
     "name": "stderr",
     "output_type": "stream",
     "text": [
      "🔍 Gemini Analysis:  36%|███▌      | 180/500 [50:12<1:27:52, 16.48s/row]"
     ]
    },
    {
     "name": "stdout",
     "output_type": "stream",
     "text": [
      "✅ Success with key AIzaS: {'final_sentiment': 'Negative', 'sarcasm': 'No', 'suggestion': 'Yes', 'suggestion_text': 'Increase the number of sales persons who speak English.', 'suggestion_type': 'Operational Improvement', 'emotion': 'frustration', 'tone': 'polite', 'urgency_flag': 'No', 'impact_level': 'High', 'responsible_party': 'sales', 'action_flag': 'Yes'}\n"
     ]
    },
    {
     "name": "stderr",
     "output_type": "stream",
     "text": [
      "🔍 Gemini Analysis:  36%|███▌      | 181/500 [50:29<1:29:21, 16.81s/row]"
     ]
    },
    {
     "name": "stdout",
     "output_type": "stream",
     "text": [
      "✅ Success with key AIzaS: {'final_sentiment': 'Negative', 'sarcasm': 'No', 'suggestion': 'Yes', 'suggestion_text': 'Increase the number of service counters, especially on Friday nights, to reduce wait times and prevent customers from leaving.', 'suggestion_type': 'Operational Improvement', 'emotion': 'frustration', 'tone': 'frustrated', 'urgency_flag': 'Yes', 'impact_level': 'High', 'responsible_party': 'management', 'action_flag': 'Yes'}\n"
     ]
    },
    {
     "name": "stderr",
     "output_type": "stream",
     "text": [
      "🔍 Gemini Analysis:  36%|███▋      | 182/500 [50:42<1:22:47, 15.62s/row]"
     ]
    },
    {
     "name": "stdout",
     "output_type": "stream",
     "text": [
      "✅ Success with key AIzaS: {'final_sentiment': 'Neutral', 'sarcasm': 'No', 'suggestion': 'No', 'suggestion_text': 'None', 'suggestion_type': 'None', 'emotion': 'confusion', 'tone': 'informal', 'urgency_flag': 'No', 'impact_level': 'Low', 'responsible_party': 'None', 'action_flag': 'No'}\n"
     ]
    },
    {
     "name": "stderr",
     "output_type": "stream",
     "text": [
      "🔍 Gemini Analysis:  37%|███▋      | 183/500 [51:05<1:33:52, 17.77s/row]"
     ]
    },
    {
     "name": "stdout",
     "output_type": "stream",
     "text": [
      "✅ Success with key AIzaS: {'final_sentiment': 'Neutral', 'sarcasm': 'No', 'suggestion': 'No', 'suggestion_text': 'None', 'suggestion_type': 'None', 'emotion': 'satisfaction', 'tone': 'polite', 'urgency_flag': 'No', 'impact_level': 'Low', 'responsible_party': 'None', 'action_flag': 'No'}\n"
     ]
    },
    {
     "name": "stderr",
     "output_type": "stream",
     "text": [
      "🔍 Gemini Analysis:  37%|███▋      | 184/500 [51:29<1:44:13, 19.79s/row]"
     ]
    },
    {
     "name": "stdout",
     "output_type": "stream",
     "text": [
      "✅ Success with key AIzaS: {'final_sentiment': 'Neutral', 'sarcasm': 'No', 'suggestion': 'No', 'suggestion_text': 'None', 'suggestion_type': 'None', 'emotion': 'confusion', 'tone': 'informal', 'urgency_flag': 'No', 'impact_level': 'Low', 'responsible_party': 'None', 'action_flag': 'No'}\n"
     ]
    },
    {
     "name": "stderr",
     "output_type": "stream",
     "text": [
      "🔍 Gemini Analysis:  37%|███▋      | 185/500 [51:43<1:34:33, 18.01s/row]"
     ]
    },
    {
     "name": "stdout",
     "output_type": "stream",
     "text": [
      "✅ Success with key AIzaS: {'final_sentiment': 'Negative', 'sarcasm': 'No', 'suggestion': 'No', 'suggestion_text': 'None', 'suggestion_type': 'None', 'emotion': 'anger', 'tone': 'angry', 'urgency_flag': 'Yes', 'impact_level': 'High', 'responsible_party': 'management', 'action_flag': 'Yes'}\n"
     ]
    },
    {
     "name": "stderr",
     "output_type": "stream",
     "text": [
      "🔍 Gemini Analysis:  37%|███▋      | 186/500 [52:03<1:36:56, 18.52s/row]"
     ]
    },
    {
     "name": "stdout",
     "output_type": "stream",
     "text": [
      "✅ Success with key AIzaS: {'final_sentiment': 'Positive', 'sarcasm': 'No', 'suggestion': 'Yes', 'suggestion_text': 'Allow customers to order unavailable items, including those from unknown brands, for company procurement.', 'suggestion_type': 'Feature Request', 'emotion': 'satisfaction', 'tone': 'polite', 'urgency_flag': 'No', 'impact_level': 'Medium', 'responsible_party': 'management', 'action_flag': 'Yes'}\n"
     ]
    },
    {
     "name": "stderr",
     "output_type": "stream",
     "text": [
      "🔍 Gemini Analysis:  37%|███▋      | 187/500 [52:21<1:35:16, 18.26s/row]"
     ]
    },
    {
     "name": "stdout",
     "output_type": "stream",
     "text": [
      "✅ Success with key AIzaS: {'final_sentiment': 'Negative', 'sarcasm': 'No', 'suggestion': 'Yes', 'suggestion_text': \"Customers should not be pressured or manipulated away from their choices for the company's benefit.\", 'suggestion_type': 'Operational Improvement', 'emotion': 'frustration', 'tone': 'frustrated', 'urgency_flag': 'Yes', 'impact_level': 'High', 'responsible_party': 'management', 'action_flag': 'Yes'}\n"
     ]
    },
    {
     "name": "stderr",
     "output_type": "stream",
     "text": [
      "🔍 Gemini Analysis:  38%|███▊      | 188/500 [52:35<1:28:44, 17.07s/row]"
     ]
    },
    {
     "name": "stdout",
     "output_type": "stream",
     "text": [
      "✅ Success with key AIzaS: {'final_sentiment': 'Positive', 'sarcasm': 'No', 'suggestion': 'No', 'suggestion_text': 'None', 'suggestion_type': 'None', 'emotion': 'gratitude', 'tone': 'grateful', 'urgency_flag': 'No', 'impact_level': 'High', 'responsible_party': 'customer service', 'action_flag': 'No'}\n"
     ]
    },
    {
     "name": "stderr",
     "output_type": "stream",
     "text": [
      "🔍 Gemini Analysis:  38%|███▊      | 189/500 [52:49<1:24:26, 16.29s/row]"
     ]
    },
    {
     "name": "stdout",
     "output_type": "stream",
     "text": [
      "✅ Success with key AIzaS: {'final_sentiment': 'Neutral', 'sarcasm': 'No', 'suggestion': 'No', 'suggestion_text': 'None', 'suggestion_type': 'None', 'emotion': 'satisfaction', 'tone': 'polite', 'urgency_flag': 'No', 'impact_level': 'Low', 'responsible_party': 'None', 'action_flag': 'No'}\n"
     ]
    },
    {
     "name": "stderr",
     "output_type": "stream",
     "text": [
      "🔍 Gemini Analysis:  38%|███▊      | 190/500 [53:25<1:54:27, 22.15s/row]"
     ]
    },
    {
     "name": "stdout",
     "output_type": "stream",
     "text": [
      "✅ Success with key AIzaS: {'final_sentiment': 'Negative', 'sarcasm': 'No', 'suggestion': 'Yes', 'suggestion_text': 'Ensure product availability is confirmed before selling Jawda cards, especially since the card cannot be returned.', 'suggestion_type': 'Operational Improvement', 'emotion': ['disappointment', 'frustration'], 'tone': ['disappointed', 'frustrated'], 'urgency_flag': 'Yes', 'impact_level': 'High', 'responsible_party': 'sales', 'action_flag': 'Yes'}\n"
     ]
    },
    {
     "name": "stderr",
     "output_type": "stream",
     "text": [
      "🔍 Gemini Analysis:  38%|███▊      | 191/500 [53:48<1:55:10, 22.36s/row]"
     ]
    },
    {
     "name": "stdout",
     "output_type": "stream",
     "text": [
      "✅ Success with key AIzaS: {'final_sentiment': 'Positive', 'sarcasm': 'No', 'suggestion': 'No', 'suggestion_text': 'None', 'suggestion_type': 'None', 'emotion': 'gratitude', 'tone': 'grateful', 'urgency_flag': 'No', 'impact_level': 'Low', 'responsible_party': 'None', 'action_flag': 'No'}\n"
     ]
    },
    {
     "name": "stderr",
     "output_type": "stream",
     "text": [
      "🔍 Gemini Analysis:  38%|███▊      | 192/500 [53:58<1:35:51, 18.67s/row]"
     ]
    },
    {
     "name": "stdout",
     "output_type": "stream",
     "text": [
      "✅ Success with key AIzaS: {'final_sentiment': 'Positive', 'sarcasm': 'No', 'suggestion': 'No', 'suggestion_text': 'None', 'suggestion_type': 'None', 'emotion': 'satisfaction', 'tone': 'informal', 'urgency_flag': 'No', 'impact_level': 'Low', 'responsible_party': 'None', 'action_flag': 'No'}\n"
     ]
    },
    {
     "name": "stderr",
     "output_type": "stream",
     "text": [
      "🔍 Gemini Analysis:  39%|███▊      | 193/500 [54:17<1:36:07, 18.79s/row]"
     ]
    },
    {
     "name": "stdout",
     "output_type": "stream",
     "text": [
      "✅ Success with key AIzaS: {'final_sentiment': 'Positive', 'sarcasm': 'No', 'suggestion': 'No', 'suggestion_text': 'None', 'suggestion_type': 'None', 'emotion': 'satisfaction', 'tone': 'polite', 'urgency_flag': 'No', 'impact_level': 'Medium', 'responsible_party': 'customer service', 'action_flag': 'No'}\n"
     ]
    },
    {
     "name": "stderr",
     "output_type": "stream",
     "text": [
      "🔍 Gemini Analysis:  39%|███▉      | 194/500 [54:42<1:45:06, 20.61s/row]"
     ]
    },
    {
     "name": "stdout",
     "output_type": "stream",
     "text": [
      "✅ Success with key AIzaS: {'final_sentiment': 'Positive', 'sarcasm': 'No', 'suggestion': 'No', 'suggestion_text': 'None', 'suggestion_type': 'None', 'emotion': 'satisfaction', 'tone': 'informal', 'urgency_flag': 'No', 'impact_level': 'Low', 'responsible_party': 'sales', 'action_flag': 'No'}\n"
     ]
    },
    {
     "name": "stderr",
     "output_type": "stream",
     "text": [
      "🔍 Gemini Analysis:  39%|███▉      | 195/500 [55:01<1:42:19, 20.13s/row]"
     ]
    },
    {
     "name": "stdout",
     "output_type": "stream",
     "text": [
      "✅ Success with key AIzaS: {'final_sentiment': 'Positive', 'sarcasm': 'No', 'suggestion': 'No', 'suggestion_text': 'None', 'suggestion_type': 'None', 'emotion': 'satisfaction', 'tone': 'grateful', 'urgency_flag': 'No', 'impact_level': 'High', 'responsible_party': 'technical support', 'action_flag': 'Yes'}\n"
     ]
    },
    {
     "name": "stderr",
     "output_type": "stream",
     "text": [
      "🔍 Gemini Analysis:  39%|███▉      | 196/500 [55:19<1:37:55, 19.33s/row]"
     ]
    },
    {
     "name": "stdout",
     "output_type": "stream",
     "text": [
      "✅ Success with key AIzaS: {'final_sentiment': 'Neutral', 'sarcasm': 'No', 'suggestion': 'Yes', 'suggestion_text': 'Reduce delivery time', 'suggestion_type': 'Operational Improvement', 'emotion': 'disappointment', 'tone': 'polite', 'urgency_flag': 'No', 'impact_level': 'Medium', 'responsible_party': 'delivery team', 'action_flag': 'Yes'}\n"
     ]
    },
    {
     "name": "stderr",
     "output_type": "stream",
     "text": [
      "🔍 Gemini Analysis:  39%|███▉      | 197/500 [55:35<1:32:33, 18.33s/row]"
     ]
    },
    {
     "name": "stdout",
     "output_type": "stream",
     "text": [
      "✅ Success with key AIzaS: {'final_sentiment': 'Neutral', 'sarcasm': 'No', 'suggestion': 'Yes', 'suggestion_text': 'Increase display of industrial products', 'suggestion_type': 'Feature Request', 'emotion': 'satisfaction', 'tone': 'polite', 'urgency_flag': 'No', 'impact_level': 'Low', 'responsible_party': 'management', 'action_flag': 'Yes'}\n"
     ]
    },
    {
     "name": "stderr",
     "output_type": "stream",
     "text": [
      "🔍 Gemini Analysis:  40%|███▉      | 198/500 [56:00<1:42:39, 20.40s/row]"
     ]
    },
    {
     "name": "stdout",
     "output_type": "stream",
     "text": [
      "✅ Success with key AIzaS: {'final_sentiment': 'Positive', 'sarcasm': 'No', 'suggestion': 'No', 'suggestion_text': 'None', 'suggestion_type': 'None', 'emotion': 'satisfaction', 'tone': 'grateful', 'urgency_flag': 'No', 'impact_level': 'Low', 'responsible_party': 'customer service', 'action_flag': 'No'}\n"
     ]
    },
    {
     "name": "stderr",
     "output_type": "stream",
     "text": [
      "🔍 Gemini Analysis:  40%|███▉      | 199/500 [56:14<1:32:12, 18.38s/row]"
     ]
    },
    {
     "name": "stdout",
     "output_type": "stream",
     "text": [
      "✅ Success with key AIzaS: {'final_sentiment': 'Positive', 'sarcasm': 'No', 'suggestion': 'No', 'suggestion_text': 'None', 'suggestion_type': 'None', 'emotion': 'satisfaction', 'tone': 'enthusiastic', 'urgency_flag': 'No', 'impact_level': 'High', 'responsible_party': 'None', 'action_flag': 'No'}\n"
     ]
    },
    {
     "name": "stderr",
     "output_type": "stream",
     "text": [
      "🔍 Gemini Analysis:  40%|████      | 200/500 [56:24<1:19:33, 15.91s/row]"
     ]
    },
    {
     "name": "stdout",
     "output_type": "stream",
     "text": [
      "✅ Success with key AIzaS: {'final_sentiment': 'Neutral', 'sarcasm': 'No', 'suggestion': 'No', 'suggestion_text': 'None', 'suggestion_type': 'None', 'emotion': 'confusion', 'tone': 'informal', 'urgency_flag': 'No', 'impact_level': 'Low', 'responsible_party': 'None', 'action_flag': 'No'}\n"
     ]
    },
    {
     "name": "stderr",
     "output_type": "stream",
     "text": [
      "🔍 Gemini Analysis:  40%|████      | 201/500 [56:35<1:12:29, 14.55s/row]"
     ]
    },
    {
     "name": "stdout",
     "output_type": "stream",
     "text": [
      "✅ Success with key AIzaS: {'final_sentiment': 'Positive', 'sarcasm': 'No', 'suggestion': 'No', 'suggestion_text': 'None', 'suggestion_type': 'None', 'emotion': 'satisfaction', 'tone': 'grateful', 'urgency_flag': 'No', 'impact_level': 'High', 'responsible_party': 'None', 'action_flag': 'No'}\n"
     ]
    },
    {
     "name": "stderr",
     "output_type": "stream",
     "text": [
      "🔍 Gemini Analysis:  40%|████      | 202/500 [57:06<1:36:26, 19.42s/row]"
     ]
    },
    {
     "name": "stdout",
     "output_type": "stream",
     "text": [
      "✅ Success with key AIzaS: {'final_sentiment': 'Negative', 'sarcasm': 'No', 'suggestion': 'No', 'suggestion_text': 'None', 'suggestion_type': 'None', 'emotion': 'anger', 'tone': 'angry', 'urgency_flag': 'Yes', 'impact_level': 'High', 'responsible_party': 'customer service', 'action_flag': 'Yes'}\n"
     ]
    },
    {
     "name": "stderr",
     "output_type": "stream",
     "text": [
      "🔍 Gemini Analysis:  41%|████      | 203/500 [57:29<1:41:56, 20.59s/row]"
     ]
    },
    {
     "name": "stdout",
     "output_type": "stream",
     "text": [
      "✅ Success with key AIzaS: {'final_sentiment': 'Positive', 'sarcasm': 'No', 'suggestion': 'No', 'suggestion_text': 'None', 'suggestion_type': 'None', 'emotion': 'satisfaction', 'tone': 'enthusiastic', 'urgency_flag': 'No', 'impact_level': 'Low', 'responsible_party': 'customer service', 'action_flag': 'No'}\n"
     ]
    },
    {
     "name": "stderr",
     "output_type": "stream",
     "text": [
      "🔍 Gemini Analysis:  41%|████      | 204/500 [57:51<1:42:59, 20.88s/row]"
     ]
    },
    {
     "name": "stdout",
     "output_type": "stream",
     "text": [
      "✅ Success with key AIzaS: {'final_sentiment': 'Negative', 'sarcasm': 'No', 'suggestion': 'Yes', 'suggestion_text': 'Allow using gift cards and credit card discounts simultaneously for the same order.', 'suggestion_type': 'Feature Request', 'emotion': 'confusion', 'tone': 'polite', 'urgency_flag': 'No', 'impact_level': 'Medium', 'responsible_party': 'billing', 'action_flag': 'Yes'}\n"
     ]
    },
    {
     "name": "stderr",
     "output_type": "stream",
     "text": [
      "🔍 Gemini Analysis:  41%|████      | 205/500 [58:07<1:36:16, 19.58s/row]"
     ]
    },
    {
     "name": "stdout",
     "output_type": "stream",
     "text": [
      "✅ Success with key AIzaS: {'final_sentiment': 'Positive', 'sarcasm': 'No', 'suggestion': 'No', 'suggestion_text': 'None', 'suggestion_type': 'None', 'emotion': 'gratitude', 'tone': 'polite', 'urgency_flag': 'No', 'impact_level': 'Low', 'responsible_party': 'None', 'action_flag': 'No'}\n"
     ]
    },
    {
     "name": "stderr",
     "output_type": "stream",
     "text": [
      "🔍 Gemini Analysis:  41%|████      | 206/500 [58:18<1:22:29, 16.84s/row]"
     ]
    },
    {
     "name": "stdout",
     "output_type": "stream",
     "text": [
      "✅ Success with key AIzaS: {'final_sentiment': 'Neutral', 'sarcasm': 'No', 'suggestion': 'No', 'suggestion_text': 'None', 'suggestion_type': 'None', 'emotion': 'None', 'tone': 'informal', 'urgency_flag': 'No', 'impact_level': 'Low', 'responsible_party': 'None', 'action_flag': 'No'}\n"
     ]
    },
    {
     "name": "stderr",
     "output_type": "stream",
     "text": [
      "🔍 Gemini Analysis:  41%|████▏     | 207/500 [58:28<1:12:23, 14.83s/row]"
     ]
    },
    {
     "name": "stdout",
     "output_type": "stream",
     "text": [
      "⚠️ API Error with key AIzaS...: 429 Resource has been exhausted (e.g. check quota).\n",
      "⚠️ API Error with key AIzaS...: 429 Resource has been exhausted (e.g. check quota).\n",
      "✅ Success with key AIzaS: {'final_sentiment': 'Positive', 'sarcasm': 'No', 'suggestion': 'Yes', 'suggestion_text': 'User suggests signing a contract for company delivery to avoid the need for store visits.', 'suggestion_type': 'Feature Request', 'emotion': 'disappointment', 'tone': 'polite', 'urgency_flag': 'No', 'impact_level': 'Medium', 'responsible_party': 'management', 'action_flag': 'Yes'}\n"
     ]
    },
    {
     "name": "stderr",
     "output_type": "stream",
     "text": [
      "🔍 Gemini Analysis:  42%|████▏     | 208/500 [58:58<1:34:20, 19.39s/row]"
     ]
    },
    {
     "name": "stdout",
     "output_type": "stream",
     "text": [
      "⚠️ API Error with key AIzaS...: 429 Resource has been exhausted (e.g. check quota).\n",
      "⚠️ API Error with key AIzaS...: 429 Resource has been exhausted (e.g. check quota).\n",
      "⚠️ API Error with key AIzaS...: 429 Resource has been exhausted (e.g. check quota).\n",
      "⚠️ API Error with key AIzaS...: 429 Resource has been exhausted (e.g. check quota).\n",
      "⚠️ API Error with key AIzaS...: 429 Resource has been exhausted (e.g. check quota).\n",
      "⚠️ API Error with key AIzaS...: 429 Resource has been exhausted (e.g. check quota).\n",
      "✅ Success with key AIzaS: {'final_sentiment': 'Positive', 'sarcasm': 'No', 'suggestion': 'No', 'suggestion_text': 'None', 'suggestion_type': 'None', 'emotion': ['satisfaction', 'gratitude'], 'tone': ['grateful', 'polite'], 'urgency_flag': 'No', 'impact_level': 'Low', 'responsible_party': 'customer service', 'action_flag': 'No'}\n"
     ]
    },
    {
     "name": "stderr",
     "output_type": "stream",
     "text": [
      "🔍 Gemini Analysis:  42%|████▏     | 209/500 [59:22<1:40:18, 20.68s/row]"
     ]
    },
    {
     "name": "stdout",
     "output_type": "stream",
     "text": [
      "✅ Success with key AIzaS: {'final_sentiment': 'Neutral', 'sarcasm': 'No', 'suggestion': 'Yes', 'suggestion_text': 'More variety in product colors and types', 'suggestion_type': 'Feature Request', 'emotion': 'disappointment', 'tone': 'informal', 'urgency_flag': 'No', 'impact_level': 'Low', 'responsible_party': 'management', 'action_flag': 'Yes'}\n"
     ]
    },
    {
     "name": "stderr",
     "output_type": "stream",
     "text": [
      "🔍 Gemini Analysis:  42%|████▏     | 210/500 [59:44<1:42:26, 21.20s/row]"
     ]
    },
    {
     "name": "stdout",
     "output_type": "stream",
     "text": [
      "✅ Success with key AIzaS: {'final_sentiment': 'Positive', 'sarcasm': 'No', 'suggestion': 'No', 'suggestion_text': 'None', 'suggestion_type': 'None', 'emotion': 'satisfaction', 'tone': 'enthusiastic', 'urgency_flag': 'No', 'impact_level': 'Low', 'responsible_party': 'sales', 'action_flag': 'No'}\n"
     ]
    },
    {
     "name": "stderr",
     "output_type": "stream",
     "text": [
      "🔍 Gemini Analysis:  42%|████▏     | 211/500 [59:54<1:25:52, 17.83s/row]"
     ]
    },
    {
     "name": "stdout",
     "output_type": "stream",
     "text": [
      "⚠️ API Error with key AIzaS...: 429 Resource has been exhausted (e.g. check quota).\n",
      "⚠️ API Error with key AIzaS...: 429 Resource has been exhausted (e.g. check quota).\n",
      "✅ Success with key AIzaS: {'final_sentiment': 'Positive', 'sarcasm': 'No', 'suggestion': 'No', 'suggestion_text': 'None', 'suggestion_type': 'None', 'emotion': 'satisfaction', 'tone': 'polite', 'urgency_flag': 'No', 'impact_level': 'Low', 'responsible_party': 'None', 'action_flag': 'No'}\n"
     ]
    },
    {
     "name": "stderr",
     "output_type": "stream",
     "text": [
      "🔍 Gemini Analysis:  42%|████▏     | 212/500 [1:00:11<1:24:12, 17.54s/row]"
     ]
    },
    {
     "name": "stdout",
     "output_type": "stream",
     "text": [
      "⚠️ API Error with key AIzaS...: 429 Resource has been exhausted (e.g. check quota).\n",
      "⚠️ API Error with key AIzaS...: 429 Resource has been exhausted (e.g. check quota).\n",
      "⚠️ API Error with key AIzaS...: 429 Resource has been exhausted (e.g. check quota).\n",
      "⚠️ API Error with key AIzaS...: 429 Resource has been exhausted (e.g. check quota).\n",
      "✅ Success with key AIzaS: {'final_sentiment': 'Neutral', 'sarcasm': 'No', 'suggestion': 'No', 'suggestion_text': 'None', 'suggestion_type': 'None', 'emotion': 'None', 'tone': 'informal', 'urgency_flag': 'No', 'impact_level': 'Low', 'responsible_party': 'None', 'action_flag': 'No'}\n"
     ]
    },
    {
     "name": "stderr",
     "output_type": "stream",
     "text": [
      "🔍 Gemini Analysis:  43%|████▎     | 213/500 [1:00:35<1:33:48, 19.61s/row]"
     ]
    },
    {
     "name": "stdout",
     "output_type": "stream",
     "text": [
      "⚠️ API Error with key AIzaS...: 429 Resource has been exhausted (e.g. check quota).\n",
      "⚠️ API Error with key AIzaS...: 429 Resource has been exhausted (e.g. check quota).\n",
      "⚠️ API Error with key AIzaS...: 429 Resource has been exhausted (e.g. check quota).\n",
      "⚠️ API Error with key AIzaS...: 429 Resource has been exhausted (e.g. check quota).\n",
      "⚠️ API Error with key AIzaS...: 429 Resource has been exhausted (e.g. check quota).\n",
      "⚠️ API Error with key AIzaS...: 429 Resource has been exhausted (e.g. check quota).\n",
      "⚠️ API Error with key AIzaS...: 429 Resource has been exhausted (e.g. check quota).\n",
      "⚠️ API Error with key AIzaS...: 429 Resource has been exhausted (e.g. check quota).\n",
      "⚠️ API Error with key AIzaS...: 429 Resource has been exhausted (e.g. check quota).\n"
     ]
    },
    {
     "name": "stderr",
     "output_type": "stream",
     "text": [
      "🔍 Gemini Analysis:  43%|████▎     | 214/500 [1:00:52<1:28:56, 18.66s/row]"
     ]
    },
    {
     "name": "stdout",
     "output_type": "stream",
     "text": [
      "⚠️ API Error with key AIzaS...: 429 Resource has been exhausted (e.g. check quota).\n",
      "⚠️ API Error with key AIzaS...: 429 Resource has been exhausted (e.g. check quota).\n",
      "⚠️ API Error with key AIzaS...: 429 Resource has been exhausted (e.g. check quota).\n",
      "⚠️ API Error with key AIzaS...: 429 Resource has been exhausted (e.g. check quota).\n",
      "⚠️ API Error with key AIzaS...: 429 Resource has been exhausted (e.g. check quota).\n",
      "⚠️ API Error with key AIzaS...: 429 Resource has been exhausted (e.g. check quota).\n",
      "✅ Success with key AIzaS: {'final_sentiment': 'Positive', 'sarcasm': 'No', 'suggestion': 'No', 'suggestion_text': 'None', 'suggestion_type': 'None', 'emotion': 'joy', 'tone': 'grateful', 'urgency_flag': 'No', 'impact_level': 'Low', 'responsible_party': 'None', 'action_flag': 'No'}\n"
     ]
    },
    {
     "name": "stderr",
     "output_type": "stream",
     "text": [
      "🔍 Gemini Analysis:  43%|████▎     | 215/500 [1:01:13<1:33:08, 19.61s/row]"
     ]
    },
    {
     "name": "stdout",
     "output_type": "stream",
     "text": [
      "⚠️ API Error with key AIzaS...: 429 Resource has been exhausted (e.g. check quota).\n",
      "⚠️ API Error with key AIzaS...: 429 Resource has been exhausted (e.g. check quota).\n",
      "⚠️ API Error with key AIzaS...: 429 Resource has been exhausted (e.g. check quota).\n",
      "✅ Success with key AIzaS: {'final_sentiment': 'Positive', 'sarcasm': 'No', 'suggestion': 'No', 'suggestion_text': 'None', 'suggestion_type': 'None', 'emotion': 'satisfaction', 'tone': 'informal', 'urgency_flag': 'No', 'impact_level': 'Low', 'responsible_party': 'None', 'action_flag': 'No'}\n"
     ]
    },
    {
     "name": "stderr",
     "output_type": "stream",
     "text": [
      "🔍 Gemini Analysis:  43%|████▎     | 216/500 [1:01:29<1:27:06, 18.40s/row]"
     ]
    },
    {
     "name": "stdout",
     "output_type": "stream",
     "text": [
      "✅ Success with key AIzaS: {'final_sentiment': 'Negative', 'sarcasm': 'No', 'suggestion': 'Yes', 'suggestion_text': 'Long delay (over 15 days) in scheduled maintenance for washing machine and AC, and difficulty getting support at the branch.', 'suggestion_type': 'Complaint', 'emotion': ['frustration', 'disappointment'], 'tone': ['polite', 'frustrated', 'disappointed'], 'urgency_flag': 'Yes', 'impact_level': 'High', 'responsible_party': 'technical support', 'action_flag': 'Yes'}\n"
     ]
    },
    {
     "name": "stderr",
     "output_type": "stream",
     "text": [
      "🔍 Gemini Analysis:  43%|████▎     | 217/500 [1:01:50<1:29:41, 19.01s/row]"
     ]
    },
    {
     "name": "stdout",
     "output_type": "stream",
     "text": [
      "✅ Success with key AIzaS: {'final_sentiment': 'Neutral', 'sarcasm': 'No', 'suggestion': 'Yes', 'suggestion_text': 'User requests more promotions and offers.', 'suggestion_type': 'Feature Request', 'emotion': 'disappointment', 'tone': 'informal', 'urgency_flag': 'No', 'impact_level': 'Low', 'responsible_party': 'sales', 'action_flag': 'Yes'}\n"
     ]
    },
    {
     "name": "stderr",
     "output_type": "stream",
     "text": [
      "🔍 Gemini Analysis:  44%|████▎     | 218/500 [1:02:11<1:32:23, 19.66s/row]"
     ]
    },
    {
     "name": "stdout",
     "output_type": "stream",
     "text": [
      "✅ Success with key AIzaS: {'final_sentiment': 'Negative', 'sarcasm': 'No', 'suggestion': 'Yes', 'suggestion_text': 'Deliver the paid product', 'suggestion_type': 'Complaint', 'emotion': 'frustration', 'tone': 'frustrated', 'urgency_flag': 'Yes', 'impact_level': 'High', 'responsible_party': 'delivery team', 'action_flag': 'Yes'}\n"
     ]
    },
    {
     "name": "stderr",
     "output_type": "stream",
     "text": [
      "🔍 Gemini Analysis:  44%|████▍     | 219/500 [1:02:31<1:33:28, 19.96s/row]"
     ]
    },
    {
     "name": "stdout",
     "output_type": "stream",
     "text": [
      "✅ Success with key AIzaS: {'final_sentiment': 'Neutral', 'sarcasm': 'No', 'suggestion': 'No', 'suggestion_text': 'None', 'suggestion_type': 'None', 'emotion': 'None', 'tone': 'informal', 'urgency_flag': 'No', 'impact_level': 'Low', 'responsible_party': 'None', 'action_flag': 'No'}\n"
     ]
    },
    {
     "name": "stderr",
     "output_type": "stream",
     "text": [
      "🔍 Gemini Analysis:  44%|████▍     | 220/500 [1:02:45<1:24:35, 18.13s/row]"
     ]
    },
    {
     "name": "stdout",
     "output_type": "stream",
     "text": [
      "✅ Success with key AIzaS: {'final_sentiment': 'Positive', 'sarcasm': 'No', 'suggestion': 'No', 'suggestion_text': 'None', 'suggestion_type': 'None', 'emotion': 'satisfaction', 'tone': 'enthusiastic', 'urgency_flag': 'No', 'impact_level': 'Low', 'responsible_party': 'None', 'action_flag': 'No'}\n"
     ]
    },
    {
     "name": "stderr",
     "output_type": "stream",
     "text": [
      "🔍 Gemini Analysis:  44%|████▍     | 221/500 [1:02:57<1:16:02, 16.35s/row]"
     ]
    },
    {
     "name": "stdout",
     "output_type": "stream",
     "text": [
      "✅ Success with key AIzaS: {'final_sentiment': 'Positive', 'sarcasm': 'No', 'suggestion': 'No', 'suggestion_text': 'None', 'suggestion_type': 'None', 'emotion': 'satisfaction', 'tone': 'grateful', 'urgency_flag': 'No', 'impact_level': 'Low', 'responsible_party': 'customer service', 'action_flag': 'No'}\n"
     ]
    },
    {
     "name": "stderr",
     "output_type": "stream",
     "text": [
      "🔍 Gemini Analysis:  44%|████▍     | 222/500 [1:03:09<1:08:51, 14.86s/row]"
     ]
    },
    {
     "name": "stdout",
     "output_type": "stream",
     "text": [
      "⚠️ API Error with key AIzaS...: 429 Resource has been exhausted (e.g. check quota).\n",
      "⚠️ API Error with key AIzaS...: 429 Resource has been exhausted (e.g. check quota).\n",
      "⚠️ API Error with key AIzaS...: 429 Resource has been exhausted (e.g. check quota).\n",
      "⚠️ API Error with key AIzaS...: 429 Resource has been exhausted (e.g. check quota).\n",
      "⚠️ API Error with key AIzaS...: 429 Resource has been exhausted (e.g. check quota).\n",
      "⚠️ API Error with key AIzaS...: 429 Resource has been exhausted (e.g. check quota).\n",
      "⚠️ API Error with key AIzaS...: 429 Resource has been exhausted (e.g. check quota).\n",
      "⚠️ API Error with key AIzaS...: 429 Resource has been exhausted (e.g. check quota).\n",
      "⚠️ API Error with key AIzaS...: 429 Resource has been exhausted (e.g. check quota).\n"
     ]
    },
    {
     "name": "stderr",
     "output_type": "stream",
     "text": [
      "🔍 Gemini Analysis:  45%|████▍     | 223/500 [1:03:26<1:11:57, 15.59s/row]"
     ]
    },
    {
     "name": "stdout",
     "output_type": "stream",
     "text": [
      "⚠️ API Error with key AIzaS...: 429 Resource has been exhausted (e.g. check quota).\n",
      "⚠️ API Error with key AIzaS...: 429 Resource has been exhausted (e.g. check quota).\n",
      "✅ Success with key AIzaS: {'final_sentiment': 'Positive', 'sarcasm': 'No', 'suggestion': 'Yes', 'suggestion_text': 'Customer suggests more offers to increase sales.', 'suggestion_type': 'Operational Improvement', 'emotion': 'satisfaction', 'tone': 'informal', 'urgency_flag': 'No', 'impact_level': 'High', 'responsible_party': 'sales', 'action_flag': 'Yes'}\n"
     ]
    },
    {
     "name": "stderr",
     "output_type": "stream",
     "text": [
      "🔍 Gemini Analysis:  45%|████▍     | 224/500 [1:03:56<1:31:40, 19.93s/row]"
     ]
    },
    {
     "name": "stdout",
     "output_type": "stream",
     "text": [
      "✅ Success with key AIzaS: {'final_sentiment': 'Negative', 'sarcasm': 'Yes', 'suggestion': 'Yes', 'suggestion_text': 'Staff should attend to all customers equally, without discrimination based on nationality.', 'suggestion_type': 'Operational Improvement', 'emotion': 'frustration', 'tone': 'frustrated', 'urgency_flag': 'Yes', 'impact_level': 'High', 'responsible_party': 'customer service', 'action_flag': 'Yes'}\n"
     ]
    },
    {
     "name": "stderr",
     "output_type": "stream",
     "text": [
      "🔍 Gemini Analysis:  45%|████▌     | 225/500 [1:04:15<1:30:03, 19.65s/row]"
     ]
    },
    {
     "name": "stdout",
     "output_type": "stream",
     "text": [
      "✅ Success with key AIzaS: {'final_sentiment': 'Neutral', 'sarcasm': 'No', 'suggestion': 'No', 'suggestion_text': 'None', 'suggestion_type': 'None', 'emotion': 'satisfaction', 'tone': 'informal', 'urgency_flag': 'No', 'impact_level': 'Low', 'responsible_party': 'None', 'action_flag': 'No'}\n"
     ]
    },
    {
     "name": "stderr",
     "output_type": "stream",
     "text": [
      "🔍 Gemini Analysis:  45%|████▌     | 226/500 [1:04:56<1:58:32, 25.96s/row]"
     ]
    },
    {
     "name": "stdout",
     "output_type": "stream",
     "text": [
      "✅ Success with key AIzaS: {'final_sentiment': 'Positive', 'sarcasm': 'No', 'suggestion': 'No', 'suggestion_text': 'None', 'suggestion_type': 'None', 'emotion': 'satisfaction', 'tone': 'polite', 'urgency_flag': 'No', 'impact_level': 'High', 'responsible_party': 'customer service', 'action_flag': 'No'}\n"
     ]
    },
    {
     "name": "stderr",
     "output_type": "stream",
     "text": [
      "🔍 Gemini Analysis:  45%|████▌     | 227/500 [1:05:10<1:41:59, 22.42s/row]"
     ]
    },
    {
     "name": "stdout",
     "output_type": "stream",
     "text": [
      "✅ Success with key AIzaS: {'final_sentiment': 'Neutral', 'sarcasm': 'No', 'suggestion': 'No', 'suggestion_text': 'None', 'suggestion_type': 'None', 'emotion': 'confusion', 'tone': 'informal', 'urgency_flag': 'No', 'impact_level': 'Low', 'responsible_party': 'None', 'action_flag': 'No'}\n"
     ]
    },
    {
     "name": "stderr",
     "output_type": "stream",
     "text": [
      "🔍 Gemini Analysis:  46%|████▌     | 228/500 [1:05:49<2:04:31, 27.47s/row]"
     ]
    },
    {
     "name": "stdout",
     "output_type": "stream",
     "text": [
      "✅ Success with key AIzaS: {'final_sentiment': 'Negative', 'sarcasm': 'No', 'suggestion': 'Yes', 'suggestion_text': 'User requests to stop receiving communications due to being annoyed.', 'suggestion_type': 'Operational Improvement', 'emotion': 'anger', 'tone': 'angry', 'urgency_flag': 'Yes', 'impact_level': 'High', 'responsible_party': 'management', 'action_flag': 'Yes'}\n"
     ]
    },
    {
     "name": "stderr",
     "output_type": "stream",
     "text": [
      "🔍 Gemini Analysis:  46%|████▌     | 229/500 [1:06:15<2:01:30, 26.90s/row]"
     ]
    },
    {
     "name": "stdout",
     "output_type": "stream",
     "text": [
      "✅ Success with key AIzaS: {'final_sentiment': 'Positive', 'sarcasm': 'No', 'suggestion': 'No', 'suggestion_text': 'None', 'suggestion_type': 'None', 'emotion': 'gratitude', 'tone': 'polite', 'urgency_flag': 'No', 'impact_level': 'Low', 'responsible_party': 'None', 'action_flag': 'No'}\n"
     ]
    },
    {
     "name": "stderr",
     "output_type": "stream",
     "text": [
      "🔍 Gemini Analysis:  46%|████▌     | 230/500 [1:06:27<1:41:04, 22.46s/row]"
     ]
    },
    {
     "name": "stdout",
     "output_type": "stream",
     "text": [
      "✅ Success with key AIzaS: {'final_sentiment': 'Positive', 'sarcasm': 'No', 'suggestion': 'No', 'suggestion_text': 'None', 'suggestion_type': 'None', 'emotion': 'gratitude', 'tone': 'grateful', 'urgency_flag': 'No', 'impact_level': 'Low', 'responsible_party': 'None', 'action_flag': 'No'}\n"
     ]
    },
    {
     "name": "stderr",
     "output_type": "stream",
     "text": [
      "🔍 Gemini Analysis:  46%|████▌     | 231/500 [1:06:39<1:26:16, 19.24s/row]"
     ]
    },
    {
     "name": "stdout",
     "output_type": "stream",
     "text": [
      "✅ Success with key AIzaS: {'final_sentiment': 'Positive', 'sarcasm': 'No', 'suggestion': 'No', 'suggestion_text': 'None', 'suggestion_type': 'None', 'emotion': 'satisfaction', 'tone': 'polite', 'urgency_flag': 'No', 'impact_level': 'Low', 'responsible_party': 'customer service', 'action_flag': 'No'}\n"
     ]
    },
    {
     "name": "stderr",
     "output_type": "stream",
     "text": [
      "🔍 Gemini Analysis:  46%|████▋     | 232/500 [1:07:01<1:29:56, 20.14s/row]"
     ]
    },
    {
     "name": "stdout",
     "output_type": "stream",
     "text": [
      "⚠️ API Error with key AIzaS...: Expecting value: line 1 column 1 (char 0)\n",
      "✅ Success with key AIzaS: {'final_sentiment': 'Neutral', 'sarcasm': 'No', 'suggestion': 'No', 'suggestion_text': 'None', 'suggestion_type': 'None', 'emotion': 'confusion', 'tone': 'informal', 'urgency_flag': 'No', 'impact_level': 'Low', 'responsible_party': 'None', 'action_flag': 'No'}\n"
     ]
    },
    {
     "name": "stderr",
     "output_type": "stream",
     "text": [
      "🔍 Gemini Analysis:  47%|████▋     | 233/500 [1:07:22<1:30:47, 20.40s/row]"
     ]
    },
    {
     "name": "stdout",
     "output_type": "stream",
     "text": [
      "✅ Success with key AIzaS: {'final_sentiment': 'Negative', 'sarcasm': 'No', 'suggestion': 'Yes', 'suggestion_text': 'Expedite providing spare parts.', 'suggestion_type': 'Operational Improvement', 'emotion': 'frustration', 'tone': 'urgent', 'urgency_flag': 'Yes', 'impact_level': 'High', 'responsible_party': 'delivery team', 'action_flag': 'Yes'}\n"
     ]
    },
    {
     "name": "stderr",
     "output_type": "stream",
     "text": [
      "🔍 Gemini Analysis:  47%|████▋     | 234/500 [1:07:36<1:21:36, 18.41s/row]"
     ]
    },
    {
     "name": "stdout",
     "output_type": "stream",
     "text": [
      "✅ Success with key AIzaS: {'final_sentiment': 'Positive', 'sarcasm': 'No', 'suggestion': 'No', 'suggestion_text': 'None', 'suggestion_type': 'None', 'emotion': 'satisfaction', 'tone': 'polite', 'urgency_flag': 'No', 'impact_level': 'Low', 'responsible_party': 'customer service', 'action_flag': 'No'}\n"
     ]
    },
    {
     "name": "stderr",
     "output_type": "stream",
     "text": [
      "🔍 Gemini Analysis:  47%|████▋     | 235/500 [1:07:46<1:10:49, 16.03s/row]"
     ]
    },
    {
     "name": "stdout",
     "output_type": "stream",
     "text": [
      "✅ Success with key AIzaS: {'final_sentiment': 'Positive', 'sarcasm': 'No', 'suggestion': 'No', 'suggestion_text': 'None', 'suggestion_type': 'None', 'emotion': 'joy', 'tone': 'enthusiastic', 'urgency_flag': 'No', 'impact_level': 'Low', 'responsible_party': 'None', 'action_flag': 'No'}\n"
     ]
    },
    {
     "name": "stderr",
     "output_type": "stream",
     "text": [
      "🔍 Gemini Analysis:  47%|████▋     | 236/500 [1:07:57<1:03:42, 14.48s/row]"
     ]
    },
    {
     "name": "stdout",
     "output_type": "stream",
     "text": [
      "✅ Success with key AIzaS: {'final_sentiment': 'Positive', 'sarcasm': 'No', 'suggestion': 'No', 'suggestion_text': 'None', 'suggestion_type': 'None', 'emotion': 'joy', 'tone': 'informal', 'urgency_flag': 'No', 'impact_level': 'Low', 'responsible_party': 'None', 'action_flag': 'No'}\n"
     ]
    },
    {
     "name": "stderr",
     "output_type": "stream",
     "text": [
      "🔍 Gemini Analysis:  47%|████▋     | 237/500 [1:08:11<1:02:46, 14.32s/row]"
     ]
    },
    {
     "name": "stdout",
     "output_type": "stream",
     "text": [
      "✅ Success with key AIzaS: {'final_sentiment': 'Positive', 'sarcasm': 'No', 'suggestion': 'No', 'suggestion_text': 'None', 'suggestion_type': 'None', 'emotion': 'gratitude', 'tone': 'grateful', 'urgency_flag': 'No', 'impact_level': 'Low', 'responsible_party': 'customer service', 'action_flag': 'No'}\n"
     ]
    },
    {
     "name": "stderr",
     "output_type": "stream",
     "text": [
      "🔍 Gemini Analysis:  48%|████▊     | 238/500 [1:08:25<1:02:03, 14.21s/row]"
     ]
    },
    {
     "name": "stdout",
     "output_type": "stream",
     "text": [
      "✅ Success with key AIzaS: {'final_sentiment': 'Negative', 'sarcasm': 'No', 'suggestion': 'Yes', 'suggestion_text': 'Reduce waiting time and streamline device delivery process by minimizing information printing.', 'suggestion_type': 'Operational Improvement', 'emotion': 'frustration', 'tone': 'frustrated', 'urgency_flag': 'Yes', 'impact_level': 'High', 'responsible_party': 'delivery team', 'action_flag': 'Yes'}\n"
     ]
    },
    {
     "name": "stderr",
     "output_type": "stream",
     "text": [
      "🔍 Gemini Analysis:  48%|████▊     | 239/500 [1:08:41<1:04:30, 14.83s/row]"
     ]
    },
    {
     "name": "stdout",
     "output_type": "stream",
     "text": [
      "✅ Success with key AIzaS: {'final_sentiment': 'Negative', 'sarcasm': 'No', 'suggestion': 'No', 'suggestion_text': 'None', 'suggestion_type': 'None', 'emotion': 'frustration', 'tone': 'frustrated', 'urgency_flag': 'Yes', 'impact_level': 'High', 'responsible_party': 'None', 'action_flag': 'Yes'}\n"
     ]
    },
    {
     "name": "stderr",
     "output_type": "stream",
     "text": [
      "🔍 Gemini Analysis:  48%|████▊     | 240/500 [1:09:01<1:10:38, 16.30s/row]"
     ]
    },
    {
     "name": "stdout",
     "output_type": "stream",
     "text": [
      "✅ Success with key AIzaS: {'final_sentiment': 'Negative', 'sarcasm': 'No', 'suggestion': 'Yes', 'suggestion_text': \"Customer suggests improving the cleanliness of the product's exterior.\", 'suggestion_type': 'Operational Improvement', 'emotion': 'disappointment', 'tone': 'polite', 'urgency_flag': 'No', 'impact_level': 'Low', 'responsible_party': 'delivery team', 'action_flag': 'Yes'}\n"
     ]
    },
    {
     "name": "stderr",
     "output_type": "stream",
     "text": [
      "🔍 Gemini Analysis:  48%|████▊     | 241/500 [1:09:19<1:12:34, 16.81s/row]"
     ]
    },
    {
     "name": "stdout",
     "output_type": "stream",
     "text": [
      "✅ Success with key AIzaS: {'final_sentiment': 'Negative', 'sarcasm': 'No', 'suggestion': 'No', 'suggestion_text': 'None', 'suggestion_type': 'None', 'emotion': 'frustration', 'tone': 'frustrated', 'urgency_flag': 'Yes', 'impact_level': 'High', 'responsible_party': 'delivery team', 'action_flag': 'Yes'}\n"
     ]
    },
    {
     "name": "stderr",
     "output_type": "stream",
     "text": [
      "🔍 Gemini Analysis:  48%|████▊     | 242/500 [1:09:35<1:11:01, 16.52s/row]"
     ]
    },
    {
     "name": "stdout",
     "output_type": "stream",
     "text": [
      "✅ Success with key AIzaS: {'final_sentiment': 'Neutral', 'sarcasm': 'No', 'suggestion': 'No', 'suggestion_text': 'None', 'suggestion_type': 'None', 'emotion': 'satisfaction', 'tone': 'professional', 'urgency_flag': 'No', 'impact_level': 'Low', 'responsible_party': 'sales', 'action_flag': 'No'}\n"
     ]
    },
    {
     "name": "stderr",
     "output_type": "stream",
     "text": [
      "🔍 Gemini Analysis:  49%|████▊     | 243/500 [1:10:00<1:22:29, 19.26s/row]"
     ]
    },
    {
     "name": "stdout",
     "output_type": "stream",
     "text": [
      "✅ Success with key AIzaS: {'final_sentiment': 'Neutral', 'sarcasm': 'No', 'suggestion': 'No', 'suggestion_text': 'None', 'suggestion_type': 'None', 'emotion': 'satisfaction', 'tone': 'informal', 'urgency_flag': 'No', 'impact_level': 'Low', 'responsible_party': 'None', 'action_flag': 'No'}\n"
     ]
    },
    {
     "name": "stderr",
     "output_type": "stream",
     "text": [
      "🔍 Gemini Analysis:  49%|████▉     | 244/500 [1:10:24<1:27:42, 20.56s/row]"
     ]
    },
    {
     "name": "stdout",
     "output_type": "stream",
     "text": [
      "✅ Success with key AIzaS: {'final_sentiment': 'Neutral', 'sarcasm': 'No', 'suggestion': 'Yes', 'suggestion_text': 'User suggests consistently providing offers and promotions.', 'suggestion_type': 'Feature Request', 'emotion': 'disappointment', 'tone': 'informal', 'urgency_flag': 'No', 'impact_level': 'Low', 'responsible_party': 'sales', 'action_flag': 'Yes'}\n"
     ]
    },
    {
     "name": "stderr",
     "output_type": "stream",
     "text": [
      "🔍 Gemini Analysis:  49%|████▉     | 245/500 [1:10:48<1:31:14, 21.47s/row]"
     ]
    },
    {
     "name": "stdout",
     "output_type": "stream",
     "text": [
      "✅ Success with key AIzaS: {'final_sentiment': 'Negative', 'sarcasm': 'No', 'suggestion': 'No', 'suggestion_text': 'None', 'suggestion_type': 'None', 'emotion': 'confusion', 'tone': 'informal', 'urgency_flag': 'No', 'impact_level': 'Medium', 'responsible_party': 'customer service', 'action_flag': 'Yes'}\n"
     ]
    },
    {
     "name": "stderr",
     "output_type": "stream",
     "text": [
      "🔍 Gemini Analysis:  49%|████▉     | 246/500 [1:11:10<1:31:39, 21.65s/row]"
     ]
    },
    {
     "name": "stdout",
     "output_type": "stream",
     "text": [
      "✅ Success with key AIzaS: {'final_sentiment': 'Neutral', 'sarcasm': 'No', 'suggestion': 'Yes', 'suggestion_text': 'User is requesting activation of guarantees/warranties.', 'suggestion_type': 'Complaint', 'emotion': 'disappointment', 'tone': 'polite', 'urgency_flag': 'Yes', 'impact_level': 'High', 'responsible_party': 'customer service', 'action_flag': 'Yes'}\n"
     ]
    },
    {
     "name": "stderr",
     "output_type": "stream",
     "text": [
      "🔍 Gemini Analysis:  49%|████▉     | 247/500 [1:11:31<1:31:11, 21.63s/row]"
     ]
    },
    {
     "name": "stdout",
     "output_type": "stream",
     "text": [
      "✅ Success with key AIzaS: {'final_sentiment': 'Neutral', 'sarcasm': 'No', 'suggestion': 'No', 'suggestion_text': 'None', 'suggestion_type': 'None', 'emotion': 'confusion', 'tone': 'informal', 'urgency_flag': 'No', 'impact_level': 'Low', 'responsible_party': 'None', 'action_flag': 'No'}\n"
     ]
    },
    {
     "name": "stderr",
     "output_type": "stream",
     "text": [
      "🔍 Gemini Analysis:  50%|████▉     | 248/500 [1:12:04<1:45:05, 25.02s/row]"
     ]
    },
    {
     "name": "stdout",
     "output_type": "stream",
     "text": [
      "✅ Success with key AIzaS: {'final_sentiment': 'Neutral', 'sarcasm': 'No', 'suggestion': 'Yes', 'suggestion_text': \"Suggests providing maintenance services at the customer's home to prevent product damage during transport.\", 'suggestion_type': 'Operational Improvement', 'emotion': 'worry', 'tone': 'polite', 'urgency_flag': 'No', 'impact_level': 'High', 'responsible_party': 'technical support', 'action_flag': 'Yes'}\n"
     ]
    },
    {
     "name": "stderr",
     "output_type": "stream",
     "text": [
      "🔍 Gemini Analysis:  50%|████▉     | 249/500 [1:12:25<1:39:40, 23.83s/row]"
     ]
    },
    {
     "name": "stdout",
     "output_type": "stream",
     "text": [
      "✅ Success with key AIzaS: {'final_sentiment': 'Positive', 'sarcasm': 'No', 'suggestion': 'Yes', 'suggestion_text': 'Increase the number of offers to drive more purchases.', 'suggestion_type': 'Operational Improvement', 'emotion': 'satisfaction', 'tone': 'informal', 'urgency_flag': 'No', 'impact_level': 'Low', 'responsible_party': 'sales', 'action_flag': 'Yes'}\n"
     ]
    },
    {
     "name": "stderr",
     "output_type": "stream",
     "text": [
      "🔍 Gemini Analysis:  50%|█████     | 250/500 [1:12:46<1:35:50, 23.00s/row]"
     ]
    },
    {
     "name": "stdout",
     "output_type": "stream",
     "text": [
      "✅ Success with key AIzaS: {'final_sentiment': 'Negative', 'sarcasm': 'No', 'suggestion': 'No', 'suggestion_text': 'None', 'suggestion_type': 'None', 'emotion': 'disappointment', 'tone': 'disappointed', 'urgency_flag': 'Yes', 'impact_level': 'High', 'responsible_party': 'None', 'action_flag': 'Yes'}\n"
     ]
    },
    {
     "name": "stderr",
     "output_type": "stream",
     "text": [
      "🔍 Gemini Analysis:  50%|█████     | 251/500 [1:13:02<1:26:41, 20.89s/row]"
     ]
    },
    {
     "name": "stdout",
     "output_type": "stream",
     "text": [
      "✅ Success with key AIzaS: {'final_sentiment': 'Neutral', 'sarcasm': 'No', 'suggestion': 'Yes', 'suggestion_text': \"Improve communication from delivery representative when customer doesn't answer.\", 'suggestion_type': 'Operational Improvement', 'emotion': 'confusion', 'tone': 'polite', 'urgency_flag': 'No', 'impact_level': 'Medium', 'responsible_party': 'delivery team', 'action_flag': 'Yes'}\n"
     ]
    },
    {
     "name": "stderr",
     "output_type": "stream",
     "text": [
      "🔍 Gemini Analysis:  50%|█████     | 252/500 [1:13:23<1:25:58, 20.80s/row]"
     ]
    },
    {
     "name": "stdout",
     "output_type": "stream",
     "text": [
      "✅ Success with key AIzaS: {'final_sentiment': 'Neutral', 'sarcasm': 'No', 'suggestion': 'Yes', 'suggestion_text': 'Product description should clearly state if installation is required.', 'suggestion_type': 'Operational Improvement', 'emotion': 'confusion', 'tone': 'polite', 'urgency_flag': 'No', 'impact_level': 'Low', 'responsible_party': 'sales', 'action_flag': 'Yes'}\n"
     ]
    },
    {
     "name": "stderr",
     "output_type": "stream",
     "text": [
      "🔍 Gemini Analysis:  51%|█████     | 253/500 [1:13:38<1:18:30, 19.07s/row]"
     ]
    },
    {
     "name": "stdout",
     "output_type": "stream",
     "text": [
      "⚠️ API Error with key AIzaS...: Expecting value: line 1 column 1 (char 0)\n",
      "✅ Success with key AIzaS: {'final_sentiment': 'Positive', 'sarcasm': 'No', 'suggestion': 'No', 'suggestion_text': 'None', 'suggestion_type': 'None', 'emotion': 'satisfaction', 'tone': 'informal', 'urgency_flag': 'No', 'impact_level': 'Low', 'responsible_party': 'None', 'action_flag': 'No'}\n"
     ]
    },
    {
     "name": "stderr",
     "output_type": "stream",
     "text": [
      "🔍 Gemini Analysis:  51%|█████     | 254/500 [1:14:05<1:28:09, 21.50s/row]"
     ]
    },
    {
     "name": "stdout",
     "output_type": "stream",
     "text": [
      "✅ Success with key AIzaS: {'final_sentiment': 'Negative', 'sarcasm': 'No', 'suggestion': 'Yes', 'suggestion_text': 'Improve attention to AC installation, addressing issues with technicians and one unit remaining incomplete for nearly a year.', 'suggestion_type': 'Operational Improvement', 'emotion': 'frustration', 'tone': 'frustrated', 'urgency_flag': 'Yes', 'impact_level': 'High', 'responsible_party': 'delivery team', 'action_flag': 'Yes'}\n"
     ]
    },
    {
     "name": "stderr",
     "output_type": "stream",
     "text": [
      "🔍 Gemini Analysis:  51%|█████     | 255/500 [1:14:33<1:35:57, 23.50s/row]"
     ]
    },
    {
     "name": "stdout",
     "output_type": "stream",
     "text": [
      "✅ Success with key AIzaS: {'final_sentiment': 'Negative', 'sarcasm': 'No', 'suggestion': 'No', 'suggestion_text': 'None', 'suggestion_type': 'None', 'emotion': 'disappointment', 'tone': 'disappointed', 'urgency_flag': 'Yes', 'impact_level': 'High', 'responsible_party': 'delivery team', 'action_flag': 'Yes'}\n"
     ]
    },
    {
     "name": "stderr",
     "output_type": "stream",
     "text": [
      "🔍 Gemini Analysis:  51%|█████     | 256/500 [1:14:48<1:24:49, 20.86s/row]"
     ]
    },
    {
     "name": "stdout",
     "output_type": "stream",
     "text": [
      "✅ Success with key AIzaS: {'final_sentiment': 'Neutral', 'sarcasm': 'No', 'suggestion': 'Yes', 'suggestion_text': 'Reduce delivery time', 'suggestion_type': 'Operational Improvement', 'emotion': 'disappointment', 'tone': 'polite', 'urgency_flag': 'No', 'impact_level': 'Medium', 'responsible_party': 'delivery team', 'action_flag': 'Yes'}\n"
     ]
    },
    {
     "name": "stderr",
     "output_type": "stream",
     "text": [
      "🔍 Gemini Analysis:  51%|█████▏    | 257/500 [1:15:11<1:27:31, 21.61s/row]"
     ]
    },
    {
     "name": "stdout",
     "output_type": "stream",
     "text": [
      "✅ Success with key AIzaS: {'final_sentiment': 'Negative', 'sarcasm': 'No', 'suggestion': 'Yes', 'suggestion_text': 'User suggests employing more experienced staff.', 'suggestion_type': 'Operational Improvement', 'emotion': 'disappointment', 'tone': 'disappointed', 'urgency_flag': 'No', 'impact_level': 'High', 'responsible_party': 'management', 'action_flag': 'Yes'}\n"
     ]
    },
    {
     "name": "stderr",
     "output_type": "stream",
     "text": [
      "🔍 Gemini Analysis:  52%|█████▏    | 258/500 [1:15:33<1:27:02, 21.58s/row]"
     ]
    },
    {
     "name": "stdout",
     "output_type": "stream",
     "text": [
      "✅ Success with key AIzaS: {'final_sentiment': 'Negative', 'sarcasm': 'No', 'suggestion': 'No', 'suggestion_text': 'None', 'suggestion_type': 'None', 'emotion': 'frustration', 'tone': 'frustrated', 'urgency_flag': 'Yes', 'impact_level': 'High', 'responsible_party': 'None', 'action_flag': 'Yes'}\n"
     ]
    },
    {
     "name": "stderr",
     "output_type": "stream",
     "text": [
      "🔍 Gemini Analysis:  52%|█████▏    | 259/500 [1:15:44<1:14:37, 18.58s/row]"
     ]
    },
    {
     "name": "stdout",
     "output_type": "stream",
     "text": [
      "✅ Success with key AIzaS: {'final_sentiment': 'Positive', 'sarcasm': 'No', 'suggestion': 'No', 'suggestion_text': 'None', 'suggestion_type': 'None', 'emotion': 'satisfaction', 'tone': 'polite', 'urgency_flag': 'No', 'impact_level': 'Low', 'responsible_party': 'None', 'action_flag': 'No'}\n"
     ]
    },
    {
     "name": "stderr",
     "output_type": "stream",
     "text": [
      "🔍 Gemini Analysis:  52%|█████▏    | 260/500 [1:15:56<1:06:08, 16.54s/row]"
     ]
    },
    {
     "name": "stdout",
     "output_type": "stream",
     "text": [
      "✅ Success with key AIzaS: {'final_sentiment': 'Neutral', 'sarcasm': 'No', 'suggestion': 'Yes', 'suggestion_text': 'Improvement of the user interface', 'suggestion_type': 'Feature Request', 'emotion': 'disappointment', 'tone': 'polite', 'urgency_flag': 'No', 'impact_level': 'Medium', 'responsible_party': 'technical support', 'action_flag': 'Yes'}\n"
     ]
    },
    {
     "name": "stderr",
     "output_type": "stream",
     "text": [
      "🔍 Gemini Analysis:  52%|█████▏    | 261/500 [1:16:31<1:27:17, 21.91s/row]"
     ]
    },
    {
     "name": "stdout",
     "output_type": "stream",
     "text": [
      "✅ Success with key AIzaS: {'final_sentiment': 'Positive', 'sarcasm': 'No', 'suggestion': 'No', 'suggestion_text': 'None', 'suggestion_type': 'None', 'emotion': ['gratitude', 'satisfaction'], 'tone': ['grateful', 'polite'], 'urgency_flag': 'No', 'impact_level': 'Low', 'responsible_party': 'customer service', 'action_flag': 'No'}\n"
     ]
    },
    {
     "name": "stderr",
     "output_type": "stream",
     "text": [
      "🔍 Gemini Analysis:  52%|█████▏    | 262/500 [1:16:46<1:19:20, 20.00s/row]"
     ]
    },
    {
     "name": "stdout",
     "output_type": "stream",
     "text": [
      "✅ Success with key AIzaS: {'final_sentiment': 'Positive', 'sarcasm': 'No', 'suggestion': 'No', 'suggestion_text': 'None', 'suggestion_type': 'None', 'emotion': 'satisfaction', 'tone': 'polite', 'urgency_flag': 'No', 'impact_level': 'Low', 'responsible_party': 'None', 'action_flag': 'No'}\n"
     ]
    },
    {
     "name": "stderr",
     "output_type": "stream",
     "text": [
      "🔍 Gemini Analysis:  53%|█████▎    | 263/500 [1:16:58<1:09:49, 17.68s/row]"
     ]
    },
    {
     "name": "stdout",
     "output_type": "stream",
     "text": [
      "✅ Success with key AIzaS: {'final_sentiment': 'Negative', 'sarcasm': 'No', 'suggestion': 'No', 'suggestion_text': 'None', 'suggestion_type': 'None', 'emotion': 'frustration', 'tone': 'frustrated', 'urgency_flag': 'Yes', 'impact_level': 'High', 'responsible_party': 'delivery team', 'action_flag': 'Yes'}\n"
     ]
    },
    {
     "name": "stderr",
     "output_type": "stream",
     "text": [
      "🔍 Gemini Analysis:  53%|█████▎    | 264/500 [1:17:51<1:50:26, 28.08s/row]"
     ]
    },
    {
     "name": "stdout",
     "output_type": "stream",
     "text": [
      "✅ Success with key AIzaS: {'final_sentiment': 'Positive', 'sarcasm': 'No', 'suggestion': 'No', 'suggestion_text': 'None', 'suggestion_type': 'None', 'emotion': 'gratitude', 'tone': 'grateful', 'urgency_flag': 'No', 'impact_level': 'Low', 'responsible_party': 'customer service', 'action_flag': 'Yes'}\n"
     ]
    },
    {
     "name": "stderr",
     "output_type": "stream",
     "text": [
      "🔍 Gemini Analysis:  53%|█████▎    | 265/500 [1:18:14<1:44:21, 26.65s/row]"
     ]
    },
    {
     "name": "stdout",
     "output_type": "stream",
     "text": [
      "✅ Success with key AIzaS: {'final_sentiment': 'Positive', 'sarcasm': 'No', 'suggestion': 'No', 'suggestion_text': 'None', 'suggestion_type': 'None', 'emotion': 'satisfaction', 'tone': 'enthusiastic', 'urgency_flag': 'No', 'impact_level': 'High', 'responsible_party': 'customer service', 'action_flag': 'Yes'}\n"
     ]
    },
    {
     "name": "stderr",
     "output_type": "stream",
     "text": [
      "🔍 Gemini Analysis:  53%|█████▎    | 266/500 [1:18:28<1:29:11, 22.87s/row]"
     ]
    },
    {
     "name": "stdout",
     "output_type": "stream",
     "text": [
      "✅ Success with key AIzaS: {'final_sentiment': 'Positive', 'sarcasm': 'No', 'suggestion': 'No', 'suggestion_text': 'None', 'suggestion_type': 'None', 'emotion': 'satisfaction', 'tone': 'polite', 'urgency_flag': 'No', 'impact_level': 'Low', 'responsible_party': 'None', 'action_flag': 'No'}\n"
     ]
    },
    {
     "name": "stderr",
     "output_type": "stream",
     "text": [
      "🔍 Gemini Analysis:  53%|█████▎    | 267/500 [1:18:45<1:21:19, 20.94s/row]"
     ]
    },
    {
     "name": "stdout",
     "output_type": "stream",
     "text": [
      "⚠️ API Error with key AIzaS...: Expecting value: line 1 column 1 (char 0)\n",
      "⚠️ API Error with key AIzaS...: Expecting value: line 1 column 1 (char 0)\n",
      "✅ Success with key AIzaS: {'final_sentiment': 'Neutral', 'sarcasm': 'No', 'suggestion': 'No', 'suggestion_text': 'None', 'suggestion_type': 'None', 'emotion': 'satisfaction', 'tone': 'informal', 'urgency_flag': 'No', 'impact_level': 'Low', 'responsible_party': 'None', 'action_flag': 'No'}\n"
     ]
    },
    {
     "name": "stderr",
     "output_type": "stream",
     "text": [
      "🔍 Gemini Analysis:  54%|█████▎    | 268/500 [1:19:17<1:34:47, 24.51s/row]"
     ]
    },
    {
     "name": "stdout",
     "output_type": "stream",
     "text": [
      "✅ Success with key AIzaS: {'final_sentiment': 'Neutral', 'sarcasm': 'No', 'suggestion': 'Yes', 'suggestion_text': 'Request for more discounts and offers.', 'suggestion_type': 'Feature Request', 'emotion': 'disappointment', 'tone': 'informal', 'urgency_flag': 'No', 'impact_level': 'Low', 'responsible_party': 'sales', 'action_flag': 'Yes'}\n"
     ]
    },
    {
     "name": "stderr",
     "output_type": "stream",
     "text": [
      "🔍 Gemini Analysis:  54%|█████▍    | 269/500 [1:19:57<1:51:58, 29.09s/row]"
     ]
    },
    {
     "name": "stdout",
     "output_type": "stream",
     "text": [
      "✅ Success with key AIzaS: {'final_sentiment': 'Negative', 'sarcasm': 'Yes', 'suggestion': 'Yes', 'suggestion_text': 'Improve service request handling and delivery times for repairs.', 'suggestion_type': 'Operational Improvement', 'emotion': 'frustration', 'tone': 'frustrated', 'urgency_flag': 'Yes', 'impact_level': 'High', 'responsible_party': 'technical support', 'action_flag': 'Yes'}\n"
     ]
    },
    {
     "name": "stderr",
     "output_type": "stream",
     "text": [
      "🔍 Gemini Analysis:  54%|█████▍    | 270/500 [1:20:15<1:38:47, 25.77s/row]"
     ]
    },
    {
     "name": "stdout",
     "output_type": "stream",
     "text": [
      "✅ Success with key AIzaS: {'final_sentiment': 'Neutral', 'sarcasm': 'No', 'suggestion': 'Yes', 'suggestion_text': 'Give discount', 'suggestion_type': 'Other', 'emotion': 'worry', 'tone': 'informal', 'urgency_flag': 'No', 'impact_level': 'Low', 'responsible_party': 'sales', 'action_flag': 'Yes'}\n"
     ]
    },
    {
     "name": "stderr",
     "output_type": "stream",
     "text": [
      "🔍 Gemini Analysis:  54%|█████▍    | 271/500 [1:20:46<1:44:21, 27.34s/row]"
     ]
    },
    {
     "name": "stdout",
     "output_type": "stream",
     "text": [
      "✅ Success with key AIzaS: {'final_sentiment': 'Negative', 'sarcasm': 'No', 'suggestion': 'No', 'suggestion_text': 'None', 'suggestion_type': 'None', 'emotion': 'disappointment', 'tone': 'disappointed', 'urgency_flag': 'Yes', 'impact_level': 'High', 'responsible_party': 'technical support', 'action_flag': 'Yes'}\n"
     ]
    },
    {
     "name": "stderr",
     "output_type": "stream",
     "text": [
      "🔍 Gemini Analysis:  54%|█████▍    | 272/500 [1:20:58<1:26:40, 22.81s/row]"
     ]
    },
    {
     "name": "stdout",
     "output_type": "stream",
     "text": [
      "✅ Success with key AIzaS: {'final_sentiment': 'Neutral', 'sarcasm': 'No', 'suggestion': 'Yes', 'suggestion_text': 'More transparency regarding gifts provided with the device.', 'suggestion_type': 'Operational Improvement', 'emotion': 'disappointment', 'tone': 'polite', 'urgency_flag': 'No', 'impact_level': 'Low', 'responsible_party': 'management', 'action_flag': 'Yes'}\n"
     ]
    },
    {
     "name": "stderr",
     "output_type": "stream",
     "text": [
      "🔍 Gemini Analysis:  55%|█████▍    | 273/500 [1:21:12<1:15:24, 19.93s/row]"
     ]
    },
    {
     "name": "stdout",
     "output_type": "stream",
     "text": [
      "✅ Success with key AIzaS: {'final_sentiment': 'Negative', 'sarcasm': 'No', 'suggestion': 'No', 'suggestion_text': 'None', 'suggestion_type': 'None', 'emotion': 'frustration', 'tone': 'frustrated', 'urgency_flag': 'No', 'impact_level': 'Medium', 'responsible_party': 'customer service', 'action_flag': 'Yes'}\n"
     ]
    },
    {
     "name": "stderr",
     "output_type": "stream",
     "text": [
      "🔍 Gemini Analysis:  55%|█████▍    | 274/500 [1:21:28<1:10:36, 18.75s/row]"
     ]
    },
    {
     "name": "stdout",
     "output_type": "stream",
     "text": [
      "✅ Success with key AIzaS: {'final_sentiment': 'Negative', 'sarcasm': 'No', 'suggestion': 'Yes', 'suggestion_text': 'Customer reports being forced to choose between a promotional gift and a discount, despite no conflicting terms stated in the discount policy. Suggests clarification and consistency in promotional offer terms and their application.', 'suggestion_type': 'Operational Improvement', 'emotion': 'disappointment', 'tone': 'disappointed', 'urgency_flag': 'Yes', 'impact_level': 'High', 'responsible_party': 'customer service', 'action_flag': 'Yes'}\n"
     ]
    },
    {
     "name": "stderr",
     "output_type": "stream",
     "text": [
      "🔍 Gemini Analysis:  55%|█████▌    | 275/500 [1:21:45<1:08:54, 18.38s/row]"
     ]
    },
    {
     "name": "stdout",
     "output_type": "stream",
     "text": [
      "✅ Success with key AIzaS: {'final_sentiment': 'Negative', 'sarcasm': 'No', 'suggestion': 'Yes', 'suggestion_text': 'Improve delivery service', 'suggestion_type': 'Operational Improvement', 'emotion': 'disappointment', 'tone': 'informal', 'urgency_flag': 'No', 'impact_level': 'Low', 'responsible_party': 'delivery team', 'action_flag': 'Yes'}\n"
     ]
    },
    {
     "name": "stderr",
     "output_type": "stream",
     "text": [
      "🔍 Gemini Analysis:  55%|█████▌    | 276/500 [1:21:58<1:01:55, 16.59s/row]"
     ]
    },
    {
     "name": "stdout",
     "output_type": "stream",
     "text": [
      "✅ Success with key AIzaS: {'final_sentiment': 'Negative', 'sarcasm': 'No', 'suggestion': 'Yes', 'suggestion_text': 'Customer requests honesty/not to be lied to.', 'suggestion_type': 'Complaint', 'emotion': 'anger', 'tone': 'angry', 'urgency_flag': 'Yes', 'impact_level': 'High', 'responsible_party': 'None', 'action_flag': 'Yes'}\n"
     ]
    },
    {
     "name": "stderr",
     "output_type": "stream",
     "text": [
      "🔍 Gemini Analysis:  55%|█████▌    | 277/500 [1:22:09<56:29, 15.20s/row]  "
     ]
    },
    {
     "name": "stdout",
     "output_type": "stream",
     "text": [
      "✅ Success with key AIzaS: {'final_sentiment': 'Negative', 'sarcasm': 'No', 'suggestion': 'Yes', 'suggestion_text': 'Easier invoice editing/exchange', 'suggestion_type': 'Operational Improvement', 'emotion': 'frustration', 'tone': 'informal', 'urgency_flag': 'No', 'impact_level': 'High', 'responsible_party': 'billing', 'action_flag': 'Yes'}\n"
     ]
    },
    {
     "name": "stderr",
     "output_type": "stream",
     "text": [
      "🔍 Gemini Analysis:  56%|█████▌    | 278/500 [1:22:24<55:55, 15.12s/row]"
     ]
    },
    {
     "name": "stdout",
     "output_type": "stream",
     "text": [
      "✅ Success with key AIzaS: {'final_sentiment': 'Positive', 'sarcasm': 'No', 'suggestion': 'No', 'suggestion_text': 'None', 'suggestion_type': 'None', 'emotion': 'satisfaction', 'tone': 'polite', 'urgency_flag': 'No', 'impact_level': 'Low', 'responsible_party': 'customer service', 'action_flag': 'No'}\n"
     ]
    },
    {
     "name": "stderr",
     "output_type": "stream",
     "text": [
      "🔍 Gemini Analysis:  56%|█████▌    | 279/500 [1:22:37<53:23, 14.49s/row]"
     ]
    },
    {
     "name": "stdout",
     "output_type": "stream",
     "text": [
      "✅ Success with key AIzaS: {'final_sentiment': 'Neutral', 'sarcasm': 'No', 'suggestion': 'Yes', 'suggestion_text': 'Suggests device service centers should be in all branches and service time should not exceed 5 days.', 'suggestion_type': 'Operational Improvement', 'emotion': 'None', 'tone': 'professional', 'urgency_flag': 'Yes', 'impact_level': 'Medium', 'responsible_party': 'management', 'action_flag': 'Yes'}\n"
     ]
    },
    {
     "name": "stderr",
     "output_type": "stream",
     "text": [
      "🔍 Gemini Analysis:  56%|█████▌    | 280/500 [1:22:51<52:24, 14.29s/row]"
     ]
    },
    {
     "name": "stdout",
     "output_type": "stream",
     "text": [
      "✅ Success with key AIzaS: {'final_sentiment': 'Negative', 'sarcasm': 'No', 'suggestion': 'Yes', 'suggestion_text': 'Put the dampening pads under the washing machine', 'suggestion_type': 'Complaint', 'emotion': 'disappointment', 'tone': 'disappointed', 'urgency_flag': 'Yes', 'impact_level': 'High', 'responsible_party': 'delivery team', 'action_flag': 'Yes'}\n"
     ]
    },
    {
     "name": "stderr",
     "output_type": "stream",
     "text": [
      "🔍 Gemini Analysis:  56%|█████▌    | 281/500 [1:23:07<53:26, 14.64s/row]"
     ]
    },
    {
     "name": "stdout",
     "output_type": "stream",
     "text": [
      "✅ Success with key AIzaS: {'final_sentiment': 'Negative', 'sarcasm': 'No', 'suggestion': 'No', 'suggestion_text': 'None', 'suggestion_type': 'None', 'emotion': 'disappointment', 'tone': 'informal', 'urgency_flag': 'No', 'impact_level': 'Low', 'responsible_party': 'None', 'action_flag': 'No'}\n"
     ]
    },
    {
     "name": "stderr",
     "output_type": "stream",
     "text": [
      "🔍 Gemini Analysis:  56%|█████▋    | 282/500 [1:23:20<52:08, 14.35s/row]"
     ]
    },
    {
     "name": "stdout",
     "output_type": "stream",
     "text": [
      "⚠️ API Error with key AIzaS...: 429 Resource has been exhausted (e.g. check quota).\n",
      "⚠️ API Error with key AIzaS...: 429 Resource has been exhausted (e.g. check quota).\n",
      "⚠️ API Error with key AIzaS...: 429 Resource has been exhausted (e.g. check quota).\n",
      "⚠️ API Error with key AIzaS...: 429 Resource has been exhausted (e.g. check quota).\n",
      "⚠️ API Error with key AIzaS...: 429 Resource has been exhausted (e.g. check quota).\n",
      "⚠️ API Error with key AIzaS...: 429 Resource has been exhausted (e.g. check quota).\n",
      "⚠️ API Error with key AIzaS...: 429 Resource has been exhausted (e.g. check quota).\n",
      "⚠️ API Error with key AIzaS...: 429 Resource has been exhausted (e.g. check quota).\n",
      "⚠️ API Error with key AIzaS...: 429 Resource has been exhausted (e.g. check quota).\n"
     ]
    },
    {
     "name": "stderr",
     "output_type": "stream",
     "text": [
      "🔍 Gemini Analysis:  57%|█████▋    | 283/500 [1:23:47<1:05:22, 18.07s/row]"
     ]
    },
    {
     "name": "stdout",
     "output_type": "stream",
     "text": [
      "⚠️ API Error with key AIzaS...: 429 Resource has been exhausted (e.g. check quota).\n",
      "⚠️ API Error with key AIzaS...: 429 Resource has been exhausted (e.g. check quota).\n",
      "⚠️ API Error with key AIzaS...: 429 Resource has been exhausted (e.g. check quota).\n",
      "⚠️ API Error with key AIzaS...: 429 Resource has been exhausted (e.g. check quota).\n",
      "✅ Success with key AIzaS: {'final_sentiment': 'Negative', 'sarcasm': 'No', 'suggestion': 'Yes', 'suggestion_text': 'User requests a refund of 650 riyals for an unnecessary refrigerator repair that was later covered by warranty.', 'suggestion_type': 'Complaint', 'emotion': 'frustration', 'tone': 'frustrated', 'urgency_flag': 'Yes', 'impact_level': 'High', 'responsible_party': 'billing', 'action_flag': 'Yes'}\n"
     ]
    },
    {
     "name": "stderr",
     "output_type": "stream",
     "text": [
      "🔍 Gemini Analysis:  57%|█████▋    | 284/500 [1:24:16<1:16:38, 21.29s/row]"
     ]
    },
    {
     "name": "stdout",
     "output_type": "stream",
     "text": [
      "⚠️ API Error with key AIzaS...: 429 Resource has been exhausted (e.g. check quota).\n",
      "⚠️ API Error with key AIzaS...: 429 Resource has been exhausted (e.g. check quota).\n",
      "⚠️ API Error with key AIzaS...: 429 Resource has been exhausted (e.g. check quota).\n",
      "⚠️ API Error with key AIzaS...: 429 Resource has been exhausted (e.g. check quota).\n",
      "⚠️ API Error with key AIzaS...: 429 Resource has been exhausted (e.g. check quota).\n",
      "⚠️ API Error with key AIzaS...: 429 Resource has been exhausted (e.g. check quota).\n",
      "✅ Success with key AIzaS: {'final_sentiment': 'Positive', 'sarcasm': 'No', 'suggestion': 'No', 'suggestion_text': 'None', 'suggestion_type': 'None', 'emotion': 'satisfaction', 'tone': 'polite', 'urgency_flag': 'No', 'impact_level': 'Low', 'responsible_party': 'customer service', 'action_flag': 'No'}\n"
     ]
    },
    {
     "name": "stderr",
     "output_type": "stream",
     "text": [
      "🔍 Gemini Analysis:  57%|█████▋    | 285/500 [1:24:40<1:19:01, 22.05s/row]"
     ]
    },
    {
     "name": "stdout",
     "output_type": "stream",
     "text": [
      "✅ Success with key AIzaS: {'final_sentiment': 'Negative', 'sarcasm': 'No', 'suggestion': 'Yes', 'suggestion_text': 'Staff to be more vigilant and cooperative during break times after Zohar shift.', 'suggestion_type': 'Operational Improvement', 'emotion': 'disappointment', 'tone': 'polite', 'urgency_flag': 'No', 'impact_level': 'Medium', 'responsible_party': 'management', 'action_flag': 'Yes'}\n"
     ]
    },
    {
     "name": "stderr",
     "output_type": "stream",
     "text": [
      "🔍 Gemini Analysis:  57%|█████▋    | 286/500 [1:24:53<1:09:35, 19.51s/row]"
     ]
    },
    {
     "name": "stdout",
     "output_type": "stream",
     "text": [
      "⚠️ API Error with key AIzaS...: 429 Resource has been exhausted (e.g. check quota).\n",
      "⚠️ API Error with key AIzaS...: 429 Resource has been exhausted (e.g. check quota).\n",
      "⚠️ API Error with key AIzaS...: 429 Resource has been exhausted (e.g. check quota).\n",
      "⚠️ API Error with key AIzaS...: 429 Resource has been exhausted (e.g. check quota).\n",
      "⚠️ API Error with key AIzaS...: 429 Resource has been exhausted (e.g. check quota).\n",
      "⚠️ API Error with key AIzaS...: 429 Resource has been exhausted (e.g. check quota).\n",
      "⚠️ API Error with key AIzaS...: 429 Resource has been exhausted (e.g. check quota).\n",
      "⚠️ API Error with key AIzaS...: 429 Resource has been exhausted (e.g. check quota).\n",
      "⚠️ API Error with key AIzaS...: 429 Resource has been exhausted (e.g. check quota).\n"
     ]
    },
    {
     "name": "stderr",
     "output_type": "stream",
     "text": [
      "🔍 Gemini Analysis:  57%|█████▋    | 287/500 [1:25:13<1:09:53, 19.69s/row]"
     ]
    },
    {
     "name": "stdout",
     "output_type": "stream",
     "text": [
      "⚠️ API Error with key AIzaS...: 429 Resource has been exhausted (e.g. check quota).\n",
      "⚠️ API Error with key AIzaS...: 429 Resource has been exhausted (e.g. check quota).\n",
      "⚠️ API Error with key AIzaS...: 429 Resource has been exhausted (e.g. check quota).\n",
      "⚠️ API Error with key AIzaS...: 429 Resource has been exhausted (e.g. check quota).\n",
      "⚠️ API Error with key AIzaS...: 429 Resource has been exhausted (e.g. check quota).\n",
      "⚠️ API Error with key AIzaS...: 429 Resource has been exhausted (e.g. check quota).\n",
      "⚠️ API Error with key AIzaS...: 429 Resource has been exhausted (e.g. check quota).\n",
      "⚠️ API Error with key AIzaS...: 429 Resource has been exhausted (e.g. check quota).\n",
      "⚠️ API Error with key AIzaS...: 429 Resource has been exhausted (e.g. check quota).\n"
     ]
    },
    {
     "name": "stderr",
     "output_type": "stream",
     "text": [
      "🔍 Gemini Analysis:  58%|█████▊    | 288/500 [1:25:30<1:05:56, 18.66s/row]"
     ]
    },
    {
     "name": "stdout",
     "output_type": "stream",
     "text": [
      "⚠️ API Error with key AIzaS...: 429 Resource has been exhausted (e.g. check quota).\n",
      "⚠️ API Error with key AIzaS...: 429 Resource has been exhausted (e.g. check quota).\n",
      "⚠️ API Error with key AIzaS...: 429 Resource has been exhausted (e.g. check quota).\n",
      "⚠️ API Error with key AIzaS...: 429 Resource has been exhausted (e.g. check quota).\n",
      "⚠️ API Error with key AIzaS...: 429 Resource has been exhausted (e.g. check quota).\n",
      "⚠️ API Error with key AIzaS...: 429 Resource has been exhausted (e.g. check quota).\n",
      "⚠️ API Error with key AIzaS...: 429 Resource has been exhausted (e.g. check quota).\n",
      "⚠️ API Error with key AIzaS...: 429 Resource has been exhausted (e.g. check quota).\n",
      "⚠️ API Error with key AIzaS...: 429 Resource has been exhausted (e.g. check quota).\n"
     ]
    },
    {
     "name": "stderr",
     "output_type": "stream",
     "text": [
      "🔍 Gemini Analysis:  58%|█████▊    | 289/500 [1:25:46<1:03:05, 17.94s/row]"
     ]
    },
    {
     "name": "stdout",
     "output_type": "stream",
     "text": [
      "⚠️ API Error with key AIzaS...: 429 Resource has been exhausted (e.g. check quota).\n",
      "⚠️ API Error with key AIzaS...: 429 Resource has been exhausted (e.g. check quota).\n",
      "⚠️ API Error with key AIzaS...: 429 Resource has been exhausted (e.g. check quota).\n",
      "⚠️ API Error with key AIzaS...: 429 Resource has been exhausted (e.g. check quota).\n",
      "⚠️ API Error with key AIzaS...: 429 Resource has been exhausted (e.g. check quota).\n",
      "⚠️ API Error with key AIzaS...: 429 Resource has been exhausted (e.g. check quota).\n",
      "⚠️ API Error with key AIzaS...: 429 Resource has been exhausted (e.g. check quota).\n",
      "⚠️ API Error with key AIzaS...: 429 Resource has been exhausted (e.g. check quota).\n",
      "⚠️ API Error with key AIzaS...: 429 Resource has been exhausted (e.g. check quota).\n"
     ]
    },
    {
     "name": "stderr",
     "output_type": "stream",
     "text": [
      "🔍 Gemini Analysis:  58%|█████▊    | 290/500 [1:26:02<1:00:53, 17.40s/row]"
     ]
    },
    {
     "name": "stdout",
     "output_type": "stream",
     "text": [
      "⚠️ API Error with key AIzaS...: 429 Resource has been exhausted (e.g. check quota).\n",
      "✅ Success with key AIzaS: {'final_sentiment': 'Negative', 'sarcasm': 'No', 'suggestion': 'Yes', 'suggestion_text': 'Improve response time and optimize automated reply system to prevent re-submission loop.', 'suggestion_type': 'Operational Improvement', 'emotion': 'frustration', 'tone': 'frustrated', 'urgency_flag': 'Yes', 'impact_level': 'High', 'responsible_party': 'customer service', 'action_flag': 'Yes'}\n"
     ]
    },
    {
     "name": "stderr",
     "output_type": "stream",
     "text": [
      "🔍 Gemini Analysis:  58%|█████▊    | 291/500 [1:26:16<57:23, 16.47s/row]  "
     ]
    },
    {
     "name": "stdout",
     "output_type": "stream",
     "text": [
      "⚠️ API Error with key AIzaS...: 429 Resource has been exhausted (e.g. check quota).\n",
      "⚠️ API Error with key AIzaS...: 429 Resource has been exhausted (e.g. check quota).\n",
      "✅ Success with key AIzaS: {'final_sentiment': 'Positive', 'sarcasm': 'No', 'suggestion': 'No', 'suggestion_text': 'None', 'suggestion_type': 'None', 'emotion': 'satisfaction', 'tone': 'polite', 'urgency_flag': 'No', 'impact_level': 'Low', 'responsible_party': 'customer service', 'action_flag': 'No'}\n"
     ]
    },
    {
     "name": "stderr",
     "output_type": "stream",
     "text": [
      "🔍 Gemini Analysis:  58%|█████▊    | 292/500 [1:26:32<56:11, 16.21s/row]"
     ]
    },
    {
     "name": "stdout",
     "output_type": "stream",
     "text": [
      "✅ Success with key AIzaS: {'final_sentiment': 'Positive', 'sarcasm': 'No', 'suggestion': 'No', 'suggestion_text': 'None', 'suggestion_type': 'None', 'emotion': 'gratitude', 'tone': 'grateful', 'urgency_flag': 'No', 'impact_level': 'Low', 'responsible_party': 'None', 'action_flag': 'No'}\n"
     ]
    },
    {
     "name": "stderr",
     "output_type": "stream",
     "text": [
      "🔍 Gemini Analysis:  59%|█████▊    | 293/500 [1:26:43<50:20, 14.59s/row]"
     ]
    },
    {
     "name": "stdout",
     "output_type": "stream",
     "text": [
      "⚠️ API Error with key AIzaS...: 429 Resource has been exhausted (e.g. check quota).\n",
      "⚠️ API Error with key AIzaS...: 429 Resource has been exhausted (e.g. check quota).\n",
      "⚠️ API Error with key AIzaS...: 429 Resource has been exhausted (e.g. check quota).\n",
      "⚠️ API Error with key AIzaS...: 429 Resource has been exhausted (e.g. check quota).\n",
      "⚠️ API Error with key AIzaS...: 429 Resource has been exhausted (e.g. check quota).\n",
      "⚠️ API Error with key AIzaS...: 429 Resource has been exhausted (e.g. check quota).\n",
      "⚠️ API Error with key AIzaS...: 429 Resource has been exhausted (e.g. check quota).\n",
      "✅ Success with key AIzaS: {'final_sentiment': 'Negative', 'sarcasm': 'No', 'suggestion': 'Yes', 'suggestion_text': 'Customer complains about inappropriate visit times (during sleep, late at night) for exchange decisions, questioning credibility.', 'suggestion_type': 'Complaint', 'emotion': 'disappointment', 'tone': 'disappointed', 'urgency_flag': 'Yes', 'impact_level': 'High', 'responsible_party': 'delivery team', 'action_flag': 'Yes'}\n"
     ]
    },
    {
     "name": "stderr",
     "output_type": "stream",
     "text": [
      "🔍 Gemini Analysis:  59%|█████▉    | 294/500 [1:27:13<1:05:41, 19.14s/row]"
     ]
    },
    {
     "name": "stdout",
     "output_type": "stream",
     "text": [
      "⚠️ API Error with key AIzaS...: 429 Resource has been exhausted (e.g. check quota).\n",
      "⚠️ API Error with key AIzaS...: 429 Resource has been exhausted (e.g. check quota).\n",
      "⚠️ API Error with key AIzaS...: 429 Resource has been exhausted (e.g. check quota).\n",
      "⚠️ API Error with key AIzaS...: 429 Resource has been exhausted (e.g. check quota).\n",
      "⚠️ API Error with key AIzaS...: 429 Resource has been exhausted (e.g. check quota).\n",
      "⚠️ API Error with key AIzaS...: 429 Resource has been exhausted (e.g. check quota).\n",
      "⚠️ API Error with key AIzaS...: 429 Resource has been exhausted (e.g. check quota).\n",
      "⚠️ API Error with key AIzaS...: 429 Resource has been exhausted (e.g. check quota).\n",
      "⚠️ API Error with key AIzaS...: 429 Resource has been exhausted (e.g. check quota).\n"
     ]
    },
    {
     "name": "stderr",
     "output_type": "stream",
     "text": [
      "🔍 Gemini Analysis:  59%|█████▉    | 295/500 [1:27:29<1:02:19, 18.24s/row]"
     ]
    },
    {
     "name": "stdout",
     "output_type": "stream",
     "text": [
      "⚠️ API Error with key AIzaS...: 429 Resource has been exhausted (e.g. check quota).\n",
      "⚠️ API Error with key AIzaS...: 429 Resource has been exhausted (e.g. check quota).\n",
      "⚠️ API Error with key AIzaS...: 429 Resource has been exhausted (e.g. check quota).\n",
      "⚠️ API Error with key AIzaS...: 429 Resource has been exhausted (e.g. check quota).\n",
      "⚠️ API Error with key AIzaS...: 429 Resource has been exhausted (e.g. check quota).\n",
      "⚠️ API Error with key AIzaS...: 429 Resource has been exhausted (e.g. check quota).\n",
      "⚠️ API Error with key AIzaS...: 429 Resource has been exhausted (e.g. check quota).\n",
      "⚠️ API Error with key AIzaS...: 429 Resource has been exhausted (e.g. check quota).\n",
      "⚠️ API Error with key AIzaS...: 429 Resource has been exhausted (e.g. check quota).\n"
     ]
    },
    {
     "name": "stderr",
     "output_type": "stream",
     "text": [
      "🔍 Gemini Analysis:  59%|█████▉    | 296/500 [1:27:52<1:07:02, 19.72s/row]"
     ]
    },
    {
     "name": "stdout",
     "output_type": "stream",
     "text": [
      "✅ Success with key AIzaS: {'final_sentiment': 'Positive', 'sarcasm': 'No', 'suggestion': 'No', 'suggestion_text': 'None', 'suggestion_type': 'None', 'emotion': 'gratitude', 'tone': 'enthusiastic', 'urgency_flag': 'No', 'impact_level': 'Low', 'responsible_party': 'None', 'action_flag': 'No'}\n"
     ]
    },
    {
     "name": "stderr",
     "output_type": "stream",
     "text": [
      "🔍 Gemini Analysis:  59%|█████▉    | 297/500 [1:28:05<59:47, 17.67s/row]  "
     ]
    },
    {
     "name": "stdout",
     "output_type": "stream",
     "text": [
      "⚠️ API Error with key AIzaS...: 429 Resource has been exhausted (e.g. check quota).\n",
      "⚠️ API Error with key AIzaS...: 429 Resource has been exhausted (e.g. check quota).\n",
      "⚠️ API Error with key AIzaS...: 429 Resource has been exhausted (e.g. check quota).\n",
      "⚠️ API Error with key AIzaS...: 429 Resource has been exhausted (e.g. check quota).\n",
      "⚠️ API Error with key AIzaS...: 429 Resource has been exhausted (e.g. check quota).\n",
      "⚠️ API Error with key AIzaS...: 429 Resource has been exhausted (e.g. check quota).\n",
      "⚠️ API Error with key AIzaS...: 429 Resource has been exhausted (e.g. check quota).\n",
      "⚠️ API Error with key AIzaS...: 429 Resource has been exhausted (e.g. check quota).\n",
      "⚠️ API Error with key AIzaS...: 429 Resource has been exhausted (e.g. check quota).\n"
     ]
    },
    {
     "name": "stderr",
     "output_type": "stream",
     "text": [
      "🔍 Gemini Analysis:  60%|█████▉    | 298/500 [1:28:21<58:10, 17.28s/row]"
     ]
    },
    {
     "name": "stdout",
     "output_type": "stream",
     "text": [
      "✅ Success with key AIzaS: {'final_sentiment': 'Positive', 'sarcasm': 'No', 'suggestion': 'No', 'suggestion_text': 'None', 'suggestion_type': 'None', 'emotion': 'gratitude', 'tone': 'grateful', 'urgency_flag': 'No', 'impact_level': 'Low', 'responsible_party': 'None', 'action_flag': 'No'}\n"
     ]
    },
    {
     "name": "stderr",
     "output_type": "stream",
     "text": [
      "🔍 Gemini Analysis:  60%|█████▉    | 299/500 [1:28:33<52:22, 15.63s/row]"
     ]
    },
    {
     "name": "stdout",
     "output_type": "stream",
     "text": [
      "✅ Success with key AIzaS: {'final_sentiment': 'Neutral', 'sarcasm': 'No', 'suggestion': 'Yes', 'suggestion_text': 'Include useful accessories (e.g., charging head, headphones, screen protector) as gifts with purchases to encourage sales.', 'suggestion_type': 'Feature Request', 'emotion': 'disappointment', 'tone': 'polite', 'urgency_flag': 'No', 'impact_level': 'Low', 'responsible_party': 'sales', 'action_flag': 'Yes'}\n"
     ]
    },
    {
     "name": "stderr",
     "output_type": "stream",
     "text": [
      "🔍 Gemini Analysis:  60%|██████    | 300/500 [1:28:53<56:59, 17.10s/row]"
     ]
    },
    {
     "name": "stdout",
     "output_type": "stream",
     "text": [
      "✅ Success with key AIzaS: {'final_sentiment': 'Positive', 'sarcasm': 'No', 'suggestion': 'Yes', 'suggestion_text': 'Observation regarding an excessive number of sales employees.', 'suggestion_type': 'Operational Improvement', 'emotion': 'satisfaction', 'tone': 'polite', 'urgency_flag': 'No', 'impact_level': 'Low', 'responsible_party': 'sales', 'action_flag': 'Yes'}\n"
     ]
    },
    {
     "name": "stderr",
     "output_type": "stream",
     "text": [
      "🔍 Gemini Analysis:  60%|██████    | 301/500 [1:29:06<51:48, 15.62s/row]"
     ]
    },
    {
     "name": "stdout",
     "output_type": "stream",
     "text": [
      "✅ Success with key AIzaS: {'final_sentiment': 'Positive', 'sarcasm': 'No', 'suggestion': 'No', 'suggestion_text': 'None', 'suggestion_type': 'None', 'emotion': 'satisfaction', 'tone': 'grateful', 'urgency_flag': 'No', 'impact_level': 'Medium', 'responsible_party': 'technical support', 'action_flag': 'No'}\n"
     ]
    },
    {
     "name": "stderr",
     "output_type": "stream",
     "text": [
      "🔍 Gemini Analysis:  60%|██████    | 302/500 [1:29:18<48:26, 14.68s/row]"
     ]
    },
    {
     "name": "stdout",
     "output_type": "stream",
     "text": [
      "✅ Success with key AIzaS: {'final_sentiment': 'Negative', 'sarcasm': 'No', 'suggestion': 'No', 'suggestion_text': 'None', 'suggestion_type': 'None', 'emotion': 'anger', 'tone': 'angry', 'urgency_flag': 'Yes', 'impact_level': 'High', 'responsible_party': 'customer service', 'action_flag': 'Yes'}\n"
     ]
    },
    {
     "name": "stderr",
     "output_type": "stream",
     "text": [
      "🔍 Gemini Analysis:  61%|██████    | 303/500 [1:29:34<49:18, 15.02s/row]"
     ]
    },
    {
     "name": "stdout",
     "output_type": "stream",
     "text": [
      "✅ Success with key AIzaS: {'final_sentiment': 'Negative', 'sarcasm': 'No', 'suggestion': 'No', 'suggestion_text': 'None', 'suggestion_type': 'None', 'emotion': 'disappointment', 'tone': 'disappointed', 'urgency_flag': 'No', 'impact_level': 'Medium', 'responsible_party': 'sales', 'action_flag': 'Yes'}\n"
     ]
    },
    {
     "name": "stderr",
     "output_type": "stream",
     "text": [
      "🔍 Gemini Analysis:  61%|██████    | 304/500 [1:29:45<45:34, 13.95s/row]"
     ]
    },
    {
     "name": "stdout",
     "output_type": "stream",
     "text": [
      "✅ Success with key AIzaS: {'final_sentiment': 'Positive', 'sarcasm': 'No', 'suggestion': 'Yes', 'suggestion_text': 'User wants to receive exclusive offers.', 'suggestion_type': 'Feature Request', 'emotion': 'satisfaction', 'tone': 'polite', 'urgency_flag': 'No', 'impact_level': 'Low', 'responsible_party': 'sales', 'action_flag': 'Yes'}\n"
     ]
    },
    {
     "name": "stderr",
     "output_type": "stream",
     "text": [
      "🔍 Gemini Analysis:  61%|██████    | 305/500 [1:30:00<46:27, 14.30s/row]"
     ]
    },
    {
     "name": "stdout",
     "output_type": "stream",
     "text": [
      "✅ Success with key AIzaS: {'final_sentiment': 'Positive', 'sarcasm': 'No', 'suggestion': 'Yes', 'suggestion_text': 'Availability of all website products at the showroom/exhibition.', 'suggestion_type': 'Operational Improvement', 'emotion': 'satisfaction', 'tone': 'polite', 'urgency_flag': 'No', 'impact_level': 'Medium', 'responsible_party': 'management', 'action_flag': 'Yes'}\n"
     ]
    },
    {
     "name": "stderr",
     "output_type": "stream",
     "text": [
      "🔍 Gemini Analysis:  61%|██████    | 306/500 [1:30:22<53:04, 16.41s/row]"
     ]
    },
    {
     "name": "stdout",
     "output_type": "stream",
     "text": [
      "✅ Success with key AIzaS: {'final_sentiment': 'Positive', 'sarcasm': 'No', 'suggestion': 'No', 'suggestion_text': 'None', 'suggestion_type': 'None', 'emotion': 'satisfaction', 'tone': 'enthusiastic', 'urgency_flag': 'No', 'impact_level': 'Low', 'responsible_party': 'None', 'action_flag': 'No'}\n"
     ]
    },
    {
     "name": "stderr",
     "output_type": "stream",
     "text": [
      "🔍 Gemini Analysis:  61%|██████▏   | 307/500 [1:30:36<50:29, 15.70s/row]"
     ]
    },
    {
     "name": "stdout",
     "output_type": "stream",
     "text": [
      "✅ Success with key AIzaS: {'final_sentiment': 'Negative', 'sarcasm': 'No', 'suggestion': 'No', 'suggestion_text': 'None', 'suggestion_type': 'None', 'emotion': ['frustration', 'disappointment'], 'tone': ['frustrated', 'disappointed'], 'urgency_flag': 'Yes', 'impact_level': 'High', 'responsible_party': 'customer service', 'action_flag': 'Yes'}\n"
     ]
    },
    {
     "name": "stderr",
     "output_type": "stream",
     "text": [
      "🔍 Gemini Analysis:  62%|██████▏   | 308/500 [1:31:03<1:00:53, 19.03s/row]"
     ]
    },
    {
     "name": "stdout",
     "output_type": "stream",
     "text": [
      "✅ Success with key AIzaS: {'final_sentiment': 'Positive', 'sarcasm': 'No', 'suggestion': 'No', 'suggestion_text': 'None', 'suggestion_type': 'None', 'emotion': 'satisfaction', 'tone': 'informal', 'urgency_flag': 'No', 'impact_level': 'Low', 'responsible_party': 'None', 'action_flag': 'No'}\n"
     ]
    },
    {
     "name": "stderr",
     "output_type": "stream",
     "text": [
      "🔍 Gemini Analysis:  62%|██████▏   | 309/500 [1:31:17<55:51, 17.55s/row]  "
     ]
    },
    {
     "name": "stdout",
     "output_type": "stream",
     "text": [
      "✅ Success with key AIzaS: {'final_sentiment': 'Positive', 'sarcasm': 'No', 'suggestion': 'No', 'suggestion_text': 'None', 'suggestion_type': 'None', 'emotion': 'satisfaction', 'tone': 'enthusiastic', 'urgency_flag': 'No', 'impact_level': 'Low', 'responsible_party': 'None', 'action_flag': 'No'}\n"
     ]
    },
    {
     "name": "stderr",
     "output_type": "stream",
     "text": [
      "🔍 Gemini Analysis:  62%|██████▏   | 310/500 [1:31:33<53:55, 17.03s/row]"
     ]
    },
    {
     "name": "stdout",
     "output_type": "stream",
     "text": [
      "✅ Success with key AIzaS: {'final_sentiment': 'Neutral', 'sarcasm': 'No', 'suggestion': 'Yes', 'suggestion_text': 'Add full location option at the beginning of the purchasing process.', 'suggestion_type': 'Operational Improvement', 'emotion': 'frustration', 'tone': 'polite', 'urgency_flag': 'No', 'impact_level': 'Medium', 'responsible_party': 'technical support', 'action_flag': 'Yes'}\n"
     ]
    },
    {
     "name": "stderr",
     "output_type": "stream",
     "text": [
      "🔍 Gemini Analysis:  62%|██████▏   | 311/500 [1:31:53<56:44, 18.01s/row]"
     ]
    },
    {
     "name": "stdout",
     "output_type": "stream",
     "text": [
      "✅ Success with key AIzaS: {'final_sentiment': 'Negative', 'sarcasm': 'No', 'suggestion': 'Yes', 'suggestion_text': 'Customer wants to change the rule that requires item exchanges to be done at the same branch where the purchase was made.', 'suggestion_type': 'Operational Improvement', 'emotion': 'frustration', 'tone': 'frustrated', 'urgency_flag': 'No', 'impact_level': 'Medium', 'responsible_party': 'management', 'action_flag': 'Yes'}\n"
     ]
    },
    {
     "name": "stderr",
     "output_type": "stream",
     "text": [
      "🔍 Gemini Analysis:  62%|██████▏   | 312/500 [1:32:05<50:44, 16.19s/row]"
     ]
    },
    {
     "name": "stdout",
     "output_type": "stream",
     "text": [
      "✅ Success with key AIzaS: {'final_sentiment': 'Positive', 'sarcasm': 'No', 'suggestion': 'No', 'suggestion_text': 'None', 'suggestion_type': 'None', 'emotion': 'satisfaction', 'tone': 'polite', 'urgency_flag': 'No', 'impact_level': 'Low', 'responsible_party': 'customer service', 'action_flag': 'No'}\n"
     ]
    },
    {
     "name": "stderr",
     "output_type": "stream",
     "text": [
      "🔍 Gemini Analysis:  63%|██████▎   | 313/500 [1:32:22<50:56, 16.34s/row]"
     ]
    },
    {
     "name": "stdout",
     "output_type": "stream",
     "text": [
      "✅ Success with key AIzaS: {'final_sentiment': 'Negative', 'sarcasm': 'No', 'suggestion': 'No', 'suggestion_text': 'None', 'suggestion_type': 'None', 'emotion': 'anger', 'tone': 'angry', 'urgency_flag': 'Yes', 'impact_level': 'High', 'responsible_party': 'delivery team', 'action_flag': 'Yes'}\n"
     ]
    },
    {
     "name": "stderr",
     "output_type": "stream",
     "text": [
      "🔍 Gemini Analysis:  63%|██████▎   | 314/500 [1:32:32<45:34, 14.70s/row]"
     ]
    },
    {
     "name": "stdout",
     "output_type": "stream",
     "text": [
      "✅ Success with key AIzaS: {'final_sentiment': 'Positive', 'sarcasm': 'No', 'suggestion': 'No', 'suggestion_text': 'None', 'suggestion_type': 'None', 'emotion': 'satisfaction', 'tone': 'polite', 'urgency_flag': 'No', 'impact_level': 'Low', 'responsible_party': 'None', 'action_flag': 'No'}\n"
     ]
    },
    {
     "name": "stderr",
     "output_type": "stream",
     "text": [
      "🔍 Gemini Analysis:  63%|██████▎   | 315/500 [1:32:54<51:49, 16.81s/row]"
     ]
    },
    {
     "name": "stdout",
     "output_type": "stream",
     "text": [
      "✅ Success with key AIzaS: {'final_sentiment': 'Neutral', 'sarcasm': 'No', 'suggestion': 'Yes', 'suggestion_text': 'Increase staff in the branch', 'suggestion_type': 'Operational Improvement', 'emotion': 'frustration', 'tone': 'polite', 'urgency_flag': 'No', 'impact_level': 'High', 'responsible_party': 'management', 'action_flag': 'Yes'}\n"
     ]
    },
    {
     "name": "stderr",
     "output_type": "stream",
     "text": [
      "🔍 Gemini Analysis:  63%|██████▎   | 316/500 [1:33:13<53:05, 17.31s/row]"
     ]
    },
    {
     "name": "stdout",
     "output_type": "stream",
     "text": [
      "✅ Success with key AIzaS: {'final_sentiment': 'Positive', 'sarcasm': 'No', 'suggestion': 'No', 'suggestion_text': 'None', 'suggestion_type': 'None', 'emotion': 'gratitude', 'tone': 'grateful', 'urgency_flag': 'No', 'impact_level': 'Low', 'responsible_party': 'None', 'action_flag': 'No'}\n"
     ]
    },
    {
     "name": "stderr",
     "output_type": "stream",
     "text": [
      "🔍 Gemini Analysis:  63%|██████▎   | 317/500 [1:33:31<53:58, 17.70s/row]"
     ]
    },
    {
     "name": "stdout",
     "output_type": "stream",
     "text": [
      "✅ Success with key AIzaS: {'final_sentiment': 'Negative', 'sarcasm': 'No', 'suggestion': 'Yes', 'suggestion_text': 'User returned a product due to missing accessories and is waiting for the replacement or a tracking number.', 'suggestion_type': 'Complaint', 'emotion': 'frustration', 'tone': 'frustrated', 'urgency_flag': 'Yes', 'impact_level': 'High', 'responsible_party': 'customer service', 'action_flag': 'Yes'}\n"
     ]
    },
    {
     "name": "stderr",
     "output_type": "stream",
     "text": [
      "🔍 Gemini Analysis:  64%|██████▎   | 318/500 [1:33:46<50:39, 16.70s/row]"
     ]
    },
    {
     "name": "stdout",
     "output_type": "stream",
     "text": [
      "✅ Success with key AIzaS: {'final_sentiment': 'Positive', 'sarcasm': 'No', 'suggestion': 'No', 'suggestion_text': 'None', 'suggestion_type': 'None', 'emotion': 'satisfaction', 'tone': 'enthusiastic', 'urgency_flag': 'No', 'impact_level': 'Low', 'responsible_party': 'None', 'action_flag': 'No'}\n"
     ]
    },
    {
     "name": "stderr",
     "output_type": "stream",
     "text": [
      "🔍 Gemini Analysis:  64%|██████▍   | 319/500 [1:34:06<53:33, 17.76s/row]"
     ]
    },
    {
     "name": "stdout",
     "output_type": "stream",
     "text": [
      "✅ Success with key AIzaS: {'final_sentiment': 'Negative', 'sarcasm': 'No', 'suggestion': 'No', 'suggestion_text': 'None', 'suggestion_type': 'None', 'emotion': 'frustration', 'tone': 'frustrated', 'urgency_flag': 'Yes', 'impact_level': 'High', 'responsible_party': ['sales', 'management'], 'action_flag': 'Yes'}\n"
     ]
    },
    {
     "name": "stderr",
     "output_type": "stream",
     "text": [
      "🔍 Gemini Analysis:  64%|██████▍   | 320/500 [1:34:21<51:10, 17.06s/row]"
     ]
    },
    {
     "name": "stdout",
     "output_type": "stream",
     "text": [
      "✅ Success with key AIzaS: {'final_sentiment': 'Negative', 'sarcasm': 'No', 'suggestion': 'Yes', 'suggestion_text': \"Workers were uncooperative and unprofessional, didn't clean up after AC installation, didn't install AC decor, and didn't fix the remote.\", 'suggestion_type': 'Complaint', 'emotion': ['disappointment', 'frustration'], 'tone': ['disappointed', 'frustrated'], 'urgency_flag': 'Yes', 'impact_level': 'High', 'responsible_party': 'delivery team', 'action_flag': 'Yes'}\n"
     ]
    },
    {
     "name": "stderr",
     "output_type": "stream",
     "text": [
      "🔍 Gemini Analysis:  64%|██████▍   | 321/500 [1:34:33<46:09, 15.47s/row]"
     ]
    },
    {
     "name": "stdout",
     "output_type": "stream",
     "text": [
      "✅ Success with key AIzaS: {'final_sentiment': 'Negative', 'sarcasm': 'No', 'suggestion': 'Yes', 'suggestion_text': \"Customers' requests should be answered promptly and effectively.\", 'suggestion_type': 'Operational Improvement', 'emotion': 'frustration', 'tone': 'frustrated', 'urgency_flag': 'Yes', 'impact_level': 'High', 'responsible_party': 'customer service', 'action_flag': 'Yes'}\n"
     ]
    },
    {
     "name": "stderr",
     "output_type": "stream",
     "text": [
      "🔍 Gemini Analysis:  64%|██████▍   | 322/500 [1:34:48<45:39, 15.39s/row]"
     ]
    },
    {
     "name": "stdout",
     "output_type": "stream",
     "text": [
      "✅ Success with key AIzaS: {'final_sentiment': 'Negative', 'sarcasm': 'No', 'suggestion': 'Yes', 'suggestion_text': 'Stop annoying and pushy salesmen activities.', 'suggestion_type': 'Operational Improvement', 'emotion': 'frustration', 'tone': 'frustrated', 'urgency_flag': 'Yes', 'impact_level': 'High', 'responsible_party': 'sales', 'action_flag': 'Yes'}\n"
     ]
    },
    {
     "name": "stderr",
     "output_type": "stream",
     "text": [
      "🔍 Gemini Analysis:  65%|██████▍   | 323/500 [1:35:00<42:01, 14.24s/row]"
     ]
    },
    {
     "name": "stdout",
     "output_type": "stream",
     "text": [
      "✅ Success with key AIzaS: {'final_sentiment': 'Positive', 'sarcasm': 'No', 'suggestion': 'No', 'suggestion_text': 'None', 'suggestion_type': 'None', 'emotion': 'gratitude', 'tone': 'grateful', 'urgency_flag': 'No', 'impact_level': 'Low', 'responsible_party': 'None', 'action_flag': 'No'}\n"
     ]
    },
    {
     "name": "stderr",
     "output_type": "stream",
     "text": [
      "🔍 Gemini Analysis:  65%|██████▍   | 324/500 [1:35:10<37:59, 12.95s/row]"
     ]
    },
    {
     "name": "stdout",
     "output_type": "stream",
     "text": [
      "✅ Success with key AIzaS: {'final_sentiment': 'Positive', 'sarcasm': 'No', 'suggestion': 'No', 'suggestion_text': 'None', 'suggestion_type': 'None', 'emotion': 'satisfaction', 'tone': 'polite', 'urgency_flag': 'No', 'impact_level': 'Low', 'responsible_party': 'None', 'action_flag': 'No'}\n"
     ]
    },
    {
     "name": "stderr",
     "output_type": "stream",
     "text": [
      "🔍 Gemini Analysis:  65%|██████▌   | 325/500 [1:35:26<40:17, 13.82s/row]"
     ]
    },
    {
     "name": "stdout",
     "output_type": "stream",
     "text": [
      "✅ Success with key AIzaS: {'final_sentiment': 'Neutral', 'sarcasm': 'No', 'suggestion': 'No', 'suggestion_text': 'None', 'suggestion_type': 'None', 'emotion': 'satisfaction', 'tone': 'polite', 'urgency_flag': 'No', 'impact_level': 'Low', 'responsible_party': 'None', 'action_flag': 'No'}\n"
     ]
    },
    {
     "name": "stderr",
     "output_type": "stream",
     "text": [
      "🔍 Gemini Analysis:  65%|██████▌   | 326/500 [1:35:46<45:47, 15.79s/row]"
     ]
    },
    {
     "name": "stdout",
     "output_type": "stream",
     "text": [
      "✅ Success with key AIzaS: {'final_sentiment': 'Positive', 'sarcasm': 'No', 'suggestion': 'No', 'suggestion_text': 'None', 'suggestion_type': 'None', 'emotion': 'gratitude', 'tone': 'grateful', 'urgency_flag': 'No', 'impact_level': 'Medium', 'responsible_party': 'customer service', 'action_flag': 'No'}\n"
     ]
    },
    {
     "name": "stderr",
     "output_type": "stream",
     "text": [
      "🔍 Gemini Analysis:  65%|██████▌   | 327/500 [1:36:03<46:38, 16.18s/row]"
     ]
    },
    {
     "name": "stdout",
     "output_type": "stream",
     "text": [
      "✅ Success with key AIzaS: {'final_sentiment': 'Positive', 'sarcasm': 'No', 'suggestion': 'No', 'suggestion_text': 'None', 'suggestion_type': 'None', 'emotion': 'satisfaction', 'tone': 'polite', 'urgency_flag': 'No', 'impact_level': 'Low', 'responsible_party': 'sales', 'action_flag': 'No'}\n"
     ]
    },
    {
     "name": "stderr",
     "output_type": "stream",
     "text": [
      "🔍 Gemini Analysis:  66%|██████▌   | 328/500 [1:36:13<41:20, 14.42s/row]"
     ]
    },
    {
     "name": "stdout",
     "output_type": "stream",
     "text": [
      "✅ Success with key AIzaS: {'final_sentiment': 'Negative', 'sarcasm': 'No', 'suggestion': 'Yes', 'suggestion_text': 'Avoid subcontracting with Egyptian labor.', 'suggestion_type': 'Operational Improvement', 'emotion': 'resentment', 'tone': 'angry', 'urgency_flag': 'Yes', 'impact_level': 'High', 'responsible_party': 'management', 'action_flag': 'Yes'}\n"
     ]
    },
    {
     "name": "stderr",
     "output_type": "stream",
     "text": [
      "🔍 Gemini Analysis:  66%|██████▌   | 329/500 [1:36:29<42:15, 14.83s/row]"
     ]
    },
    {
     "name": "stdout",
     "output_type": "stream",
     "text": [
      "✅ Success with key AIzaS: {'final_sentiment': 'Positive', 'sarcasm': 'No', 'suggestion': 'No', 'suggestion_text': 'None', 'suggestion_type': 'None', 'emotion': 'satisfaction', 'tone': 'informal', 'urgency_flag': 'No', 'impact_level': 'Low', 'responsible_party': 'None', 'action_flag': 'No'}\n"
     ]
    },
    {
     "name": "stderr",
     "output_type": "stream",
     "text": [
      "🔍 Gemini Analysis:  66%|██████▌   | 330/500 [1:36:49<46:40, 16.47s/row]"
     ]
    },
    {
     "name": "stdout",
     "output_type": "stream",
     "text": [
      "✅ Success with key AIzaS: {'final_sentiment': 'Positive', 'sarcasm': 'No', 'suggestion': 'No', 'suggestion_text': 'None', 'suggestion_type': 'None', 'emotion': 'satisfaction', 'tone': 'informal', 'urgency_flag': 'No', 'impact_level': 'Low', 'responsible_party': 'None', 'action_flag': 'No'}\n"
     ]
    },
    {
     "name": "stderr",
     "output_type": "stream",
     "text": [
      "🔍 Gemini Analysis:  66%|██████▌   | 331/500 [1:37:01<42:03, 14.93s/row]"
     ]
    },
    {
     "name": "stdout",
     "output_type": "stream",
     "text": [
      "✅ Success with key AIzaS: {'final_sentiment': 'Negative', 'sarcasm': 'No', 'suggestion': 'Yes', 'suggestion_text': 'User suggests improving staff honesty and performance, especially regarding product repairs and truthful communication.', 'suggestion_type': 'Operational Improvement', 'emotion': ['anger', 'frustration'], 'tone': ['angry', 'frustrated', 'disappointed'], 'urgency_flag': 'Yes', 'impact_level': 'High', 'responsible_party': 'customer service', 'action_flag': 'Yes'}\n"
     ]
    },
    {
     "name": "stderr",
     "output_type": "stream",
     "text": [
      "🔍 Gemini Analysis:  66%|██████▋   | 332/500 [1:37:41<1:03:01, 22.51s/row]"
     ]
    },
    {
     "name": "stdout",
     "output_type": "stream",
     "text": [
      "✅ Success with key AIzaS: {'final_sentiment': 'Positive', 'sarcasm': 'No', 'suggestion': 'No', 'suggestion_text': 'None', 'suggestion_type': 'None', 'emotion': 'satisfaction', 'tone': 'grateful', 'urgency_flag': 'No', 'impact_level': 'Low', 'responsible_party': 'delivery team', 'action_flag': 'No'}\n"
     ]
    },
    {
     "name": "stderr",
     "output_type": "stream",
     "text": [
      "🔍 Gemini Analysis:  67%|██████▋   | 333/500 [1:37:56<56:29, 20.29s/row]  "
     ]
    },
    {
     "name": "stdout",
     "output_type": "stream",
     "text": [
      "✅ Success with key AIzaS: {'final_sentiment': 'Positive', 'sarcasm': 'No', 'suggestion': 'No', 'suggestion_text': 'None', 'suggestion_type': 'None', 'emotion': 'gratitude', 'tone': 'grateful', 'urgency_flag': 'No', 'impact_level': 'Low', 'responsible_party': 'delivery team', 'action_flag': 'No'}\n"
     ]
    },
    {
     "name": "stderr",
     "output_type": "stream",
     "text": [
      "🔍 Gemini Analysis:  67%|██████▋   | 334/500 [1:38:13<53:11, 19.22s/row]"
     ]
    },
    {
     "name": "stdout",
     "output_type": "stream",
     "text": [
      "✅ Success with key AIzaS: {'final_sentiment': 'Negative', 'sarcasm': 'No', 'suggestion': 'Yes', 'suggestion_text': 'Improve attention to after-sales services', 'suggestion_type': 'Operational Improvement', 'emotion': 'disappointment', 'tone': 'polite', 'urgency_flag': 'No', 'impact_level': 'Medium', 'responsible_party': 'customer service', 'action_flag': 'Yes'}\n"
     ]
    },
    {
     "name": "stderr",
     "output_type": "stream",
     "text": [
      "🔍 Gemini Analysis:  67%|██████▋   | 335/500 [1:38:25<47:23, 17.23s/row]"
     ]
    },
    {
     "name": "stdout",
     "output_type": "stream",
     "text": [
      "✅ Success with key AIzaS: {'final_sentiment': 'Positive', 'sarcasm': 'No', 'suggestion': 'No', 'suggestion_text': 'None', 'suggestion_type': 'None', 'emotion': 'satisfaction', 'tone': 'polite', 'urgency_flag': 'No', 'impact_level': 'Low', 'responsible_party': 'customer service', 'action_flag': 'No'}\n"
     ]
    },
    {
     "name": "stderr",
     "output_type": "stream",
     "text": [
      "🔍 Gemini Analysis:  67%|██████▋   | 336/500 [1:38:46<49:59, 18.29s/row]"
     ]
    },
    {
     "name": "stdout",
     "output_type": "stream",
     "text": [
      "✅ Success with key AIzaS: {'final_sentiment': 'Neutral', 'sarcasm': 'No', 'suggestion': 'No', 'suggestion_text': 'None', 'suggestion_type': 'None', 'emotion': 'None', 'tone': 'informal', 'urgency_flag': 'No', 'impact_level': 'Low', 'responsible_party': 'None', 'action_flag': 'No'}\n"
     ]
    },
    {
     "name": "stderr",
     "output_type": "stream",
     "text": [
      "🔍 Gemini Analysis:  67%|██████▋   | 337/500 [1:39:02<47:37, 17.53s/row]"
     ]
    },
    {
     "name": "stdout",
     "output_type": "stream",
     "text": [
      "✅ Success with key AIzaS: {'final_sentiment': 'Positive', 'sarcasm': 'No', 'suggestion': 'No', 'suggestion_text': 'None', 'suggestion_type': 'None', 'emotion': 'satisfaction', 'tone': 'polite', 'urgency_flag': 'No', 'impact_level': 'Low', 'responsible_party': 'None', 'action_flag': 'No'}\n"
     ]
    },
    {
     "name": "stderr",
     "output_type": "stream",
     "text": [
      "🔍 Gemini Analysis:  68%|██████▊   | 338/500 [1:39:12<41:22, 15.33s/row]"
     ]
    },
    {
     "name": "stdout",
     "output_type": "stream",
     "text": [
      "✅ Success with key AIzaS: {'final_sentiment': 'Negative', 'sarcasm': 'No', 'suggestion': 'Yes', 'suggestion_text': 'Avoid 24-hour waiting period for actions', 'suggestion_type': 'Operational Improvement', 'emotion': 'frustration', 'tone': 'frustrated', 'urgency_flag': 'Yes', 'impact_level': 'High', 'responsible_party': 'None', 'action_flag': 'Yes'}\n"
     ]
    },
    {
     "name": "stderr",
     "output_type": "stream",
     "text": [
      "🔍 Gemini Analysis:  68%|██████▊   | 339/500 [1:39:28<41:43, 15.55s/row]"
     ]
    },
    {
     "name": "stdout",
     "output_type": "stream",
     "text": [
      "✅ Success with key AIzaS: {'final_sentiment': 'Positive', 'sarcasm': 'No', 'suggestion': 'Yes', 'suggestion_text': 'User requests more cooperative and friendly behavior from staff.', 'suggestion_type': 'Operational Improvement', 'emotion': 'satisfaction', 'tone': 'polite', 'urgency_flag': 'No', 'impact_level': 'Medium', 'responsible_party': 'customer service', 'action_flag': 'Yes'}\n"
     ]
    },
    {
     "name": "stderr",
     "output_type": "stream",
     "text": [
      "🔍 Gemini Analysis:  68%|██████▊   | 340/500 [1:39:55<50:38, 18.99s/row]"
     ]
    },
    {
     "name": "stdout",
     "output_type": "stream",
     "text": [
      "✅ Success with key AIzaS: {'final_sentiment': 'Negative', 'sarcasm': 'No', 'suggestion': 'Yes', 'suggestion_text': 'Marketing staff should prioritize attending to customers over engaging in side conversations.', 'suggestion_type': 'Operational Improvement', 'emotion': 'frustration', 'tone': 'frustrated', 'urgency_flag': 'Yes', 'impact_level': 'High', 'responsible_party': 'management', 'action_flag': 'Yes'}\n"
     ]
    },
    {
     "name": "stderr",
     "output_type": "stream",
     "text": [
      "🔍 Gemini Analysis:  68%|██████▊   | 341/500 [1:40:09<45:52, 17.31s/row]"
     ]
    },
    {
     "name": "stdout",
     "output_type": "stream",
     "text": [
      "✅ Success with key AIzaS: {'final_sentiment': 'Negative', 'sarcasm': 'No', 'suggestion': 'No', 'suggestion_text': 'None', 'suggestion_type': 'None', 'emotion': 'disappointment', 'tone': 'disappointed', 'urgency_flag': 'Yes', 'impact_level': 'High', 'responsible_party': 'management', 'action_flag': 'Yes'}\n"
     ]
    },
    {
     "name": "stderr",
     "output_type": "stream",
     "text": [
      "🔍 Gemini Analysis:  68%|██████▊   | 342/500 [1:40:21<41:43, 15.85s/row]"
     ]
    },
    {
     "name": "stdout",
     "output_type": "stream",
     "text": [
      "✅ Success with key AIzaS: {'final_sentiment': 'Positive', 'sarcasm': 'No', 'suggestion': 'No', 'suggestion_text': 'None', 'suggestion_type': 'None', 'emotion': 'satisfaction', 'tone': 'polite', 'urgency_flag': 'No', 'impact_level': 'Low', 'responsible_party': 'None', 'action_flag': 'No'}\n"
     ]
    },
    {
     "name": "stderr",
     "output_type": "stream",
     "text": [
      "🔍 Gemini Analysis:  69%|██████▊   | 343/500 [1:40:35<40:11, 15.36s/row]"
     ]
    },
    {
     "name": "stdout",
     "output_type": "stream",
     "text": [
      "✅ Success with key AIzaS: {'final_sentiment': 'Negative', 'sarcasm': 'No', 'suggestion': 'No', 'suggestion_text': 'None', 'suggestion_type': 'None', 'emotion': 'frustration', 'tone': 'frustrated', 'urgency_flag': 'Yes', 'impact_level': 'High', 'responsible_party': 'customer service', 'action_flag': 'Yes'}\n"
     ]
    },
    {
     "name": "stderr",
     "output_type": "stream",
     "text": [
      "🔍 Gemini Analysis:  69%|██████▉   | 344/500 [1:40:57<45:05, 17.34s/row]"
     ]
    },
    {
     "name": "stdout",
     "output_type": "stream",
     "text": [
      "✅ Success with key AIzaS: {'final_sentiment': 'Positive', 'sarcasm': 'No', 'suggestion': 'No', 'suggestion_text': 'None', 'suggestion_type': 'None', 'emotion': 'satisfaction', 'tone': 'informal', 'urgency_flag': 'No', 'impact_level': 'High', 'responsible_party': 'None', 'action_flag': 'No'}\n"
     ]
    },
    {
     "name": "stderr",
     "output_type": "stream",
     "text": [
      "🔍 Gemini Analysis:  69%|██████▉   | 345/500 [1:41:12<42:43, 16.54s/row]"
     ]
    },
    {
     "name": "stdout",
     "output_type": "stream",
     "text": [
      "✅ Success with key AIzaS: {'final_sentiment': 'Negative', 'sarcasm': 'No', 'suggestion': 'Yes', 'suggestion_text': 'User suggests discontinuing the thermal protection product/feature due to its very bad quality and poor materials.', 'suggestion_type': 'Complaint', 'emotion': 'frustration', 'tone': 'frustrated', 'urgency_flag': 'Yes', 'impact_level': 'High', 'responsible_party': 'management', 'action_flag': 'Yes'}\n"
     ]
    },
    {
     "name": "stderr",
     "output_type": "stream",
     "text": [
      "🔍 Gemini Analysis:  69%|██████▉   | 346/500 [1:41:26<40:18, 15.71s/row]"
     ]
    },
    {
     "name": "stdout",
     "output_type": "stream",
     "text": [
      "⚠️ API Error with key AIzaS...: Expecting value: line 1 column 1 (char 0)\n",
      "⚠️ API Error with key AIzaS...: Expecting value: line 1 column 1 (char 0)\n",
      "⚠️ API Error with key AIzaS...: Expecting value: line 1 column 1 (char 0)\n",
      "✅ Success with key AIzaS: {'final_sentiment': 'Neutral', 'sarcasm': 'No', 'suggestion': 'No', 'suggestion_text': 'None', 'suggestion_type': 'None', 'emotion': 'satisfaction', 'tone': 'polite', 'urgency_flag': 'No', 'impact_level': 'Low', 'responsible_party': 'customer service', 'action_flag': 'No'}\n"
     ]
    },
    {
     "name": "stderr",
     "output_type": "stream",
     "text": [
      "🔍 Gemini Analysis:  69%|██████▉   | 347/500 [1:42:23<1:11:46, 28.15s/row]"
     ]
    },
    {
     "name": "stdout",
     "output_type": "stream",
     "text": [
      "✅ Success with key AIzaS: {'final_sentiment': 'Positive', 'sarcasm': 'No', 'suggestion': 'No', 'suggestion_text': 'None', 'suggestion_type': 'None', 'emotion': 'satisfaction', 'tone': 'polite', 'urgency_flag': 'No', 'impact_level': 'Low', 'responsible_party': 'customer service', 'action_flag': 'No'}\n"
     ]
    },
    {
     "name": "stderr",
     "output_type": "stream",
     "text": [
      "🔍 Gemini Analysis:  70%|██████▉   | 348/500 [1:42:34<58:31, 23.10s/row]  "
     ]
    },
    {
     "name": "stdout",
     "output_type": "stream",
     "text": [
      "✅ Success with key AIzaS: {'final_sentiment': 'Positive', 'sarcasm': 'No', 'suggestion': 'No', 'suggestion_text': 'None', 'suggestion_type': 'None', 'emotion': 'joy', 'tone': 'informal', 'urgency_flag': 'No', 'impact_level': 'Low', 'responsible_party': 'None', 'action_flag': 'No'}\n"
     ]
    },
    {
     "name": "stderr",
     "output_type": "stream",
     "text": [
      "🔍 Gemini Analysis:  70%|██████▉   | 349/500 [1:43:05<1:03:57, 25.42s/row]"
     ]
    },
    {
     "name": "stdout",
     "output_type": "stream",
     "text": [
      "✅ Success with key AIzaS: {'final_sentiment': 'Positive', 'sarcasm': 'No', 'suggestion': 'No', 'suggestion_text': 'None', 'suggestion_type': 'None', 'emotion': 'gratitude', 'tone': 'grateful', 'urgency_flag': 'No', 'impact_level': 'Low', 'responsible_party': 'None', 'action_flag': 'No'}\n"
     ]
    },
    {
     "name": "stderr",
     "output_type": "stream",
     "text": [
      "🔍 Gemini Analysis:  70%|███████   | 350/500 [1:43:14<51:19, 20.53s/row]  "
     ]
    },
    {
     "name": "stdout",
     "output_type": "stream",
     "text": [
      "✅ Success with key AIzaS: {'final_sentiment': 'Neutral', 'sarcasm': 'No', 'suggestion': 'No', 'suggestion_text': 'None', 'suggestion_type': 'None', 'emotion': 'satisfaction', 'tone': 'informal', 'urgency_flag': 'No', 'impact_level': 'Low', 'responsible_party': 'None', 'action_flag': 'No'}\n"
     ]
    },
    {
     "name": "stderr",
     "output_type": "stream",
     "text": [
      "🔍 Gemini Analysis:  70%|███████   | 351/500 [1:43:41<55:34, 22.38s/row]"
     ]
    },
    {
     "name": "stdout",
     "output_type": "stream",
     "text": [
      "✅ Success with key AIzaS: {'final_sentiment': 'Neutral', 'sarcasm': 'No', 'suggestion': 'No', 'suggestion_text': 'None', 'suggestion_type': 'None', 'emotion': 'satisfaction', 'tone': 'polite', 'urgency_flag': 'No', 'impact_level': 'Low', 'responsible_party': 'None', 'action_flag': 'No'}\n"
     ]
    },
    {
     "name": "stderr",
     "output_type": "stream",
     "text": [
      "🔍 Gemini Analysis:  70%|███████   | 352/500 [1:44:00<53:10, 21.56s/row]"
     ]
    },
    {
     "name": "stdout",
     "output_type": "stream",
     "text": [
      "✅ Success with key AIzaS: {'final_sentiment': 'Positive', 'sarcasm': 'No', 'suggestion': 'No', 'suggestion_text': 'None', 'suggestion_type': 'None', 'emotion': 'joy', 'tone': 'enthusiastic', 'urgency_flag': 'No', 'impact_level': 'Low', 'responsible_party': 'None', 'action_flag': 'No'}\n"
     ]
    },
    {
     "name": "stderr",
     "output_type": "stream",
     "text": [
      "🔍 Gemini Analysis:  71%|███████   | 353/500 [1:44:10<44:21, 18.11s/row]"
     ]
    },
    {
     "name": "stdout",
     "output_type": "stream",
     "text": [
      "✅ Success with key AIzaS: {'final_sentiment': 'Neutral', 'sarcasm': 'No', 'suggestion': 'Yes', 'suggestion_text': 'Improve the development and education of air conditioning installation technicians.', 'suggestion_type': 'Operational Improvement', 'emotion': 'disappointment', 'tone': 'professional', 'urgency_flag': 'No', 'impact_level': 'High', 'responsible_party': 'management', 'action_flag': 'Yes'}\n"
     ]
    },
    {
     "name": "stderr",
     "output_type": "stream",
     "text": [
      "🔍 Gemini Analysis:  71%|███████   | 354/500 [1:44:37<50:02, 20.56s/row]"
     ]
    },
    {
     "name": "stdout",
     "output_type": "stream",
     "text": [
      "✅ Success with key AIzaS: {'final_sentiment': 'Negative', 'sarcasm': 'No', 'suggestion': 'No', 'suggestion_text': 'None', 'suggestion_type': 'None', 'emotion': 'confusion', 'tone': 'informal', 'urgency_flag': 'No', 'impact_level': 'High', 'responsible_party': 'customer service', 'action_flag': 'Yes'}\n"
     ]
    },
    {
     "name": "stderr",
     "output_type": "stream",
     "text": [
      "🔍 Gemini Analysis:  71%|███████   | 355/500 [1:45:02<53:08, 21.99s/row]"
     ]
    },
    {
     "name": "stdout",
     "output_type": "stream",
     "text": [
      "✅ Success with key AIzaS: {'final_sentiment': 'Positive', 'sarcasm': 'No', 'suggestion': 'No', 'suggestion_text': 'None', 'suggestion_type': 'None', 'emotion': 'satisfaction', 'tone': 'informal', 'urgency_flag': 'No', 'impact_level': 'Low', 'responsible_party': 'None', 'action_flag': 'No'}\n"
     ]
    },
    {
     "name": "stderr",
     "output_type": "stream",
     "text": [
      "🔍 Gemini Analysis:  71%|███████   | 356/500 [1:45:14<45:37, 19.01s/row]"
     ]
    },
    {
     "name": "stdout",
     "output_type": "stream",
     "text": [
      "✅ Success with key AIzaS: {'final_sentiment': 'Positive', 'sarcasm': 'No', 'suggestion': 'No', 'suggestion_text': 'None', 'suggestion_type': 'None', 'emotion': 'gratitude', 'tone': 'grateful', 'urgency_flag': 'No', 'impact_level': 'Low', 'responsible_party': 'None', 'action_flag': 'No'}\n"
     ]
    },
    {
     "name": "stderr",
     "output_type": "stream",
     "text": [
      "🔍 Gemini Analysis:  71%|███████▏  | 357/500 [1:45:24<38:24, 16.12s/row]"
     ]
    },
    {
     "name": "stdout",
     "output_type": "stream",
     "text": [
      "✅ Success with key AIzaS: {'final_sentiment': 'Positive', 'sarcasm': 'No', 'suggestion': 'No', 'suggestion_text': 'None', 'suggestion_type': 'None', 'emotion': ['frustration', 'disappointment', 'satisfaction', 'gratitude'], 'tone': ['frustrated', 'disappointed', 'grateful'], 'urgency_flag': 'No', 'impact_level': 'High', 'responsible_party': 'customer service', 'action_flag': 'Yes'}\n"
     ]
    },
    {
     "name": "stderr",
     "output_type": "stream",
     "text": [
      "🔍 Gemini Analysis:  72%|███████▏  | 358/500 [1:45:37<36:28, 15.41s/row]"
     ]
    },
    {
     "name": "stdout",
     "output_type": "stream",
     "text": [
      "✅ Success with key AIzaS: {'final_sentiment': 'Negative', 'sarcasm': 'No', 'suggestion': 'No', 'suggestion_text': 'None', 'suggestion_type': 'None', 'emotion': 'frustration', 'tone': 'frustrated', 'urgency_flag': 'Yes', 'impact_level': 'High', 'responsible_party': 'technical support', 'action_flag': 'Yes'}\n"
     ]
    },
    {
     "name": "stderr",
     "output_type": "stream",
     "text": [
      "🔍 Gemini Analysis:  72%|███████▏  | 359/500 [1:45:49<33:25, 14.23s/row]"
     ]
    },
    {
     "name": "stdout",
     "output_type": "stream",
     "text": [
      "✅ Success with key AIzaS: {'final_sentiment': 'Positive', 'sarcasm': 'No', 'suggestion': 'No', 'suggestion_text': 'None', 'suggestion_type': 'None', 'emotion': 'satisfaction', 'tone': 'polite', 'urgency_flag': 'No', 'impact_level': 'Low', 'responsible_party': 'None', 'action_flag': 'No'}\n"
     ]
    },
    {
     "name": "stderr",
     "output_type": "stream",
     "text": [
      "🔍 Gemini Analysis:  72%|███████▏  | 360/500 [1:45:59<30:16, 12.97s/row]"
     ]
    },
    {
     "name": "stdout",
     "output_type": "stream",
     "text": [
      "✅ Success with key AIzaS: {'final_sentiment': 'Neutral', 'sarcasm': 'No', 'suggestion': 'No', 'suggestion_text': 'None', 'suggestion_type': 'None', 'emotion': 'satisfaction', 'tone': 'informal', 'urgency_flag': 'No', 'impact_level': 'Low', 'responsible_party': 'None', 'action_flag': 'No'}\n"
     ]
    },
    {
     "name": "stderr",
     "output_type": "stream",
     "text": [
      "🔍 Gemini Analysis:  72%|███████▏  | 361/500 [1:46:28<41:04, 17.73s/row]"
     ]
    },
    {
     "name": "stdout",
     "output_type": "stream",
     "text": [
      "✅ Success with key AIzaS: {'final_sentiment': 'Neutral', 'sarcasm': 'No', 'suggestion': 'No', 'suggestion_text': 'None', 'suggestion_type': 'None', 'emotion': 'satisfaction', 'tone': 'informal', 'urgency_flag': 'No', 'impact_level': 'Low', 'responsible_party': 'None', 'action_flag': 'No'}\n"
     ]
    },
    {
     "name": "stderr",
     "output_type": "stream",
     "text": [
      "🔍 Gemini Analysis:  72%|███████▏  | 362/500 [1:47:14<1:00:13, 26.18s/row]"
     ]
    },
    {
     "name": "stdout",
     "output_type": "stream",
     "text": [
      "✅ Success with key AIzaS: {'final_sentiment': 'Negative', 'sarcasm': 'No', 'suggestion': 'No', 'suggestion_text': 'None', 'suggestion_type': 'None', 'emotion': 'frustration', 'tone': 'frustrated', 'urgency_flag': 'Yes', 'impact_level': 'High', 'responsible_party': 'None', 'action_flag': 'Yes'}\n"
     ]
    },
    {
     "name": "stderr",
     "output_type": "stream",
     "text": [
      "🔍 Gemini Analysis:  73%|███████▎  | 363/500 [1:47:26<50:27, 22.10s/row]  "
     ]
    },
    {
     "name": "stdout",
     "output_type": "stream",
     "text": [
      "✅ Success with key AIzaS: {'final_sentiment': 'Positive', 'sarcasm': 'No', 'suggestion': 'Yes', 'suggestion_text': 'Customer suggests having more shopping options.', 'suggestion_type': 'Feature Request', 'emotion': 'satisfaction', 'tone': 'polite', 'urgency_flag': 'No', 'impact_level': 'Low', 'responsible_party': 'management', 'action_flag': 'Yes'}\n"
     ]
    },
    {
     "name": "stderr",
     "output_type": "stream",
     "text": [
      "🔍 Gemini Analysis:  73%|███████▎  | 364/500 [1:47:36<42:00, 18.53s/row]"
     ]
    },
    {
     "name": "stdout",
     "output_type": "stream",
     "text": [
      "✅ Success with key AIzaS: {'final_sentiment': 'Negative', 'sarcasm': 'No', 'suggestion': 'No', 'suggestion_text': 'None', 'suggestion_type': 'None', 'emotion': 'disappointment', 'tone': 'disappointed', 'urgency_flag': 'No', 'impact_level': 'Medium', 'responsible_party': 'None', 'action_flag': 'Yes'}\n"
     ]
    },
    {
     "name": "stderr",
     "output_type": "stream",
     "text": [
      "🔍 Gemini Analysis:  73%|███████▎  | 365/500 [1:47:56<42:34, 18.92s/row]"
     ]
    },
    {
     "name": "stdout",
     "output_type": "stream",
     "text": [
      "✅ Success with key AIzaS: {'final_sentiment': 'Negative', 'sarcasm': 'No', 'suggestion': 'No', 'suggestion_text': 'None', 'suggestion_type': 'None', 'emotion': ['frustration', 'anger'], 'tone': ['frustrated', 'angry'], 'urgency_flag': 'Yes', 'impact_level': 'High', 'responsible_party': ['customer service', 'technical support'], 'action_flag': 'Yes'}\n"
     ]
    },
    {
     "name": "stderr",
     "output_type": "stream",
     "text": [
      "🔍 Gemini Analysis:  73%|███████▎  | 366/500 [1:48:26<49:42, 22.26s/row]"
     ]
    },
    {
     "name": "stdout",
     "output_type": "stream",
     "text": [
      "⚠️ API Error with key AIzaS...: 429 Resource has been exhausted (e.g. check quota).\n",
      "⚠️ API Error with key AIzaS...: 429 Resource has been exhausted (e.g. check quota).\n",
      "⚠️ API Error with key AIzaS...: 429 Resource has been exhausted (e.g. check quota).\n",
      "✅ Success with key AIzaS: {'final_sentiment': 'Positive', 'sarcasm': 'No', 'suggestion': 'No', 'suggestion_text': 'None', 'suggestion_type': 'None', 'emotion': 'satisfaction', 'tone': 'enthusiastic', 'urgency_flag': 'No', 'impact_level': 'Low', 'responsible_party': 'None', 'action_flag': 'No'}\n"
     ]
    },
    {
     "name": "stderr",
     "output_type": "stream",
     "text": [
      "🔍 Gemini Analysis:  73%|███████▎  | 367/500 [1:48:49<49:50, 22.48s/row]"
     ]
    },
    {
     "name": "stdout",
     "output_type": "stream",
     "text": [
      "✅ Success with key AIzaS: {'final_sentiment': 'Negative', 'sarcasm': 'No', 'suggestion': 'Yes', 'suggestion_text': 'Advise customers accurately regarding the collection time of their repaired devices.', 'suggestion_type': 'Operational Improvement', 'emotion': 'frustration', 'tone': 'frustrated', 'urgency_flag': 'Yes', 'impact_level': 'High', 'responsible_party': 'customer service', 'action_flag': 'Yes'}\n"
     ]
    },
    {
     "name": "stderr",
     "output_type": "stream",
     "text": [
      "🔍 Gemini Analysis:  74%|███████▎  | 368/500 [1:49:02<42:53, 19.49s/row]"
     ]
    },
    {
     "name": "stdout",
     "output_type": "stream",
     "text": [
      "⚠️ API Error with key AIzaS...: 429 Resource has been exhausted (e.g. check quota).\n",
      "⚠️ API Error with key AIzaS...: 429 Resource has been exhausted (e.g. check quota).\n",
      "⚠️ API Error with key AIzaS...: 429 Resource has been exhausted (e.g. check quota).\n",
      "⚠️ API Error with key AIzaS...: 429 Resource has been exhausted (e.g. check quota).\n",
      "⚠️ API Error with key AIzaS...: 429 Resource has been exhausted (e.g. check quota).\n",
      "⚠️ API Error with key AIzaS...: 429 Resource has been exhausted (e.g. check quota).\n",
      "⚠️ API Error with key AIzaS...: 429 Resource has been exhausted (e.g. check quota).\n",
      "✅ Success with key AIzaS: {'final_sentiment': 'Positive', 'sarcasm': 'No', 'suggestion': 'No', 'suggestion_text': 'None', 'suggestion_type': 'None', 'emotion': 'joy', 'tone': 'enthusiastic', 'urgency_flag': 'No', 'impact_level': 'Low', 'responsible_party': 'None', 'action_flag': 'No'}\n"
     ]
    },
    {
     "name": "stderr",
     "output_type": "stream",
     "text": [
      "🔍 Gemini Analysis:  74%|███████▍  | 369/500 [1:49:32<49:39, 22.75s/row]"
     ]
    },
    {
     "name": "stdout",
     "output_type": "stream",
     "text": [
      "✅ Success with key AIzaS: {'final_sentiment': 'Positive', 'sarcasm': 'No', 'suggestion': 'No', 'suggestion_text': 'None', 'suggestion_type': 'None', 'emotion': 'satisfaction', 'tone': 'enthusiastic', 'urgency_flag': 'No', 'impact_level': 'Low', 'responsible_party': 'None', 'action_flag': 'No'}\n"
     ]
    },
    {
     "name": "stderr",
     "output_type": "stream",
     "text": [
      "🔍 Gemini Analysis:  74%|███████▍  | 370/500 [1:49:46<43:23, 20.03s/row]"
     ]
    },
    {
     "name": "stdout",
     "output_type": "stream",
     "text": [
      "⚠️ API Error with key AIzaS...: 429 Resource has been exhausted (e.g. check quota).\n",
      "⚠️ API Error with key AIzaS...: 429 Resource has been exhausted (e.g. check quota).\n",
      "⚠️ API Error with key AIzaS...: 429 Resource has been exhausted (e.g. check quota).\n",
      "⚠️ API Error with key AIzaS...: 429 Resource has been exhausted (e.g. check quota).\n",
      "⚠️ API Error with key AIzaS...: 429 Resource has been exhausted (e.g. check quota).\n",
      "⚠️ API Error with key AIzaS...: 429 Resource has been exhausted (e.g. check quota).\n",
      "✅ Success with key AIzaS: {'final_sentiment': 'Neutral', 'sarcasm': 'No', 'suggestion': 'Yes', 'suggestion_text': 'User suggests that terms and conditions, especially regarding advance payments, should be clear.', 'suggestion_type': 'Operational Improvement', 'emotion': 'confusion', 'tone': 'polite', 'urgency_flag': 'No', 'impact_level': 'Low', 'responsible_party': 'management', 'action_flag': 'Yes'}\n"
     ]
    },
    {
     "name": "stderr",
     "output_type": "stream",
     "text": [
      "🔍 Gemini Analysis:  74%|███████▍  | 371/500 [1:50:12<46:57, 21.84s/row]"
     ]
    },
    {
     "name": "stdout",
     "output_type": "stream",
     "text": [
      "✅ Success with key AIzaS: {'final_sentiment': 'Positive', 'sarcasm': 'No', 'suggestion': 'No', 'suggestion_text': 'None', 'suggestion_type': 'None', 'emotion': 'gratitude', 'tone': 'grateful', 'urgency_flag': 'No', 'impact_level': 'Low', 'responsible_party': 'None', 'action_flag': 'No'}\n"
     ]
    },
    {
     "name": "stderr",
     "output_type": "stream",
     "text": [
      "🔍 Gemini Analysis:  74%|███████▍  | 372/500 [1:50:23<39:58, 18.74s/row]"
     ]
    },
    {
     "name": "stdout",
     "output_type": "stream",
     "text": [
      "⚠️ API Error with key AIzaS...: 429 Resource has been exhausted (e.g. check quota).\n",
      "⚠️ API Error with key AIzaS...: 429 Resource has been exhausted (e.g. check quota).\n",
      "⚠️ API Error with key AIzaS...: 429 Resource has been exhausted (e.g. check quota).\n",
      "⚠️ API Error with key AIzaS...: 429 Resource has been exhausted (e.g. check quota).\n",
      "⚠️ API Error with key AIzaS...: 429 Resource has been exhausted (e.g. check quota).\n",
      "⚠️ API Error with key AIzaS...: 429 Resource has been exhausted (e.g. check quota).\n",
      "⚠️ API Error with key AIzaS...: 429 Resource has been exhausted (e.g. check quota).\n",
      "✅ Success with key AIzaS: {'final_sentiment': 'Positive', 'sarcasm': 'No', 'suggestion': 'No', 'suggestion_text': 'None', 'suggestion_type': 'None', 'emotion': 'satisfaction', 'tone': 'grateful', 'urgency_flag': 'No', 'impact_level': 'Low', 'responsible_party': 'delivery team', 'action_flag': 'No'}\n"
     ]
    },
    {
     "name": "stderr",
     "output_type": "stream",
     "text": [
      "🔍 Gemini Analysis:  75%|███████▍  | 373/500 [1:50:49<44:11, 20.88s/row]"
     ]
    },
    {
     "name": "stdout",
     "output_type": "stream",
     "text": [
      "⚠️ API Error with key AIzaS...: 429 Resource has been exhausted (e.g. check quota).\n",
      "⚠️ API Error with key AIzaS...: 429 Resource has been exhausted (e.g. check quota).\n",
      "✅ Success with key AIzaS: {'final_sentiment': 'Negative', 'sarcasm': 'No', 'suggestion': 'Yes', 'suggestion_text': 'Simplify or add a special icon for after-sales maintenance service to improve accessibility.', 'suggestion_type': 'Operational Improvement', 'emotion': 'frustration', 'tone': 'frustrated', 'urgency_flag': 'Yes', 'impact_level': 'High', 'responsible_party': 'customer service', 'action_flag': 'Yes'}\n"
     ]
    },
    {
     "name": "stderr",
     "output_type": "stream",
     "text": [
      "🔍 Gemini Analysis:  75%|███████▍  | 374/500 [1:51:05<40:56, 19.49s/row]"
     ]
    },
    {
     "name": "stdout",
     "output_type": "stream",
     "text": [
      "⚠️ API Error with key AIzaS...: 429 Resource has been exhausted (e.g. check quota).\n",
      "⚠️ API Error with key AIzaS...: 429 Resource has been exhausted (e.g. check quota).\n",
      "✅ Success with key AIzaS: {'final_sentiment': 'Neutral', 'sarcasm': 'No', 'suggestion': 'No', 'suggestion_text': 'None', 'suggestion_type': 'None', 'emotion': 'satisfaction', 'tone': 'informal', 'urgency_flag': 'No', 'impact_level': 'Low', 'responsible_party': 'None', 'action_flag': 'No'}\n"
     ]
    },
    {
     "name": "stderr",
     "output_type": "stream",
     "text": [
      "🔍 Gemini Analysis:  75%|███████▌  | 375/500 [1:51:35<47:05, 22.61s/row]"
     ]
    },
    {
     "name": "stdout",
     "output_type": "stream",
     "text": [
      "⚠️ API Error with key AIzaS...: 429 Resource has been exhausted (e.g. check quota).\n",
      "✅ Success with key AIzaS: {'final_sentiment': 'Positive', 'sarcasm': 'No', 'suggestion': 'No', 'suggestion_text': 'None', 'suggestion_type': 'None', 'emotion': 'satisfaction', 'tone': 'grateful', 'urgency_flag': 'No', 'impact_level': 'Low', 'responsible_party': 'None', 'action_flag': 'No'}\n"
     ]
    },
    {
     "name": "stderr",
     "output_type": "stream",
     "text": [
      "🔍 Gemini Analysis:  75%|███████▌  | 376/500 [1:51:50<41:34, 20.12s/row]"
     ]
    },
    {
     "name": "stdout",
     "output_type": "stream",
     "text": [
      "⚠️ API Error with key AIzaS...: 429 Resource has been exhausted (e.g. check quota).\n",
      "⚠️ API Error with key AIzaS...: 429 Resource has been exhausted (e.g. check quota).\n",
      "⚠️ API Error with key AIzaS...: 429 Resource has been exhausted (e.g. check quota).\n",
      "⚠️ API Error with key AIzaS...: 429 Resource has been exhausted (e.g. check quota).\n",
      "⚠️ API Error with key AIzaS...: 429 Resource has been exhausted (e.g. check quota).\n",
      "✅ Success with key AIzaS: {'final_sentiment': 'Positive', 'sarcasm': 'No', 'suggestion': 'No', 'suggestion_text': 'None', 'suggestion_type': 'None', 'emotion': 'gratitude', 'tone': 'grateful', 'urgency_flag': 'No', 'impact_level': 'Low', 'responsible_party': 'technical support', 'action_flag': 'No'}\n"
     ]
    },
    {
     "name": "stderr",
     "output_type": "stream",
     "text": [
      "🔍 Gemini Analysis:  75%|███████▌  | 377/500 [1:52:10<41:17, 20.14s/row]"
     ]
    },
    {
     "name": "stdout",
     "output_type": "stream",
     "text": [
      "✅ Success with key AIzaS: {'final_sentiment': 'Positive', 'sarcasm': 'No', 'suggestion': 'No', 'suggestion_text': 'None', 'suggestion_type': 'None', 'emotion': 'gratitude', 'tone': 'grateful', 'urgency_flag': 'No', 'impact_level': 'Low', 'responsible_party': 'None', 'action_flag': 'No'}\n"
     ]
    },
    {
     "name": "stderr",
     "output_type": "stream",
     "text": [
      "🔍 Gemini Analysis:  76%|███████▌  | 378/500 [1:52:24<37:10, 18.28s/row]"
     ]
    },
    {
     "name": "stdout",
     "output_type": "stream",
     "text": [
      "⚠️ API Error with key AIzaS...: 429 Resource has been exhausted (e.g. check quota).\n",
      "⚠️ API Error with key AIzaS...: 429 Resource has been exhausted (e.g. check quota).\n",
      "⚠️ API Error with key AIzaS...: 429 Resource has been exhausted (e.g. check quota).\n",
      "⚠️ API Error with key AIzaS...: 429 Resource has been exhausted (e.g. check quota).\n",
      "✅ Success with key AIzaS: {'final_sentiment': 'Positive', 'sarcasm': 'No', 'suggestion': 'No', 'suggestion_text': 'None', 'suggestion_type': 'None', 'emotion': 'gratitude', 'tone': 'grateful', 'urgency_flag': 'No', 'impact_level': 'Low', 'responsible_party': 'None', 'action_flag': 'No'}\n"
     ]
    },
    {
     "name": "stderr",
     "output_type": "stream",
     "text": [
      "🔍 Gemini Analysis:  76%|███████▌  | 379/500 [1:52:42<36:39, 18.18s/row]"
     ]
    },
    {
     "name": "stdout",
     "output_type": "stream",
     "text": [
      "⚠️ API Error with key AIzaS...: 429 Resource has been exhausted (e.g. check quota).\n",
      "⚠️ API Error with key AIzaS...: 429 Resource has been exhausted (e.g. check quota).\n",
      "✅ Success with key AIzaS: {'final_sentiment': 'Negative', 'sarcasm': 'No', 'suggestion': 'Yes', 'suggestion_text': 'Need for a well-trained maintenance team', 'suggestion_type': 'Operational Improvement', 'emotion': 'disappointment', 'tone': 'informal', 'urgency_flag': 'No', 'impact_level': 'High', 'responsible_party': 'management', 'action_flag': 'Yes'}\n"
     ]
    },
    {
     "name": "stderr",
     "output_type": "stream",
     "text": [
      "🔍 Gemini Analysis:  76%|███████▌  | 380/500 [1:52:57<34:47, 17.39s/row]"
     ]
    },
    {
     "name": "stdout",
     "output_type": "stream",
     "text": [
      "⚠️ API Error with key AIzaS...: 429 Resource has been exhausted (e.g. check quota).\n",
      "⚠️ API Error with key AIzaS...: 429 Resource has been exhausted (e.g. check quota).\n",
      "⚠️ API Error with key AIzaS...: 429 Resource has been exhausted (e.g. check quota).\n",
      "⚠️ API Error with key AIzaS...: 429 Resource has been exhausted (e.g. check quota).\n",
      "⚠️ API Error with key AIzaS...: 429 Resource has been exhausted (e.g. check quota).\n",
      "⚠️ API Error with key AIzaS...: 429 Resource has been exhausted (e.g. check quota).\n",
      "⚠️ API Error with key AIzaS...: 429 Resource has been exhausted (e.g. check quota).\n",
      "⚠️ API Error with key AIzaS...: 429 Resource has been exhausted (e.g. check quota).\n",
      "⚠️ API Error with key AIzaS...: 429 Resource has been exhausted (e.g. check quota).\n"
     ]
    },
    {
     "name": "stderr",
     "output_type": "stream",
     "text": [
      "🔍 Gemini Analysis:  76%|███████▌  | 381/500 [1:53:14<34:06, 17.20s/row]"
     ]
    },
    {
     "name": "stdout",
     "output_type": "stream",
     "text": [
      "⚠️ API Error with key AIzaS...: 429 Resource has been exhausted (e.g. check quota).\n",
      "⚠️ API Error with key AIzaS...: 429 Resource has been exhausted (e.g. check quota).\n",
      "⚠️ API Error with key AIzaS...: 429 Resource has been exhausted (e.g. check quota).\n",
      "⚠️ API Error with key AIzaS...: 429 Resource has been exhausted (e.g. check quota).\n",
      "⚠️ API Error with key AIzaS...: 429 Resource has been exhausted (e.g. check quota).\n",
      "⚠️ API Error with key AIzaS...: 429 Resource has been exhausted (e.g. check quota).\n",
      "⚠️ API Error with key AIzaS...: 429 Resource has been exhausted (e.g. check quota).\n",
      "✅ Success with key AIzaS: {'final_sentiment': 'Positive', 'sarcasm': 'No', 'suggestion': 'No', 'suggestion_text': 'None', 'suggestion_type': 'None', 'emotion': 'satisfaction', 'tone': 'grateful', 'urgency_flag': 'No', 'impact_level': 'Medium', 'responsible_party': 'None', 'action_flag': 'No'}\n"
     ]
    },
    {
     "name": "stderr",
     "output_type": "stream",
     "text": [
      "🔍 Gemini Analysis:  76%|███████▋  | 382/500 [1:53:43<40:40, 20.69s/row]"
     ]
    },
    {
     "name": "stdout",
     "output_type": "stream",
     "text": [
      "✅ Success with key AIzaS: {'final_sentiment': 'Positive', 'sarcasm': 'No', 'suggestion': 'Yes', 'suggestion_text': 'Provide English-speaking employees to explain products.', 'suggestion_type': 'Operational Improvement', 'emotion': 'None', 'tone': 'polite', 'urgency_flag': 'No', 'impact_level': 'Medium', 'responsible_party': 'customer service', 'action_flag': 'Yes'}\n"
     ]
    },
    {
     "name": "stderr",
     "output_type": "stream",
     "text": [
      "🔍 Gemini Analysis:  77%|███████▋  | 383/500 [1:54:05<41:17, 21.18s/row]"
     ]
    },
    {
     "name": "stdout",
     "output_type": "stream",
     "text": [
      "✅ Success with key AIzaS: {'final_sentiment': 'Positive', 'sarcasm': 'No', 'suggestion': 'No', 'suggestion_text': 'None', 'suggestion_type': 'None', 'emotion': 'gratitude', 'tone': 'grateful', 'urgency_flag': 'No', 'impact_level': 'Low', 'responsible_party': 'None', 'action_flag': 'No'}\n"
     ]
    },
    {
     "name": "stderr",
     "output_type": "stream",
     "text": [
      "🔍 Gemini Analysis:  77%|███████▋  | 384/500 [1:54:28<41:38, 21.54s/row]"
     ]
    },
    {
     "name": "stdout",
     "output_type": "stream",
     "text": [
      "✅ Success with key AIzaS: {'final_sentiment': 'Neutral', 'sarcasm': 'No', 'suggestion': 'Yes', 'suggestion_text': 'User suggests providing guides or assistance for people with special circumstances.', 'suggestion_type': 'Operational Improvement', 'emotion': 'worry', 'tone': 'polite', 'urgency_flag': 'No', 'impact_level': 'High', 'responsible_party': 'management', 'action_flag': 'Yes'}\n"
     ]
    },
    {
     "name": "stderr",
     "output_type": "stream",
     "text": [
      "🔍 Gemini Analysis:  77%|███████▋  | 385/500 [1:54:49<41:02, 21.41s/row]"
     ]
    },
    {
     "name": "stdout",
     "output_type": "stream",
     "text": [
      "✅ Success with key AIzaS: {'final_sentiment': 'Neutral', 'sarcasm': 'No', 'suggestion': 'No', 'suggestion_text': 'None', 'suggestion_type': 'None', 'emotion': 'confusion', 'tone': 'informal', 'urgency_flag': 'No', 'impact_level': 'Medium', 'responsible_party': 'None', 'action_flag': 'Yes'}\n"
     ]
    },
    {
     "name": "stderr",
     "output_type": "stream",
     "text": [
      "🔍 Gemini Analysis:  77%|███████▋  | 386/500 [1:55:14<42:47, 22.52s/row]"
     ]
    },
    {
     "name": "stdout",
     "output_type": "stream",
     "text": [
      "✅ Success with key AIzaS: {'final_sentiment': 'Negative', 'sarcasm': 'No', 'suggestion': 'Yes', 'suggestion_text': 'Customer demands compensation for damages and suggests improved customer care, thorough explanation of product details, terms, and conditions by staff before purchase, and accountability for any shortcomings during the process.', 'suggestion_type': 'Complaint', 'emotion': 'anger', 'tone': 'angry', 'urgency_flag': 'Yes', 'impact_level': 'High', 'responsible_party': 'management', 'action_flag': 'Yes'}\n"
     ]
    },
    {
     "name": "stderr",
     "output_type": "stream",
     "text": [
      "🔍 Gemini Analysis:  77%|███████▋  | 387/500 [1:55:34<41:12, 21.88s/row]"
     ]
    },
    {
     "name": "stdout",
     "output_type": "stream",
     "text": [
      "✅ Success with key AIzaS: {'final_sentiment': 'Positive', 'sarcasm': 'No', 'suggestion': 'No', 'suggestion_text': 'None', 'suggestion_type': 'None', 'emotion': ['gratitude', 'satisfaction'], 'tone': ['grateful', 'polite'], 'urgency_flag': 'No', 'impact_level': 'Low', 'responsible_party': 'delivery team', 'action_flag': 'No'}\n"
     ]
    },
    {
     "name": "stderr",
     "output_type": "stream",
     "text": [
      "🔍 Gemini Analysis:  78%|███████▊  | 388/500 [1:55:46<35:27, 18.99s/row]"
     ]
    },
    {
     "name": "stdout",
     "output_type": "stream",
     "text": [
      "✅ Success with key AIzaS: {'final_sentiment': 'Positive', 'sarcasm': 'No', 'suggestion': 'No', 'suggestion_text': 'None', 'suggestion_type': 'None', 'emotion': 'satisfaction', 'tone': 'grateful', 'urgency_flag': 'No', 'impact_level': 'Low', 'responsible_party': 'None', 'action_flag': 'No'}\n"
     ]
    },
    {
     "name": "stderr",
     "output_type": "stream",
     "text": [
      "🔍 Gemini Analysis:  78%|███████▊  | 389/500 [1:55:58<30:57, 16.73s/row]"
     ]
    },
    {
     "name": "stdout",
     "output_type": "stream",
     "text": [
      "✅ Success with key AIzaS: {'final_sentiment': 'Negative', 'sarcasm': 'No', 'suggestion': 'Yes', 'suggestion_text': 'Customer needs to receive the product they paid for and obtain concrete answers from Unaizah branch staff regarding the issue.', 'suggestion_type': 'Complaint', 'emotion': 'frustration', 'tone': 'frustrated', 'urgency_flag': 'Yes', 'impact_level': 'High', 'responsible_party': 'customer service', 'action_flag': 'Yes'}\n"
     ]
    },
    {
     "name": "stderr",
     "output_type": "stream",
     "text": [
      "🔍 Gemini Analysis:  78%|███████▊  | 390/500 [1:56:21<34:17, 18.70s/row]"
     ]
    },
    {
     "name": "stdout",
     "output_type": "stream",
     "text": [
      "✅ Success with key AIzaS: {'final_sentiment': 'Positive', 'sarcasm': 'No', 'suggestion': 'No', 'suggestion_text': 'None', 'suggestion_type': 'None', 'emotion': 'satisfaction', 'tone': 'polite', 'urgency_flag': 'No', 'impact_level': 'Low', 'responsible_party': 'None', 'action_flag': 'No'}\n"
     ]
    },
    {
     "name": "stderr",
     "output_type": "stream",
     "text": [
      "🔍 Gemini Analysis:  78%|███████▊  | 391/500 [1:56:50<39:21, 21.66s/row]"
     ]
    },
    {
     "name": "stdout",
     "output_type": "stream",
     "text": [
      "✅ Success with key AIzaS: {'final_sentiment': 'Positive', 'sarcasm': 'No', 'suggestion': 'No', 'suggestion_text': 'None', 'suggestion_type': 'None', 'emotion': 'satisfaction', 'tone': 'polite', 'urgency_flag': 'No', 'impact_level': 'Low', 'responsible_party': 'customer service', 'action_flag': 'No'}\n"
     ]
    },
    {
     "name": "stderr",
     "output_type": "stream",
     "text": [
      "🔍 Gemini Analysis:  78%|███████▊  | 392/500 [1:57:19<43:23, 24.10s/row]"
     ]
    },
    {
     "name": "stdout",
     "output_type": "stream",
     "text": [
      "✅ Success with key AIzaS: {'final_sentiment': 'Positive', 'sarcasm': 'No', 'suggestion': 'Yes', 'suggestion_text': 'Special section for people with special needs', 'suggestion_type': 'Feature Request', 'emotion': 'satisfaction', 'tone': 'polite', 'urgency_flag': 'No', 'impact_level': 'Medium', 'responsible_party': 'management', 'action_flag': 'Yes'}\n"
     ]
    },
    {
     "name": "stderr",
     "output_type": "stream",
     "text": [
      "🔍 Gemini Analysis:  79%|███████▊  | 393/500 [1:58:03<53:31, 30.02s/row]"
     ]
    },
    {
     "name": "stdout",
     "output_type": "stream",
     "text": [
      "✅ Success with key AIzaS: {'final_sentiment': 'Negative', 'sarcasm': 'No', 'suggestion': 'No', 'suggestion_text': 'None', 'suggestion_type': 'None', 'emotion': 'disappointment', 'tone': 'disappointed', 'urgency_flag': 'No', 'impact_level': 'Low', 'responsible_party': 'None', 'action_flag': 'Yes'}\n"
     ]
    },
    {
     "name": "stderr",
     "output_type": "stream",
     "text": [
      "🔍 Gemini Analysis:  79%|███████▉  | 394/500 [1:58:23<47:31, 26.90s/row]"
     ]
    },
    {
     "name": "stdout",
     "output_type": "stream",
     "text": [
      "✅ Success with key AIzaS: {'final_sentiment': 'Neutral', 'sarcasm': 'No', 'suggestion': 'No', 'suggestion_text': 'None', 'suggestion_type': 'None', 'emotion': 'confusion', 'tone': 'informal', 'urgency_flag': 'No', 'impact_level': 'Low', 'responsible_party': 'None', 'action_flag': 'No'}\n"
     ]
    },
    {
     "name": "stderr",
     "output_type": "stream",
     "text": [
      "🔍 Gemini Analysis:  79%|███████▉  | 395/500 [1:58:47<45:35, 26.06s/row]"
     ]
    },
    {
     "name": "stdout",
     "output_type": "stream",
     "text": [
      "✅ Success with key AIzaS: {'final_sentiment': 'Negative', 'sarcasm': 'No', 'suggestion': 'Yes', 'suggestion_text': 'Prohibit delivery and installation employees from asking for extra fees not included in the invoice.', 'suggestion_type': 'Operational Improvement', 'emotion': 'frustration', 'tone': 'frustrated', 'urgency_flag': 'Yes', 'impact_level': 'High', 'responsible_party': 'delivery team', 'action_flag': 'Yes'}\n"
     ]
    },
    {
     "name": "stderr",
     "output_type": "stream",
     "text": [
      "🔍 Gemini Analysis:  79%|███████▉  | 396/500 [1:59:00<38:34, 22.26s/row]"
     ]
    },
    {
     "name": "stdout",
     "output_type": "stream",
     "text": [
      "✅ Success with key AIzaS: {'final_sentiment': 'Negative', 'sarcasm': 'No', 'suggestion': 'Yes', 'suggestion_text': 'Improve coordination between address confirmation calls and actual delivery times.', 'suggestion_type': 'Operational Improvement', 'emotion': 'frustration', 'tone': 'frustrated', 'urgency_flag': 'No', 'impact_level': 'Medium', 'responsible_party': 'delivery team', 'action_flag': 'Yes'}\n"
     ]
    },
    {
     "name": "stderr",
     "output_type": "stream",
     "text": [
      "🔍 Gemini Analysis:  79%|███████▉  | 397/500 [1:59:16<34:57, 20.36s/row]"
     ]
    },
    {
     "name": "stdout",
     "output_type": "stream",
     "text": [
      "✅ Success with key AIzaS: {'final_sentiment': 'Neutral', 'sarcasm': 'No', 'suggestion': 'Yes', 'suggestion_text': 'Ability to book maintenance schedule through online platform', 'suggestion_type': 'Feature Request', 'emotion': 'confusion', 'tone': 'polite', 'urgency_flag': 'No', 'impact_level': 'Low', 'responsible_party': 'technical support', 'action_flag': 'Yes'}\n"
     ]
    },
    {
     "name": "stderr",
     "output_type": "stream",
     "text": [
      "🔍 Gemini Analysis:  80%|███████▉  | 398/500 [1:59:36<34:00, 20.01s/row]"
     ]
    },
    {
     "name": "stdout",
     "output_type": "stream",
     "text": [
      "✅ Success with key AIzaS: {'final_sentiment': 'Positive', 'sarcasm': 'No', 'suggestion': 'No', 'suggestion_text': 'None', 'suggestion_type': 'None', 'emotion': 'satisfaction', 'tone': 'polite', 'urgency_flag': 'No', 'impact_level': 'Low', 'responsible_party': 'None', 'action_flag': 'No'}\n"
     ]
    },
    {
     "name": "stderr",
     "output_type": "stream",
     "text": [
      "🔍 Gemini Analysis:  80%|███████▉  | 399/500 [1:59:48<29:45, 17.68s/row]"
     ]
    },
    {
     "name": "stdout",
     "output_type": "stream",
     "text": [
      "✅ Success with key AIzaS: {'final_sentiment': 'Negative', 'sarcasm': 'No', 'suggestion': 'Yes', 'suggestion_text': 'Suggests training for cashier on how to deal with customers.', 'suggestion_type': 'Operational Improvement', 'emotion': 'anger', 'tone': 'angry', 'urgency_flag': 'Yes', 'impact_level': 'High', 'responsible_party': 'management', 'action_flag': 'Yes'}\n"
     ]
    },
    {
     "name": "stderr",
     "output_type": "stream",
     "text": [
      "🔍 Gemini Analysis:  80%|████████  | 400/500 [2:00:01<27:27, 16.47s/row]"
     ]
    },
    {
     "name": "stdout",
     "output_type": "stream",
     "text": [
      "✅ Success with key AIzaS: {'final_sentiment': 'Positive', 'sarcasm': 'No', 'suggestion': 'No', 'suggestion_text': 'None', 'suggestion_type': 'None', 'emotion': 'gratitude', 'tone': 'grateful', 'urgency_flag': 'No', 'impact_level': 'Low', 'responsible_party': 'None', 'action_flag': 'No'}\n"
     ]
    },
    {
     "name": "stderr",
     "output_type": "stream",
     "text": [
      "🔍 Gemini Analysis:  80%|████████  | 401/500 [2:00:13<24:48, 15.04s/row]"
     ]
    },
    {
     "name": "stdout",
     "output_type": "stream",
     "text": [
      "✅ Success with key AIzaS: {'final_sentiment': 'Negative', 'sarcasm': 'No', 'suggestion': 'No', 'suggestion_text': 'None', 'suggestion_type': 'None', 'emotion': 'frustration', 'tone': 'frustrated', 'urgency_flag': 'Yes', 'impact_level': 'High', 'responsible_party': 'management', 'action_flag': 'Yes'}\n"
     ]
    },
    {
     "name": "stderr",
     "output_type": "stream",
     "text": [
      "🔍 Gemini Analysis:  80%|████████  | 402/500 [2:00:42<31:33, 19.32s/row]"
     ]
    },
    {
     "name": "stdout",
     "output_type": "stream",
     "text": [
      "✅ Success with key AIzaS: {'final_sentiment': 'Positive', 'sarcasm': 'No', 'suggestion': 'No', 'suggestion_text': 'None', 'suggestion_type': 'None', 'emotion': 'satisfaction', 'tone': 'enthusiastic', 'urgency_flag': 'No', 'impact_level': 'High', 'responsible_party': 'sales', 'action_flag': 'No'}\n"
     ]
    },
    {
     "name": "stderr",
     "output_type": "stream",
     "text": [
      "🔍 Gemini Analysis:  81%|████████  | 403/500 [2:00:55<27:48, 17.20s/row]"
     ]
    },
    {
     "name": "stdout",
     "output_type": "stream",
     "text": [
      "✅ Success with key AIzaS: {'final_sentiment': 'Positive', 'sarcasm': 'No', 'suggestion': 'No', 'suggestion_text': 'None', 'suggestion_type': 'None', 'emotion': 'satisfaction', 'tone': 'enthusiastic', 'urgency_flag': 'No', 'impact_level': 'Low', 'responsible_party': 'None', 'action_flag': 'No'}\n"
     ]
    },
    {
     "name": "stderr",
     "output_type": "stream",
     "text": [
      "🔍 Gemini Analysis:  81%|████████  | 404/500 [2:01:08<25:30, 15.95s/row]"
     ]
    },
    {
     "name": "stdout",
     "output_type": "stream",
     "text": [
      "✅ Success with key AIzaS: {'final_sentiment': 'Neutral', 'sarcasm': 'No', 'suggestion': 'No', 'suggestion_text': 'None', 'suggestion_type': 'None', 'emotion': 'satisfaction', 'tone': 'informal', 'urgency_flag': 'No', 'impact_level': 'Low', 'responsible_party': 'sales', 'action_flag': 'No'}\n"
     ]
    },
    {
     "name": "stderr",
     "output_type": "stream",
     "text": [
      "🔍 Gemini Analysis:  81%|████████  | 405/500 [2:01:54<39:26, 24.91s/row]"
     ]
    },
    {
     "name": "stdout",
     "output_type": "stream",
     "text": [
      "✅ Success with key AIzaS: {'final_sentiment': 'Neutral', 'sarcasm': 'No', 'suggestion': 'Yes', 'suggestion_text': 'Request for more detailed explanation of product ingredients when shopping online.', 'suggestion_type': 'Feature Request', 'emotion': 'confusion', 'tone': 'polite', 'urgency_flag': 'No', 'impact_level': 'Low', 'responsible_party': 'management', 'action_flag': 'Yes'}\n"
     ]
    },
    {
     "name": "stderr",
     "output_type": "stream",
     "text": [
      "🔍 Gemini Analysis:  81%|████████  | 406/500 [2:02:11<35:40, 22.77s/row]"
     ]
    },
    {
     "name": "stdout",
     "output_type": "stream",
     "text": [
      "✅ Success with key AIzaS: {'final_sentiment': 'Negative', 'sarcasm': 'No', 'suggestion': 'No', 'suggestion_text': 'None', 'suggestion_type': 'None', 'emotion': 'disappointment', 'tone': 'disappointed', 'urgency_flag': 'No', 'impact_level': 'Medium', 'responsible_party': 'delivery team', 'action_flag': 'Yes'}\n"
     ]
    },
    {
     "name": "stderr",
     "output_type": "stream",
     "text": [
      "🔍 Gemini Analysis:  81%|████████▏ | 407/500 [2:02:30<33:24, 21.56s/row]"
     ]
    },
    {
     "name": "stdout",
     "output_type": "stream",
     "text": [
      "✅ Success with key AIzaS: {'final_sentiment': 'Negative', 'sarcasm': 'No', 'suggestion': 'Yes', 'suggestion_text': 'Delivery staff should have basic knowledge about the product they are delivering, including its value and proper handling.', 'suggestion_type': 'Operational Improvement', 'emotion': 'disappointment', 'tone': 'disappointed', 'urgency_flag': 'Yes', 'impact_level': 'High', 'responsible_party': 'delivery team', 'action_flag': 'Yes'}\n"
     ]
    },
    {
     "name": "stderr",
     "output_type": "stream",
     "text": [
      "🔍 Gemini Analysis:  82%|████████▏ | 408/500 [2:02:45<29:47, 19.43s/row]"
     ]
    },
    {
     "name": "stdout",
     "output_type": "stream",
     "text": [
      "✅ Success with key AIzaS: {'final_sentiment': 'Positive', 'sarcasm': 'No', 'suggestion': 'No', 'suggestion_text': 'None', 'suggestion_type': 'None', 'emotion': 'gratitude', 'tone': 'grateful', 'urgency_flag': 'No', 'impact_level': 'Low', 'responsible_party': 'delivery team', 'action_flag': 'No'}\n"
     ]
    },
    {
     "name": "stderr",
     "output_type": "stream",
     "text": [
      "🔍 Gemini Analysis:  82%|████████▏ | 409/500 [2:03:07<30:44, 20.26s/row]"
     ]
    },
    {
     "name": "stdout",
     "output_type": "stream",
     "text": [
      "✅ Success with key AIzaS: {'final_sentiment': 'Positive', 'sarcasm': 'No', 'suggestion': 'No', 'suggestion_text': 'None', 'suggestion_type': 'None', 'emotion': 'gratitude', 'tone': 'grateful', 'urgency_flag': 'No', 'impact_level': 'Low', 'responsible_party': 'None', 'action_flag': 'No'}\n"
     ]
    },
    {
     "name": "stderr",
     "output_type": "stream",
     "text": [
      "🔍 Gemini Analysis:  82%|████████▏ | 410/500 [2:03:17<25:49, 17.22s/row]"
     ]
    },
    {
     "name": "stdout",
     "output_type": "stream",
     "text": [
      "✅ Success with key AIzaS: {'final_sentiment': 'Positive', 'sarcasm': 'No', 'suggestion': 'No', 'suggestion_text': 'None', 'suggestion_type': 'None', 'emotion': 'gratitude', 'tone': 'grateful', 'urgency_flag': 'No', 'impact_level': 'Low', 'responsible_party': 'None', 'action_flag': 'No'}\n"
     ]
    },
    {
     "name": "stderr",
     "output_type": "stream",
     "text": [
      "🔍 Gemini Analysis:  82%|████████▏ | 411/500 [2:03:34<25:40, 17.31s/row]"
     ]
    },
    {
     "name": "stdout",
     "output_type": "stream",
     "text": [
      "✅ Success with key AIzaS: {'final_sentiment': 'Positive', 'sarcasm': 'No', 'suggestion': 'Yes', 'suggestion_text': 'User wants to be able to choose the delivery/service day themselves.', 'suggestion_type': 'Feature Request', 'emotion': 'disappointment', 'tone': 'polite', 'urgency_flag': 'No', 'impact_level': 'Low', 'responsible_party': 'delivery team', 'action_flag': 'Yes'}\n"
     ]
    },
    {
     "name": "stderr",
     "output_type": "stream",
     "text": [
      "🔍 Gemini Analysis:  82%|████████▏ | 412/500 [2:03:59<28:37, 19.52s/row]"
     ]
    },
    {
     "name": "stdout",
     "output_type": "stream",
     "text": [
      "✅ Success with key AIzaS: {'final_sentiment': 'Positive', 'sarcasm': 'No', 'suggestion': 'No', 'suggestion_text': 'None', 'suggestion_type': 'None', 'emotion': 'satisfaction', 'tone': 'informal', 'urgency_flag': 'No', 'impact_level': 'Low', 'responsible_party': 'None', 'action_flag': 'No'}\n"
     ]
    },
    {
     "name": "stderr",
     "output_type": "stream",
     "text": [
      "🔍 Gemini Analysis:  83%|████████▎ | 413/500 [2:04:23<30:20, 20.92s/row]"
     ]
    },
    {
     "name": "stdout",
     "output_type": "stream",
     "text": [
      "✅ Success with key AIzaS: {'final_sentiment': 'Positive', 'sarcasm': 'No', 'suggestion': 'No', 'suggestion_text': 'None', 'suggestion_type': 'None', 'emotion': 'satisfaction', 'tone': 'informal', 'urgency_flag': 'No', 'impact_level': 'Low', 'responsible_party': 'None', 'action_flag': 'No'}\n"
     ]
    },
    {
     "name": "stderr",
     "output_type": "stream",
     "text": [
      "🔍 Gemini Analysis:  83%|████████▎ | 414/500 [2:04:42<28:51, 20.13s/row]"
     ]
    },
    {
     "name": "stdout",
     "output_type": "stream",
     "text": [
      "✅ Success with key AIzaS: {'final_sentiment': 'Negative', 'sarcasm': 'No', 'suggestion': 'No', 'suggestion_text': 'None', 'suggestion_type': 'None', 'emotion': 'frustration', 'tone': 'frustrated', 'urgency_flag': 'Yes', 'impact_level': 'High', 'responsible_party': 'delivery team', 'action_flag': 'Yes'}\n"
     ]
    },
    {
     "name": "stderr",
     "output_type": "stream",
     "text": [
      "🔍 Gemini Analysis:  83%|████████▎ | 415/500 [2:04:53<24:41, 17.43s/row]"
     ]
    },
    {
     "name": "stdout",
     "output_type": "stream",
     "text": [
      "✅ Success with key AIzaS: {'final_sentiment': 'Positive', 'sarcasm': 'No', 'suggestion': 'No', 'suggestion_text': 'None', 'suggestion_type': 'None', 'emotion': 'satisfaction', 'tone': 'polite', 'urgency_flag': 'No', 'impact_level': 'Low', 'responsible_party': 'None', 'action_flag': 'No'}\n"
     ]
    },
    {
     "name": "stderr",
     "output_type": "stream",
     "text": [
      "🔍 Gemini Analysis:  83%|████████▎ | 416/500 [2:05:03<21:17, 15.21s/row]"
     ]
    },
    {
     "name": "stdout",
     "output_type": "stream",
     "text": [
      "✅ Success with key AIzaS: {'final_sentiment': 'Negative', 'sarcasm': 'No', 'suggestion': 'Yes', 'suggestion_text': 'Customer suggests reconsidering/changing the policy that requires the delivery employee to receive a code before delivery.', 'suggestion_type': 'Operational Improvement', 'emotion': 'disappointment', 'tone': 'polite', 'urgency_flag': 'No', 'impact_level': 'Medium', 'responsible_party': 'delivery team', 'action_flag': 'Yes'}\n"
     ]
    },
    {
     "name": "stderr",
     "output_type": "stream",
     "text": [
      "🔍 Gemini Analysis:  83%|████████▎ | 417/500 [2:05:16<20:12, 14.61s/row]"
     ]
    },
    {
     "name": "stdout",
     "output_type": "stream",
     "text": [
      "✅ Success with key AIzaS: {'final_sentiment': 'Neutral', 'sarcasm': 'No', 'suggestion': 'No', 'suggestion_text': 'None', 'suggestion_type': 'None', 'emotion': 'confusion', 'tone': 'informal', 'urgency_flag': 'No', 'impact_level': 'Low', 'responsible_party': 'None', 'action_flag': 'No'}\n"
     ]
    },
    {
     "name": "stderr",
     "output_type": "stream",
     "text": [
      "🔍 Gemini Analysis:  84%|████████▎ | 418/500 [2:05:50<27:50, 20.37s/row]"
     ]
    },
    {
     "name": "stdout",
     "output_type": "stream",
     "text": [
      "✅ Success with key AIzaS: {'final_sentiment': 'Positive', 'sarcasm': 'No', 'suggestion': 'No', 'suggestion_text': 'None', 'suggestion_type': 'None', 'emotion': 'gratitude', 'tone': 'grateful', 'urgency_flag': 'No', 'impact_level': 'Low', 'responsible_party': 'None', 'action_flag': 'No'}\n"
     ]
    },
    {
     "name": "stderr",
     "output_type": "stream",
     "text": [
      "🔍 Gemini Analysis:  84%|████████▍ | 419/500 [2:06:01<23:40, 17.54s/row]"
     ]
    },
    {
     "name": "stdout",
     "output_type": "stream",
     "text": [
      "✅ Success with key AIzaS: {'final_sentiment': 'Positive', 'sarcasm': 'No', 'suggestion': 'No', 'suggestion_text': 'None', 'suggestion_type': 'None', 'emotion': 'satisfaction', 'tone': 'enthusiastic', 'urgency_flag': 'No', 'impact_level': 'Low', 'responsible_party': 'None', 'action_flag': 'No'}\n"
     ]
    },
    {
     "name": "stderr",
     "output_type": "stream",
     "text": [
      "🔍 Gemini Analysis:  84%|████████▍ | 420/500 [2:06:14<21:48, 16.36s/row]"
     ]
    },
    {
     "name": "stdout",
     "output_type": "stream",
     "text": [
      "✅ Success with key AIzaS: {'final_sentiment': 'Positive', 'sarcasm': 'No', 'suggestion': 'No', 'suggestion_text': 'None', 'suggestion_type': 'None', 'emotion': 'satisfaction', 'tone': 'grateful', 'urgency_flag': 'No', 'impact_level': 'Low', 'responsible_party': 'customer service', 'action_flag': 'No'}\n"
     ]
    },
    {
     "name": "stderr",
     "output_type": "stream",
     "text": [
      "🔍 Gemini Analysis:  84%|████████▍ | 421/500 [2:06:32<21:57, 16.68s/row]"
     ]
    },
    {
     "name": "stdout",
     "output_type": "stream",
     "text": [
      "✅ Success with key AIzaS: {'final_sentiment': 'Positive', 'sarcasm': 'No', 'suggestion': 'No', 'suggestion_text': 'None', 'suggestion_type': 'None', 'emotion': 'gratitude', 'tone': 'grateful', 'urgency_flag': 'No', 'impact_level': 'Low', 'responsible_party': 'None', 'action_flag': 'No'}\n"
     ]
    },
    {
     "name": "stderr",
     "output_type": "stream",
     "text": [
      "🔍 Gemini Analysis:  84%|████████▍ | 422/500 [2:06:42<19:17, 14.85s/row]"
     ]
    },
    {
     "name": "stdout",
     "output_type": "stream",
     "text": [
      "✅ Success with key AIzaS: {'final_sentiment': 'Positive', 'sarcasm': 'No', 'suggestion': 'No', 'suggestion_text': 'None', 'suggestion_type': 'None', 'emotion': 'gratitude', 'tone': 'grateful', 'urgency_flag': 'No', 'impact_level': 'Low', 'responsible_party': 'None', 'action_flag': 'No'}\n"
     ]
    },
    {
     "name": "stderr",
     "output_type": "stream",
     "text": [
      "🔍 Gemini Analysis:  85%|████████▍ | 423/500 [2:06:57<19:06, 14.89s/row]"
     ]
    },
    {
     "name": "stdout",
     "output_type": "stream",
     "text": [
      "✅ Success with key AIzaS: {'final_sentiment': 'Positive', 'sarcasm': 'No', 'suggestion': 'No', 'suggestion_text': 'None', 'suggestion_type': 'None', 'emotion': 'satisfaction', 'tone': 'enthusiastic', 'urgency_flag': 'No', 'impact_level': 'Low', 'responsible_party': 'None', 'action_flag': 'No'}\n"
     ]
    },
    {
     "name": "stderr",
     "output_type": "stream",
     "text": [
      "🔍 Gemini Analysis:  85%|████████▍ | 424/500 [2:07:17<20:34, 16.24s/row]"
     ]
    },
    {
     "name": "stdout",
     "output_type": "stream",
     "text": [
      "✅ Success with key AIzaS: {'final_sentiment': 'Negative', 'sarcasm': 'No', 'suggestion': 'Yes', 'suggestion_text': 'Suggests informing customers which courier company will deliver their order.', 'suggestion_type': 'Operational Improvement', 'emotion': 'frustration', 'tone': 'frustrated', 'urgency_flag': 'No', 'impact_level': 'Low', 'responsible_party': 'delivery team', 'action_flag': 'Yes'}\n"
     ]
    },
    {
     "name": "stderr",
     "output_type": "stream",
     "text": [
      "🔍 Gemini Analysis:  85%|████████▌ | 425/500 [2:07:27<18:12, 14.57s/row]"
     ]
    },
    {
     "name": "stdout",
     "output_type": "stream",
     "text": [
      "✅ Success with key AIzaS: {'final_sentiment': 'Positive', 'sarcasm': 'No', 'suggestion': 'No', 'suggestion_text': 'None', 'suggestion_type': 'None', 'emotion': 'satisfaction', 'tone': 'polite', 'urgency_flag': 'No', 'impact_level': 'Low', 'responsible_party': 'None', 'action_flag': 'No'}\n"
     ]
    },
    {
     "name": "stderr",
     "output_type": "stream",
     "text": [
      "🔍 Gemini Analysis:  85%|████████▌ | 426/500 [2:07:38<16:27, 13.35s/row]"
     ]
    },
    {
     "name": "stdout",
     "output_type": "stream",
     "text": [
      "✅ Success with key AIzaS: {'final_sentiment': 'Negative', 'sarcasm': 'No', 'suggestion': 'Yes', 'suggestion_text': 'Stop sending dirty/filthy replacements to customers', 'suggestion_type': 'Complaint', 'emotion': 'frustration', 'tone': 'frustrated', 'urgency_flag': 'Yes', 'impact_level': 'High', 'responsible_party': 'delivery team', 'action_flag': 'Yes'}\n"
     ]
    },
    {
     "name": "stderr",
     "output_type": "stream",
     "text": [
      "🔍 Gemini Analysis:  85%|████████▌ | 427/500 [2:07:49<15:31, 12.76s/row]"
     ]
    },
    {
     "name": "stdout",
     "output_type": "stream",
     "text": [
      "✅ Success with key AIzaS: {'final_sentiment': 'Positive', 'sarcasm': 'No', 'suggestion': 'No', 'suggestion_text': 'None', 'suggestion_type': 'None', 'emotion': 'gratitude', 'tone': 'grateful', 'urgency_flag': 'No', 'impact_level': 'Low', 'responsible_party': 'None', 'action_flag': 'No'}\n"
     ]
    },
    {
     "name": "stderr",
     "output_type": "stream",
     "text": [
      "🔍 Gemini Analysis:  86%|████████▌ | 428/500 [2:08:03<15:38, 13.03s/row]"
     ]
    },
    {
     "name": "stdout",
     "output_type": "stream",
     "text": [
      "✅ Success with key AIzaS: {'final_sentiment': 'Neutral', 'sarcasm': 'No', 'suggestion': 'No', 'suggestion_text': 'None', 'suggestion_type': 'None', 'emotion': 'confusion', 'tone': 'informal', 'urgency_flag': 'No', 'impact_level': 'Low', 'responsible_party': 'None', 'action_flag': 'Yes'}\n"
     ]
    },
    {
     "name": "stderr",
     "output_type": "stream",
     "text": [
      "🔍 Gemini Analysis:  86%|████████▌ | 429/500 [2:08:24<18:14, 15.42s/row]"
     ]
    },
    {
     "name": "stdout",
     "output_type": "stream",
     "text": [
      "⚠️ API Error with key AIzaS...: 429 Resource has been exhausted (e.g. check quota).\n",
      "⚠️ API Error with key AIzaS...: 429 Resource has been exhausted (e.g. check quota).\n",
      "⚠️ API Error with key AIzaS...: 429 Resource has been exhausted (e.g. check quota).\n",
      "⚠️ API Error with key AIzaS...: 429 Resource has been exhausted (e.g. check quota).\n",
      "✅ Success with key AIzaS: {'final_sentiment': 'Positive', 'sarcasm': 'No', 'suggestion': 'No', 'suggestion_text': 'None', 'suggestion_type': 'None', 'emotion': 'satisfaction', 'tone': 'enthusiastic', 'urgency_flag': 'No', 'impact_level': 'Low', 'responsible_party': 'None', 'action_flag': 'No'}\n"
     ]
    },
    {
     "name": "stderr",
     "output_type": "stream",
     "text": [
      "🔍 Gemini Analysis:  86%|████████▌ | 430/500 [2:08:44<19:41, 16.88s/row]"
     ]
    },
    {
     "name": "stdout",
     "output_type": "stream",
     "text": [
      "⚠️ API Error with key AIzaS...: 429 Resource has been exhausted (e.g. check quota).\n",
      "⚠️ API Error with key AIzaS...: 429 Resource has been exhausted (e.g. check quota).\n",
      "⚠️ API Error with key AIzaS...: 429 Resource has been exhausted (e.g. check quota).\n",
      "⚠️ API Error with key AIzaS...: 429 Resource has been exhausted (e.g. check quota).\n",
      "✅ Success with key AIzaS: {'final_sentiment': 'Neutral', 'sarcasm': 'No', 'suggestion': 'No', 'suggestion_text': 'None', 'suggestion_type': 'None', 'emotion': 'satisfaction', 'tone': 'informal', 'urgency_flag': 'No', 'impact_level': 'Low', 'responsible_party': 'customer service', 'action_flag': 'No'}\n"
     ]
    },
    {
     "name": "stderr",
     "output_type": "stream",
     "text": [
      "🔍 Gemini Analysis:  86%|████████▌ | 431/500 [2:09:40<32:58, 28.68s/row]"
     ]
    },
    {
     "name": "stdout",
     "output_type": "stream",
     "text": [
      "✅ Success with key AIzaS: {'final_sentiment': 'Positive', 'sarcasm': 'No', 'suggestion': 'No', 'suggestion_text': 'None', 'suggestion_type': 'None', 'emotion': 'gratitude', 'tone': 'grateful', 'urgency_flag': 'No', 'impact_level': 'Low', 'responsible_party': 'None', 'action_flag': 'No'}\n"
     ]
    },
    {
     "name": "stderr",
     "output_type": "stream",
     "text": [
      "🔍 Gemini Analysis:  86%|████████▋ | 432/500 [2:09:51<26:27, 23.35s/row]"
     ]
    },
    {
     "name": "stdout",
     "output_type": "stream",
     "text": [
      "✅ Success with key AIzaS: {'final_sentiment': 'Negative', 'sarcasm': 'No', 'suggestion': 'No', 'suggestion_text': 'None', 'suggestion_type': 'None', 'emotion': 'frustration', 'tone': 'frustrated', 'urgency_flag': 'No', 'impact_level': 'Medium', 'responsible_party': 'sales', 'action_flag': 'Yes'}\n"
     ]
    },
    {
     "name": "stderr",
     "output_type": "stream",
     "text": [
      "🔍 Gemini Analysis:  87%|████████▋ | 433/500 [2:10:40<34:27, 30.86s/row]"
     ]
    },
    {
     "name": "stdout",
     "output_type": "stream",
     "text": [
      "✅ Success with key AIzaS: {'final_sentiment': 'Negative', 'sarcasm': 'No', 'suggestion': 'No', 'suggestion_text': 'None', 'suggestion_type': 'None', 'emotion': 'disappointment', 'tone': 'disappointed', 'urgency_flag': 'No', 'impact_level': 'Low', 'responsible_party': 'None', 'action_flag': 'Yes'}\n"
     ]
    },
    {
     "name": "stderr",
     "output_type": "stream",
     "text": [
      "🔍 Gemini Analysis:  87%|████████▋ | 434/500 [2:10:59<30:04, 27.33s/row]"
     ]
    },
    {
     "name": "stdout",
     "output_type": "stream",
     "text": [
      "✅ Success with key AIzaS: {'final_sentiment': 'Negative', 'sarcasm': 'No', 'suggestion': 'No', 'suggestion_text': 'None', 'suggestion_type': 'None', 'emotion': 'frustration', 'tone': 'frustrated', 'urgency_flag': 'Yes', 'impact_level': 'High', 'responsible_party': 'delivery team', 'action_flag': 'Yes'}\n"
     ]
    },
    {
     "name": "stderr",
     "output_type": "stream",
     "text": [
      "🔍 Gemini Analysis:  87%|████████▋ | 435/500 [2:11:10<24:15, 22.39s/row]"
     ]
    },
    {
     "name": "stdout",
     "output_type": "stream",
     "text": [
      "✅ Success with key AIzaS: {'final_sentiment': 'Positive', 'sarcasm': 'No', 'suggestion': 'Yes', 'suggestion_text': 'Add an interactive board after the entrance for quick overview of exhibition items and prices.', 'suggestion_type': 'Operational Improvement', 'emotion': 'satisfaction', 'tone': 'polite', 'urgency_flag': 'No', 'impact_level': 'Low', 'responsible_party': 'management', 'action_flag': 'Yes'}\n"
     ]
    },
    {
     "name": "stderr",
     "output_type": "stream",
     "text": [
      "🔍 Gemini Analysis:  87%|████████▋ | 436/500 [2:11:25<21:31, 20.18s/row]"
     ]
    },
    {
     "name": "stdout",
     "output_type": "stream",
     "text": [
      "✅ Success with key AIzaS: {'final_sentiment': 'Negative', 'sarcasm': 'No', 'suggestion': 'Yes', 'suggestion_text': 'Unify device control system and streamline the multi-step payment process.', 'suggestion_type': 'Operational Improvement', 'emotion': 'frustration', 'tone': 'frustrated', 'urgency_flag': 'Yes', 'impact_level': 'High', 'responsible_party': 'None', 'action_flag': 'Yes'}\n"
     ]
    },
    {
     "name": "stderr",
     "output_type": "stream",
     "text": [
      "🔍 Gemini Analysis:  87%|████████▋ | 437/500 [2:11:42<20:24, 19.44s/row]"
     ]
    },
    {
     "name": "stdout",
     "output_type": "stream",
     "text": [
      "✅ Success with key AIzaS: {'final_sentiment': 'Positive', 'sarcasm': 'No', 'suggestion': 'No', 'suggestion_text': 'None', 'suggestion_type': 'None', 'emotion': 'gratitude', 'tone': 'grateful', 'urgency_flag': 'No', 'impact_level': 'Low', 'responsible_party': 'None', 'action_flag': 'No'}\n"
     ]
    },
    {
     "name": "stderr",
     "output_type": "stream",
     "text": [
      "🔍 Gemini Analysis:  88%|████████▊ | 438/500 [2:11:53<17:18, 16.74s/row]"
     ]
    },
    {
     "name": "stdout",
     "output_type": "stream",
     "text": [
      "✅ Success with key AIzaS: {'final_sentiment': 'Negative', 'sarcasm': 'No', 'suggestion': 'Yes', 'suggestion_text': 'Improve clarity in mentioning card offers', 'suggestion_type': 'Operational Improvement', 'emotion': 'disappointment', 'tone': 'disappointed', 'urgency_flag': 'No', 'impact_level': 'Medium', 'responsible_party': 'management', 'action_flag': 'Yes'}\n"
     ]
    },
    {
     "name": "stderr",
     "output_type": "stream",
     "text": [
      "🔍 Gemini Analysis:  88%|████████▊ | 439/500 [2:12:07<16:16, 16.01s/row]"
     ]
    },
    {
     "name": "stdout",
     "output_type": "stream",
     "text": [
      "✅ Success with key AIzaS: {'final_sentiment': 'Negative', 'sarcasm': 'No', 'suggestion': 'Yes', 'suggestion_text': 'Improve call response time and reduce waiting period', 'suggestion_type': 'Operational Improvement', 'emotion': 'frustration', 'tone': 'frustrated', 'urgency_flag': 'Yes', 'impact_level': 'High', 'responsible_party': 'customer service', 'action_flag': 'Yes'}\n"
     ]
    },
    {
     "name": "stderr",
     "output_type": "stream",
     "text": [
      "🔍 Gemini Analysis:  88%|████████▊ | 440/500 [2:12:22<15:40, 15.68s/row]"
     ]
    },
    {
     "name": "stdout",
     "output_type": "stream",
     "text": [
      "✅ Success with key AIzaS: {'final_sentiment': 'Neutral', 'sarcasm': 'No', 'suggestion': 'No', 'suggestion_text': 'None', 'suggestion_type': 'None', 'emotion': 'confusion', 'tone': 'informal', 'urgency_flag': 'No', 'impact_level': 'Low', 'responsible_party': 'None', 'action_flag': 'No'}\n"
     ]
    },
    {
     "name": "stderr",
     "output_type": "stream",
     "text": [
      "🔍 Gemini Analysis:  88%|████████▊ | 441/500 [2:12:57<21:09, 21.51s/row]"
     ]
    },
    {
     "name": "stdout",
     "output_type": "stream",
     "text": [
      "✅ Success with key AIzaS: {'final_sentiment': 'Negative', 'sarcasm': 'No', 'suggestion': 'Yes', 'suggestion_text': 'Customer should be able to choose morning or evening delivery time to prevent packages from being left outside for extended periods.', 'suggestion_type': 'Operational Improvement', 'emotion': 'disappointment', 'tone': 'disappointed', 'urgency_flag': 'Yes', 'impact_level': 'High', 'responsible_party': 'delivery team', 'action_flag': 'Yes'}\n"
     ]
    },
    {
     "name": "stderr",
     "output_type": "stream",
     "text": [
      "🔍 Gemini Analysis:  88%|████████▊ | 442/500 [2:13:09<18:02, 18.67s/row]"
     ]
    },
    {
     "name": "stdout",
     "output_type": "stream",
     "text": [
      "✅ Success with key AIzaS: {'final_sentiment': 'Neutral', 'sarcasm': 'No', 'suggestion': 'Yes', 'suggestion_text': 'Request to add Al-Hanakiya Governorate to home delivery options.', 'suggestion_type': 'Feature Request', 'emotion': 'satisfaction', 'tone': 'polite', 'urgency_flag': 'No', 'impact_level': 'High', 'responsible_party': 'management', 'action_flag': 'Yes'}\n"
     ]
    },
    {
     "name": "stderr",
     "output_type": "stream",
     "text": [
      "🔍 Gemini Analysis:  89%|████████▊ | 443/500 [2:13:30<18:21, 19.33s/row]"
     ]
    },
    {
     "name": "stdout",
     "output_type": "stream",
     "text": [
      "✅ Success with key AIzaS: {'final_sentiment': 'Negative', 'sarcasm': 'No', 'suggestion': 'Yes', 'suggestion_text': 'Customer suggests Extra should select reputable AC installation companies rather than unknown labor from small institutions to improve service quality.', 'suggestion_type': 'Operational Improvement', 'emotion': 'frustration', 'tone': 'frustrated', 'urgency_flag': 'Yes', 'impact_level': 'High', 'responsible_party': 'delivery team', 'action_flag': 'Yes'}\n"
     ]
    },
    {
     "name": "stderr",
     "output_type": "stream",
     "text": [
      "🔍 Gemini Analysis:  89%|████████▉ | 444/500 [2:13:47<17:23, 18.63s/row]"
     ]
    },
    {
     "name": "stdout",
     "output_type": "stream",
     "text": [
      "✅ Success with key AIzaS: {'final_sentiment': 'Negative', 'sarcasm': 'No', 'suggestion': 'No', 'suggestion_text': 'None', 'suggestion_type': 'None', 'emotion': 'frustration', 'tone': 'frustrated', 'urgency_flag': 'Yes', 'impact_level': 'High', 'responsible_party': 'delivery team', 'action_flag': 'Yes'}\n"
     ]
    },
    {
     "name": "stderr",
     "output_type": "stream",
     "text": [
      "🔍 Gemini Analysis:  89%|████████▉ | 445/500 [2:13:59<15:17, 16.67s/row]"
     ]
    },
    {
     "name": "stdout",
     "output_type": "stream",
     "text": [
      "✅ Success with key AIzaS: {'final_sentiment': 'Negative', 'sarcasm': 'No', 'suggestion': 'Yes', 'suggestion_text': 'Technicians need to be knowledgeable/understanding.', 'suggestion_type': 'Operational Improvement', 'emotion': 'disappointment', 'tone': 'disappointed', 'urgency_flag': 'No', 'impact_level': 'High', 'responsible_party': 'technical support', 'action_flag': 'Yes'}\n"
     ]
    },
    {
     "name": "stderr",
     "output_type": "stream",
     "text": [
      "🔍 Gemini Analysis:  89%|████████▉ | 446/500 [2:14:11<13:40, 15.19s/row]"
     ]
    },
    {
     "name": "stdout",
     "output_type": "stream",
     "text": [
      "✅ Success with key AIzaS: {'final_sentiment': 'Positive', 'sarcasm': 'No', 'suggestion': 'No', 'suggestion_text': 'None', 'suggestion_type': 'None', 'emotion': 'gratitude', 'tone': 'grateful', 'urgency_flag': 'No', 'impact_level': 'Low', 'responsible_party': 'sales', 'action_flag': 'No'}\n"
     ]
    },
    {
     "name": "stderr",
     "output_type": "stream",
     "text": [
      "🔍 Gemini Analysis:  89%|████████▉ | 447/500 [2:14:21<12:08, 13.74s/row]"
     ]
    },
    {
     "name": "stdout",
     "output_type": "stream",
     "text": [
      "✅ Success with key AIzaS: {'final_sentiment': 'Neutral', 'sarcasm': 'No', 'suggestion': 'No', 'suggestion_text': 'None', 'suggestion_type': 'None', 'emotion': 'satisfaction', 'tone': 'informal', 'urgency_flag': 'No', 'impact_level': 'Low', 'responsible_party': 'None', 'action_flag': 'No'}\n"
     ]
    },
    {
     "name": "stderr",
     "output_type": "stream",
     "text": [
      "🔍 Gemini Analysis:  90%|████████▉ | 448/500 [2:14:52<16:17, 18.80s/row]"
     ]
    },
    {
     "name": "stdout",
     "output_type": "stream",
     "text": [
      "✅ Success with key AIzaS: {'final_sentiment': 'Positive', 'sarcasm': 'No', 'suggestion': 'No', 'suggestion_text': 'None', 'suggestion_type': 'None', 'emotion': 'satisfaction', 'tone': 'polite', 'urgency_flag': 'No', 'impact_level': 'Low', 'responsible_party': 'None', 'action_flag': 'No'}\n"
     ]
    },
    {
     "name": "stderr",
     "output_type": "stream",
     "text": [
      "🔍 Gemini Analysis:  90%|████████▉ | 449/500 [2:15:02<13:45, 16.18s/row]"
     ]
    },
    {
     "name": "stdout",
     "output_type": "stream",
     "text": [
      "✅ Success with key AIzaS: {'final_sentiment': 'Positive', 'sarcasm': 'No', 'suggestion': 'No', 'suggestion_text': 'None', 'suggestion_type': 'None', 'emotion': 'satisfaction', 'tone': 'polite', 'urgency_flag': 'No', 'impact_level': 'Low', 'responsible_party': 'None', 'action_flag': 'No'}\n"
     ]
    },
    {
     "name": "stderr",
     "output_type": "stream",
     "text": [
      "🔍 Gemini Analysis:  90%|█████████ | 450/500 [2:15:15<12:46, 15.33s/row]"
     ]
    },
    {
     "name": "stdout",
     "output_type": "stream",
     "text": [
      "✅ Success with key AIzaS: {'final_sentiment': 'Positive', 'sarcasm': 'No', 'suggestion': 'Yes', 'suggestion_text': 'Give the maintenance team a bonus for their excellent work', 'suggestion_type': 'Operational Improvement', 'emotion': 'gratitude', 'tone': 'grateful', 'urgency_flag': 'No', 'impact_level': 'Low', 'responsible_party': 'management', 'action_flag': 'Yes'}\n"
     ]
    },
    {
     "name": "stderr",
     "output_type": "stream",
     "text": [
      "🔍 Gemini Analysis:  90%|█████████ | 451/500 [2:15:30<12:16, 15.04s/row]"
     ]
    },
    {
     "name": "stdout",
     "output_type": "stream",
     "text": [
      "✅ Success with key AIzaS: {'final_sentiment': 'Positive', 'sarcasm': 'No', 'suggestion': 'No', 'suggestion_text': 'None', 'suggestion_type': 'None', 'emotion': 'satisfaction', 'tone': 'enthusiastic', 'urgency_flag': 'No', 'impact_level': 'High', 'responsible_party': 'None', 'action_flag': 'No'}\n"
     ]
    },
    {
     "name": "stderr",
     "output_type": "stream",
     "text": [
      "🔍 Gemini Analysis:  90%|█████████ | 452/500 [2:15:43<11:43, 14.66s/row]"
     ]
    },
    {
     "name": "stdout",
     "output_type": "stream",
     "text": [
      "✅ Success with key AIzaS: {'final_sentiment': 'Negative', 'sarcasm': 'No', 'suggestion': 'No', 'suggestion_text': 'None', 'suggestion_type': 'None', 'emotion': 'disappointment', 'tone': 'disappointed', 'urgency_flag': 'Yes', 'impact_level': 'High', 'responsible_party': 'delivery team', 'action_flag': 'Yes'}\n"
     ]
    },
    {
     "name": "stderr",
     "output_type": "stream",
     "text": [
      "🔍 Gemini Analysis:  91%|█████████ | 453/500 [2:15:54<10:35, 13.52s/row]"
     ]
    },
    {
     "name": "stdout",
     "output_type": "stream",
     "text": [
      "✅ Success with key AIzaS: {'final_sentiment': 'Positive', 'sarcasm': 'No', 'suggestion': 'No', 'suggestion_text': 'None', 'suggestion_type': 'None', 'emotion': 'gratitude', 'tone': 'grateful', 'urgency_flag': 'No', 'impact_level': 'Low', 'responsible_party': 'None', 'action_flag': 'No'}\n"
     ]
    },
    {
     "name": "stderr",
     "output_type": "stream",
     "text": [
      "🔍 Gemini Analysis:  91%|█████████ | 454/500 [2:16:05<09:44, 12.70s/row]"
     ]
    },
    {
     "name": "stdout",
     "output_type": "stream",
     "text": [
      "✅ Success with key AIzaS: {'final_sentiment': 'Negative', 'sarcasm': 'No', 'suggestion': 'No', 'suggestion_text': 'None', 'suggestion_type': 'None', 'emotion': 'disappointment', 'tone': 'disappointed', 'urgency_flag': 'Yes', 'impact_level': 'High', 'responsible_party': 'delivery team', 'action_flag': 'Yes'}\n"
     ]
    },
    {
     "name": "stderr",
     "output_type": "stream",
     "text": [
      "🔍 Gemini Analysis:  91%|█████████ | 455/500 [2:16:17<09:19, 12.44s/row]"
     ]
    },
    {
     "name": "stdout",
     "output_type": "stream",
     "text": [
      "✅ Success with key AIzaS: {'final_sentiment': 'Negative', 'sarcasm': 'No', 'suggestion': 'Yes', 'suggestion_text': 'Improvement in repair speed', 'suggestion_type': 'Operational Improvement', 'emotion': 'frustration', 'tone': 'frustrated', 'urgency_flag': 'Yes', 'impact_level': 'High', 'responsible_party': 'technical support', 'action_flag': 'Yes'}\n"
     ]
    },
    {
     "name": "stderr",
     "output_type": "stream",
     "text": [
      "🔍 Gemini Analysis:  91%|█████████ | 456/500 [2:16:34<10:07, 13.80s/row]"
     ]
    },
    {
     "name": "stdout",
     "output_type": "stream",
     "text": [
      "✅ Success with key AIzaS: {'final_sentiment': 'Positive', 'sarcasm': 'No', 'suggestion': 'Yes', 'suggestion_text': 'Customer suggests implementing a loyalty points system that can be redeemed.', 'suggestion_type': 'Feature Request', 'emotion': 'satisfaction', 'tone': 'polite', 'urgency_flag': 'No', 'impact_level': 'Low', 'responsible_party': 'management', 'action_flag': 'Yes'}\n"
     ]
    },
    {
     "name": "stderr",
     "output_type": "stream",
     "text": [
      "🔍 Gemini Analysis:  91%|█████████▏| 457/500 [2:16:51<10:36, 14.81s/row]"
     ]
    },
    {
     "name": "stdout",
     "output_type": "stream",
     "text": [
      "✅ Success with key AIzaS: {'final_sentiment': 'Negative', 'sarcasm': 'No', 'suggestion': 'Yes', 'suggestion_text': 'More attention regarding prices', 'suggestion_type': 'Complaint', 'emotion': 'disappointment', 'tone': 'informal', 'urgency_flag': 'No', 'impact_level': 'High', 'responsible_party': 'sales', 'action_flag': 'Yes'}\n"
     ]
    },
    {
     "name": "stderr",
     "output_type": "stream",
     "text": [
      "🔍 Gemini Analysis:  92%|█████████▏| 458/500 [2:17:06<10:19, 14.74s/row]"
     ]
    },
    {
     "name": "stdout",
     "output_type": "stream",
     "text": [
      "✅ Success with key AIzaS: {'final_sentiment': 'Positive', 'sarcasm': 'No', 'suggestion': 'No', 'suggestion_text': 'None', 'suggestion_type': 'None', 'emotion': 'gratitude', 'tone': 'grateful', 'urgency_flag': 'No', 'impact_level': 'Low', 'responsible_party': 'None', 'action_flag': 'No'}\n"
     ]
    },
    {
     "name": "stderr",
     "output_type": "stream",
     "text": [
      "🔍 Gemini Analysis:  92%|█████████▏| 459/500 [2:17:18<09:40, 14.17s/row]"
     ]
    },
    {
     "name": "stdout",
     "output_type": "stream",
     "text": [
      "✅ Success with key AIzaS: {'final_sentiment': 'Negative', 'sarcasm': 'No', 'suggestion': 'No', 'suggestion_text': 'None', 'suggestion_type': 'None', 'emotion': ['frustration', 'disappointment'], 'tone': ['frustrated', 'disappointed'], 'urgency_flag': 'Yes', 'impact_level': 'High', 'responsible_party': 'customer service', 'action_flag': 'Yes'}\n"
     ]
    },
    {
     "name": "stderr",
     "output_type": "stream",
     "text": [
      "🔍 Gemini Analysis:  92%|█████████▏| 460/500 [2:17:29<08:49, 13.24s/row]"
     ]
    },
    {
     "name": "stdout",
     "output_type": "stream",
     "text": [
      "✅ Success with key AIzaS: {'final_sentiment': 'Positive', 'sarcasm': 'No', 'suggestion': 'No', 'suggestion_text': 'None', 'suggestion_type': 'None', 'emotion': 'gratitude', 'tone': 'grateful', 'urgency_flag': 'No', 'impact_level': 'Low', 'responsible_party': 'None', 'action_flag': 'No'}\n"
     ]
    },
    {
     "name": "stderr",
     "output_type": "stream",
     "text": [
      "🔍 Gemini Analysis:  92%|█████████▏| 461/500 [2:17:40<08:01, 12.35s/row]"
     ]
    },
    {
     "name": "stdout",
     "output_type": "stream",
     "text": [
      "✅ Success with key AIzaS: {'final_sentiment': 'Neutral', 'sarcasm': 'No', 'suggestion': 'No', 'suggestion_text': 'None', 'suggestion_type': 'None', 'emotion': 'satisfaction', 'tone': 'polite', 'urgency_flag': 'No', 'impact_level': 'Low', 'responsible_party': 'None', 'action_flag': 'No'}\n"
     ]
    },
    {
     "name": "stderr",
     "output_type": "stream",
     "text": [
      "🔍 Gemini Analysis:  92%|█████████▏| 462/500 [2:18:07<10:38, 16.82s/row]"
     ]
    },
    {
     "name": "stdout",
     "output_type": "stream",
     "text": [
      "✅ Success with key AIzaS: {'final_sentiment': 'Negative', 'sarcasm': 'Yes', 'suggestion': 'No', 'suggestion_text': 'None', 'suggestion_type': 'None', 'emotion': 'anger', 'tone': 'sarcastic', 'urgency_flag': 'Yes', 'impact_level': 'High', 'responsible_party': 'technical support', 'action_flag': 'Yes'}\n"
     ]
    },
    {
     "name": "stderr",
     "output_type": "stream",
     "text": [
      "🔍 Gemini Analysis:  93%|█████████▎| 463/500 [2:18:34<12:19, 19.98s/row]"
     ]
    },
    {
     "name": "stdout",
     "output_type": "stream",
     "text": [
      "✅ Success with key AIzaS: {'final_sentiment': 'Negative', 'sarcasm': 'No', 'suggestion': 'No', 'suggestion_text': 'None', 'suggestion_type': 'None', 'emotion': 'anger', 'tone': 'angry', 'urgency_flag': 'Yes', 'impact_level': 'High', 'responsible_party': 'technical support', 'action_flag': 'Yes'}\n"
     ]
    },
    {
     "name": "stderr",
     "output_type": "stream",
     "text": [
      "🔍 Gemini Analysis:  93%|█████████▎| 464/500 [2:18:57<12:32, 20.90s/row]"
     ]
    },
    {
     "name": "stdout",
     "output_type": "stream",
     "text": [
      "✅ Success with key AIzaS: {'final_sentiment': 'Neutral', 'sarcasm': 'No', 'suggestion': 'No', 'suggestion_text': 'None', 'suggestion_type': 'None', 'emotion': 'satisfaction', 'tone': 'informal', 'urgency_flag': 'No', 'impact_level': 'Low', 'responsible_party': 'None', 'action_flag': 'No'}\n"
     ]
    },
    {
     "name": "stderr",
     "output_type": "stream",
     "text": [
      "🔍 Gemini Analysis:  93%|█████████▎| 465/500 [2:19:20<12:30, 21.44s/row]"
     ]
    },
    {
     "name": "stdout",
     "output_type": "stream",
     "text": [
      "✅ Success with key AIzaS: {'final_sentiment': 'Negative', 'sarcasm': 'No', 'suggestion': 'No', 'suggestion_text': 'None', 'suggestion_type': 'None', 'emotion': 'disappointment', 'tone': 'disappointed', 'urgency_flag': 'Yes', 'impact_level': 'High', 'responsible_party': 'technical support', 'action_flag': 'Yes'}\n"
     ]
    },
    {
     "name": "stderr",
     "output_type": "stream",
     "text": [
      "🔍 Gemini Analysis:  93%|█████████▎| 466/500 [2:19:36<11:13, 19.80s/row]"
     ]
    },
    {
     "name": "stdout",
     "output_type": "stream",
     "text": [
      "✅ Success with key AIzaS: {'final_sentiment': 'Negative', 'sarcasm': 'No', 'suggestion': 'Yes', 'suggestion_text': 'User wants to communicate with management regarding the unaddressed defect.', 'suggestion_type': 'Complaint', 'emotion': 'frustration', 'tone': 'frustrated', 'urgency_flag': 'Yes', 'impact_level': 'High', 'responsible_party': 'management', 'action_flag': 'Yes'}\n"
     ]
    },
    {
     "name": "stderr",
     "output_type": "stream",
     "text": [
      "🔍 Gemini Analysis:  93%|█████████▎| 467/500 [2:19:50<09:53, 17.99s/row]"
     ]
    },
    {
     "name": "stdout",
     "output_type": "stream",
     "text": [
      "✅ Success with key AIzaS: {'final_sentiment': 'Negative', 'sarcasm': 'No', 'suggestion': 'No', 'suggestion_text': 'None', 'suggestion_type': 'None', 'emotion': 'disappointment', 'tone': 'disappointed', 'urgency_flag': 'Yes', 'impact_level': 'High', 'responsible_party': 'customer service', 'action_flag': 'Yes'}\n"
     ]
    },
    {
     "name": "stderr",
     "output_type": "stream",
     "text": [
      "🔍 Gemini Analysis:  94%|█████████▎| 468/500 [2:20:04<09:01, 16.93s/row]"
     ]
    },
    {
     "name": "stdout",
     "output_type": "stream",
     "text": [
      "✅ Success with key AIzaS: {'final_sentiment': 'Positive', 'sarcasm': 'No', 'suggestion': 'No', 'suggestion_text': 'None', 'suggestion_type': 'None', 'emotion': 'satisfaction', 'tone': 'enthusiastic', 'urgency_flag': 'No', 'impact_level': 'High', 'responsible_party': 'None', 'action_flag': 'No'}\n"
     ]
    },
    {
     "name": "stderr",
     "output_type": "stream",
     "text": [
      "🔍 Gemini Analysis:  94%|█████████▍| 469/500 [2:20:25<09:16, 17.96s/row]"
     ]
    },
    {
     "name": "stdout",
     "output_type": "stream",
     "text": [
      "✅ Success with key AIzaS: {'final_sentiment': 'Positive', 'sarcasm': 'No', 'suggestion': 'No', 'suggestion_text': 'None', 'suggestion_type': 'None', 'emotion': 'satisfaction', 'tone': 'grateful', 'urgency_flag': 'No', 'impact_level': 'High', 'responsible_party': 'delivery team', 'action_flag': 'No'}\n"
     ]
    },
    {
     "name": "stderr",
     "output_type": "stream",
     "text": [
      "🔍 Gemini Analysis:  94%|█████████▍| 470/500 [2:20:38<08:16, 16.54s/row]"
     ]
    },
    {
     "name": "stdout",
     "output_type": "stream",
     "text": [
      "✅ Success with key AIzaS: {'final_sentiment': 'Negative', 'sarcasm': 'No', 'suggestion': 'Yes', 'suggestion_text': 'Address cashier slowness during evening hours.', 'suggestion_type': 'Operational Improvement', 'emotion': 'frustration', 'tone': 'frustrated', 'urgency_flag': 'Yes', 'impact_level': 'High', 'responsible_party': 'management', 'action_flag': 'Yes'}\n"
     ]
    },
    {
     "name": "stderr",
     "output_type": "stream",
     "text": [
      "🔍 Gemini Analysis:  94%|█████████▍| 471/500 [2:21:01<08:53, 18.41s/row]"
     ]
    },
    {
     "name": "stdout",
     "output_type": "stream",
     "text": [
      "✅ Success with key AIzaS: {'final_sentiment': 'Positive', 'sarcasm': 'No', 'suggestion': 'No', 'suggestion_text': 'None', 'suggestion_type': 'None', 'emotion': 'gratitude', 'tone': 'grateful', 'urgency_flag': 'No', 'impact_level': 'Low', 'responsible_party': 'None', 'action_flag': 'No'}\n"
     ]
    },
    {
     "name": "stderr",
     "output_type": "stream",
     "text": [
      "🔍 Gemini Analysis:  94%|█████████▍| 472/500 [2:21:13<07:43, 16.57s/row]"
     ]
    },
    {
     "name": "stdout",
     "output_type": "stream",
     "text": [
      "✅ Success with key AIzaS: {'final_sentiment': 'Negative', 'sarcasm': 'No', 'suggestion': 'Yes', 'suggestion_text': 'Request to lower prices', 'suggestion_type': 'Operational Improvement', 'emotion': 'disappointment', 'tone': 'disappointed', 'urgency_flag': 'Yes', 'impact_level': 'High', 'responsible_party': 'management', 'action_flag': 'Yes'}\n"
     ]
    },
    {
     "name": "stderr",
     "output_type": "stream",
     "text": [
      "🔍 Gemini Analysis:  95%|█████████▍| 473/500 [2:21:28<07:13, 16.04s/row]"
     ]
    },
    {
     "name": "stdout",
     "output_type": "stream",
     "text": [
      "✅ Success with key AIzaS: {'final_sentiment': 'Negative', 'sarcasm': 'No', 'suggestion': 'Yes', 'suggestion_text': 'Specialist salespersons should always be available at their product locations to educate customers.', 'suggestion_type': 'Operational Improvement', 'emotion': 'disappointment', 'tone': 'professional', 'urgency_flag': 'No', 'impact_level': 'High', 'responsible_party': 'sales', 'action_flag': 'Yes'}\n"
     ]
    },
    {
     "name": "stderr",
     "output_type": "stream",
     "text": [
      "🔍 Gemini Analysis:  95%|█████████▍| 474/500 [2:21:49<07:38, 17.63s/row]"
     ]
    },
    {
     "name": "stdout",
     "output_type": "stream",
     "text": [
      "✅ Success with key AIzaS: {'final_sentiment': 'Negative', 'sarcasm': 'No', 'suggestion': 'Yes', 'suggestion_text': \"Employees' presence in display areas.\", 'suggestion_type': 'Operational Improvement', 'emotion': 'disappointment', 'tone': 'disappointed', 'urgency_flag': 'No', 'impact_level': 'Low', 'responsible_party': 'management', 'action_flag': 'Yes'}\n"
     ]
    },
    {
     "name": "stderr",
     "output_type": "stream",
     "text": [
      "🔍 Gemini Analysis:  95%|█████████▌| 475/500 [2:22:19<08:52, 21.31s/row]"
     ]
    },
    {
     "name": "stdout",
     "output_type": "stream",
     "text": [
      "✅ Success with key AIzaS: {'final_sentiment': 'Positive', 'sarcasm': 'No', 'suggestion': 'No', 'suggestion_text': 'None', 'suggestion_type': 'None', 'emotion': 'satisfaction', 'tone': 'grateful', 'urgency_flag': 'No', 'impact_level': 'Low', 'responsible_party': 'customer service', 'action_flag': 'No'}\n"
     ]
    },
    {
     "name": "stderr",
     "output_type": "stream",
     "text": [
      "🔍 Gemini Analysis:  95%|█████████▌| 476/500 [2:22:32<07:30, 18.78s/row]"
     ]
    },
    {
     "name": "stdout",
     "output_type": "stream",
     "text": [
      "✅ Success with key AIzaS: {'final_sentiment': 'Negative', 'sarcasm': 'No', 'suggestion': 'Yes', 'suggestion_text': 'Send expert technicians with delivery team to ensure proper installation.', 'suggestion_type': 'Operational Improvement', 'emotion': 'frustration', 'tone': 'professional', 'urgency_flag': 'Yes', 'impact_level': 'High', 'responsible_party': 'delivery team', 'action_flag': 'Yes'}\n"
     ]
    },
    {
     "name": "stderr",
     "output_type": "stream",
     "text": [
      "🔍 Gemini Analysis:  95%|█████████▌| 477/500 [2:22:47<06:47, 17.73s/row]"
     ]
    },
    {
     "name": "stdout",
     "output_type": "stream",
     "text": [
      "✅ Success with key AIzaS: {'final_sentiment': 'Neutral', 'sarcasm': 'No', 'suggestion': 'Yes', 'suggestion_text': 'Improve website ease and fluidity', 'suggestion_type': 'Operational Improvement', 'emotion': 'frustration', 'tone': 'polite', 'urgency_flag': 'No', 'impact_level': 'High', 'responsible_party': 'technical support', 'action_flag': 'Yes'}\n"
     ]
    },
    {
     "name": "stderr",
     "output_type": "stream",
     "text": [
      "🔍 Gemini Analysis:  96%|█████████▌| 478/500 [2:23:06<06:38, 18.11s/row]"
     ]
    },
    {
     "name": "stdout",
     "output_type": "stream",
     "text": [
      "✅ Success with key AIzaS: {'final_sentiment': 'Negative', 'sarcasm': 'No', 'suggestion': 'Yes', 'suggestion_text': 'Delivery team needs professional communication skills.', 'suggestion_type': 'Operational Improvement', 'emotion': 'disappointment', 'tone': 'informal', 'urgency_flag': 'No', 'impact_level': 'High', 'responsible_party': 'delivery team', 'action_flag': 'Yes'}\n"
     ]
    },
    {
     "name": "stderr",
     "output_type": "stream",
     "text": [
      "🔍 Gemini Analysis:  96%|█████████▌| 479/500 [2:23:39<07:54, 22.58s/row]"
     ]
    },
    {
     "name": "stdout",
     "output_type": "stream",
     "text": [
      "✅ Success with key AIzaS: {'final_sentiment': 'Positive', 'sarcasm': 'No', 'suggestion': 'No', 'suggestion_text': 'None', 'suggestion_type': 'None', 'emotion': 'gratitude', 'tone': 'grateful', 'urgency_flag': 'No', 'impact_level': 'Low', 'responsible_party': 'None', 'action_flag': 'No'}\n"
     ]
    },
    {
     "name": "stderr",
     "output_type": "stream",
     "text": [
      "🔍 Gemini Analysis:  96%|█████████▌| 480/500 [2:23:48<06:12, 18.63s/row]"
     ]
    },
    {
     "name": "stdout",
     "output_type": "stream",
     "text": [
      "✅ Success with key AIzaS: {'final_sentiment': 'Neutral', 'sarcasm': 'No', 'suggestion': 'Yes', 'suggestion_text': 'User suggests providing new Sony cameras and their versions at prices cheaper than Amazon.', 'suggestion_type': 'Feature Request', 'emotion': 'disappointment', 'tone': 'informal', 'urgency_flag': 'No', 'impact_level': 'Low', 'responsible_party': 'management', 'action_flag': 'Yes'}\n"
     ]
    },
    {
     "name": "stderr",
     "output_type": "stream",
     "text": [
      "🔍 Gemini Analysis:  96%|█████████▌| 481/500 [2:24:19<07:00, 22.11s/row]"
     ]
    },
    {
     "name": "stdout",
     "output_type": "stream",
     "text": [
      "✅ Success with key AIzaS: {'final_sentiment': 'Negative', 'sarcasm': 'No', 'suggestion': 'Yes', 'suggestion_text': 'Employees should be knowledgeable about the products/services they sell.', 'suggestion_type': 'Operational Improvement', 'emotion': 'frustration', 'tone': 'frustrated', 'urgency_flag': 'Yes', 'impact_level': 'High', 'responsible_party': 'management', 'action_flag': 'Yes'}\n"
     ]
    },
    {
     "name": "stderr",
     "output_type": "stream",
     "text": [
      "🔍 Gemini Analysis:  96%|█████████▋| 482/500 [2:24:30<05:37, 18.74s/row]"
     ]
    },
    {
     "name": "stdout",
     "output_type": "stream",
     "text": [
      "✅ Success with key AIzaS: {'final_sentiment': 'Positive', 'sarcasm': 'No', 'suggestion': 'No', 'suggestion_text': 'None', 'suggestion_type': 'None', 'emotion': 'satisfaction', 'tone': 'informal', 'urgency_flag': 'No', 'impact_level': 'Low', 'responsible_party': 'None', 'action_flag': 'No'}\n"
     ]
    },
    {
     "name": "stderr",
     "output_type": "stream",
     "text": [
      "🔍 Gemini Analysis:  97%|█████████▋| 483/500 [2:24:40<04:33, 16.10s/row]"
     ]
    },
    {
     "name": "stdout",
     "output_type": "stream",
     "text": [
      "✅ Success with key AIzaS: {'final_sentiment': 'Negative', 'sarcasm': 'No', 'suggestion': 'Yes', 'suggestion_text': 'Improve maintenance team efficiency.', 'suggestion_type': 'Operational Improvement', 'emotion': 'disappointment', 'tone': 'professional', 'urgency_flag': 'No', 'impact_level': 'Medium', 'responsible_party': 'delivery team', 'action_flag': 'Yes'}\n"
     ]
    },
    {
     "name": "stderr",
     "output_type": "stream",
     "text": [
      "🔍 Gemini Analysis:  97%|█████████▋| 484/500 [2:25:02<04:49, 18.09s/row]"
     ]
    },
    {
     "name": "stdout",
     "output_type": "stream",
     "text": [
      "✅ Success with key AIzaS: {'final_sentiment': 'Positive', 'sarcasm': 'No', 'suggestion': 'Yes', 'suggestion_text': 'Wider aisles in exhibitions', 'suggestion_type': 'Operational Improvement', 'emotion': 'disappointment', 'tone': 'polite', 'urgency_flag': 'No', 'impact_level': 'Medium', 'responsible_party': 'management', 'action_flag': 'Yes'}\n"
     ]
    },
    {
     "name": "stderr",
     "output_type": "stream",
     "text": [
      "🔍 Gemini Analysis:  97%|█████████▋| 485/500 [2:25:43<06:11, 24.76s/row]"
     ]
    },
    {
     "name": "stdout",
     "output_type": "stream",
     "text": [
      "✅ Success with key AIzaS: {'final_sentiment': 'Positive', 'sarcasm': 'No', 'suggestion': 'No', 'suggestion_text': 'None', 'suggestion_type': 'None', 'emotion': 'satisfaction', 'tone': 'polite', 'urgency_flag': 'No', 'impact_level': 'High', 'responsible_party': 'customer service', 'action_flag': 'No'}\n"
     ]
    },
    {
     "name": "stderr",
     "output_type": "stream",
     "text": [
      "🔍 Gemini Analysis:  97%|█████████▋| 486/500 [2:26:04<05:31, 23.67s/row]"
     ]
    },
    {
     "name": "stdout",
     "output_type": "stream",
     "text": [
      "✅ Success with key AIzaS: {'final_sentiment': 'Negative', 'sarcasm': 'No', 'suggestion': 'No', 'suggestion_text': 'None', 'suggestion_type': 'None', 'emotion': 'anger', 'tone': 'angry', 'urgency_flag': 'Yes', 'impact_level': 'High', 'responsible_party': 'None', 'action_flag': 'Yes'}\n"
     ]
    },
    {
     "name": "stderr",
     "output_type": "stream",
     "text": [
      "🔍 Gemini Analysis:  97%|█████████▋| 487/500 [2:26:21<04:41, 21.66s/row]"
     ]
    },
    {
     "name": "stdout",
     "output_type": "stream",
     "text": [
      "✅ Success with key AIzaS: {'final_sentiment': 'Neutral', 'sarcasm': 'No', 'suggestion': 'Yes', 'suggestion_text': 'Allow direct pickup of all products from the showroom.', 'suggestion_type': 'Operational Improvement', 'emotion': 'disappointment', 'tone': 'polite', 'urgency_flag': 'No', 'impact_level': 'Low', 'responsible_party': 'management', 'action_flag': 'Yes'}\n"
     ]
    },
    {
     "name": "stderr",
     "output_type": "stream",
     "text": [
      "🔍 Gemini Analysis:  98%|█████████▊| 488/500 [2:27:21<06:39, 33.33s/row]"
     ]
    },
    {
     "name": "stdout",
     "output_type": "stream",
     "text": [
      "✅ Success with key AIzaS: {'final_sentiment': 'Positive', 'sarcasm': 'No', 'suggestion': 'No', 'suggestion_text': 'None', 'suggestion_type': 'None', 'emotion': 'satisfaction', 'tone': 'enthusiastic', 'urgency_flag': 'No', 'impact_level': 'Low', 'responsible_party': 'None', 'action_flag': 'No'}\n"
     ]
    },
    {
     "name": "stderr",
     "output_type": "stream",
     "text": [
      "🔍 Gemini Analysis:  98%|█████████▊| 489/500 [2:27:52<05:58, 32.63s/row]"
     ]
    },
    {
     "name": "stdout",
     "output_type": "stream",
     "text": [
      "✅ Success with key AIzaS: {'final_sentiment': 'Positive', 'sarcasm': 'No', 'suggestion': 'No', 'suggestion_text': 'None', 'suggestion_type': 'None', 'emotion': 'satisfaction', 'tone': 'enthusiastic', 'urgency_flag': 'No', 'impact_level': 'Low', 'responsible_party': 'None', 'action_flag': 'No'}\n"
     ]
    },
    {
     "name": "stderr",
     "output_type": "stream",
     "text": [
      "🔍 Gemini Analysis:  98%|█████████▊| 490/500 [2:28:03<04:19, 25.97s/row]"
     ]
    },
    {
     "name": "stdout",
     "output_type": "stream",
     "text": [
      "✅ Success with key AIzaS: {'final_sentiment': 'Positive', 'sarcasm': 'No', 'suggestion': 'Yes', 'suggestion_text': 'Suggests increasing Tabby and Tamara installment options for customer convenience.', 'suggestion_type': 'Feature Request', 'emotion': 'satisfaction', 'tone': 'informal', 'urgency_flag': 'No', 'impact_level': 'Medium', 'responsible_party': 'billing', 'action_flag': 'Yes'}\n"
     ]
    },
    {
     "name": "stderr",
     "output_type": "stream",
     "text": [
      "🔍 Gemini Analysis:  98%|█████████▊| 491/500 [2:28:24<03:40, 24.49s/row]"
     ]
    },
    {
     "name": "stdout",
     "output_type": "stream",
     "text": [
      "✅ Success with key AIzaS: {'final_sentiment': 'Positive', 'sarcasm': 'No', 'suggestion': 'Yes', 'suggestion_text': 'Request for offers, easy payment methods, and installment options.', 'suggestion_type': 'Feature Request', 'emotion': 'satisfaction', 'tone': 'polite', 'urgency_flag': 'No', 'impact_level': 'Medium', 'responsible_party': 'management', 'action_flag': 'Yes'}\n"
     ]
    },
    {
     "name": "stderr",
     "output_type": "stream",
     "text": [
      "🔍 Gemini Analysis:  98%|█████████▊| 492/500 [2:28:54<03:30, 26.30s/row]"
     ]
    },
    {
     "name": "stdout",
     "output_type": "stream",
     "text": [
      "✅ Success with key AIzaS: {'final_sentiment': 'Neutral', 'sarcasm': 'No', 'suggestion': 'Yes', 'suggestion_text': 'User suggests lower prices or ongoing promotions.', 'suggestion_type': 'Operational Improvement', 'emotion': 'disappointment', 'tone': 'informal', 'urgency_flag': 'No', 'impact_level': 'Low', 'responsible_party': 'sales', 'action_flag': 'Yes'}\n"
     ]
    },
    {
     "name": "stderr",
     "output_type": "stream",
     "text": [
      "🔍 Gemini Analysis:  99%|█████████▊| 493/500 [2:29:12<02:46, 23.76s/row]"
     ]
    },
    {
     "name": "stdout",
     "output_type": "stream",
     "text": [
      "✅ Success with key AIzaS: {'final_sentiment': 'Negative', 'sarcasm': 'No', 'suggestion': 'Yes', 'suggestion_text': 'Improve sales person attentiveness', 'suggestion_type': 'Operational Improvement', 'emotion': 'disappointment', 'tone': 'polite', 'urgency_flag': 'No', 'impact_level': 'Medium', 'responsible_party': 'sales', 'action_flag': 'Yes'}\n"
     ]
    },
    {
     "name": "stderr",
     "output_type": "stream",
     "text": [
      "🔍 Gemini Analysis:  99%|█████████▉| 494/500 [2:29:24<02:01, 20.28s/row]"
     ]
    },
    {
     "name": "stdout",
     "output_type": "stream",
     "text": [
      "✅ Success with key AIzaS: {'final_sentiment': 'Negative', 'sarcasm': 'No', 'suggestion': 'No', 'suggestion_text': 'None', 'suggestion_type': 'None', 'emotion': ['frustration', 'disappointment'], 'tone': ['frustrated', 'disappointed'], 'urgency_flag': 'Yes', 'impact_level': 'High', 'responsible_party': 'technical support', 'action_flag': 'Yes'}\n"
     ]
    },
    {
     "name": "stderr",
     "output_type": "stream",
     "text": [
      "🔍 Gemini Analysis:  99%|█████████▉| 495/500 [2:29:40<01:34, 18.92s/row]"
     ]
    },
    {
     "name": "stdout",
     "output_type": "stream",
     "text": [
      "✅ Success with key AIzaS: {'final_sentiment': 'Positive', 'sarcasm': 'No', 'suggestion': 'No', 'suggestion_text': 'None', 'suggestion_type': 'None', 'emotion': 'satisfaction', 'tone': 'polite', 'urgency_flag': 'No', 'impact_level': 'Low', 'responsible_party': 'customer service', 'action_flag': 'No'}\n"
     ]
    },
    {
     "name": "stderr",
     "output_type": "stream",
     "text": [
      "🔍 Gemini Analysis:  99%|█████████▉| 496/500 [2:29:55<01:11, 17.83s/row]"
     ]
    },
    {
     "name": "stdout",
     "output_type": "stream",
     "text": [
      "✅ Success with key AIzaS: {'final_sentiment': 'Negative', 'sarcasm': 'No', 'suggestion': 'Yes', 'suggestion_text': 'User suggests making the maintenance request process easier.', 'suggestion_type': 'Operational Improvement', 'emotion': 'disappointment', 'tone': 'polite', 'urgency_flag': 'No', 'impact_level': 'Medium', 'responsible_party': 'management', 'action_flag': 'Yes'}\n"
     ]
    },
    {
     "name": "stderr",
     "output_type": "stream",
     "text": [
      "🔍 Gemini Analysis:  99%|█████████▉| 497/500 [2:30:06<00:47, 15.79s/row]"
     ]
    },
    {
     "name": "stdout",
     "output_type": "stream",
     "text": [
      "✅ Success with key AIzaS: {'final_sentiment': 'Neutral', 'sarcasm': 'No', 'suggestion': 'No', 'suggestion_text': 'None', 'suggestion_type': 'None', 'emotion': 'satisfaction', 'tone': 'informal', 'urgency_flag': 'No', 'impact_level': 'Low', 'responsible_party': 'None', 'action_flag': 'No'}\n"
     ]
    },
    {
     "name": "stderr",
     "output_type": "stream",
     "text": [
      "🔍 Gemini Analysis: 100%|█████████▉| 498/500 [2:30:38<00:41, 20.60s/row]"
     ]
    },
    {
     "name": "stdout",
     "output_type": "stream",
     "text": [
      "✅ Success with key AIzaS: {'final_sentiment': 'Negative', 'sarcasm': 'No', 'suggestion': 'Yes', 'suggestion_text': 'Call center should operate 24 hours', 'suggestion_type': 'Operational Improvement', 'emotion': 'frustration', 'tone': 'frustrated', 'urgency_flag': 'No', 'impact_level': 'High', 'responsible_party': 'customer service', 'action_flag': 'Yes'}\n"
     ]
    },
    {
     "name": "stderr",
     "output_type": "stream",
     "text": [
      "🔍 Gemini Analysis: 100%|█████████▉| 499/500 [2:30:54<00:19, 19.25s/row]"
     ]
    },
    {
     "name": "stdout",
     "output_type": "stream",
     "text": [
      "✅ Success with key AIzaS: {'final_sentiment': 'Positive', 'sarcasm': 'No', 'suggestion': 'No', 'suggestion_text': 'None', 'suggestion_type': 'None', 'emotion': 'satisfaction', 'tone': 'grateful', 'urgency_flag': 'No', 'impact_level': 'Low', 'responsible_party': 'None', 'action_flag': 'No'}\n"
     ]
    },
    {
     "name": "stderr",
     "output_type": "stream",
     "text": [
      "🔍 Gemini Analysis: 100%|██████████| 500/500 [2:31:04<00:00, 18.13s/row]"
     ]
    },
    {
     "name": "stdout",
     "output_type": "stream",
     "text": [
      "✅ Saved as gemini_sentiment_output.csv\n"
     ]
    },
    {
     "name": "stderr",
     "output_type": "stream",
     "text": [
      "\n"
     ]
    }
   ],
   "source": [
    " run_gemini_pipeline()"
   ]
  },
  {
   "cell_type": "code",
   "execution_count": null,
   "id": "278251b5-e516-4a6c-8ea3-d131882dcb27",
   "metadata": {},
   "outputs": [],
   "source": []
  },
  {
   "cell_type": "code",
   "execution_count": null,
   "id": "af0f33a9-116c-4614-8cac-aa22905f527a",
   "metadata": {},
   "outputs": [],
   "source": []
  }
 ],
 "metadata": {
  "kernelspec": {
   "display_name": "Python [conda env:base] *",
   "language": "python",
   "name": "conda-base-py"
  },
  "language_info": {
   "codemirror_mode": {
    "name": "ipython",
    "version": 3
   },
   "file_extension": ".py",
   "mimetype": "text/x-python",
   "name": "python",
   "nbconvert_exporter": "python",
   "pygments_lexer": "ipython3",
   "version": "3.11.7"
  }
 },
 "nbformat": 4,
 "nbformat_minor": 5
}
